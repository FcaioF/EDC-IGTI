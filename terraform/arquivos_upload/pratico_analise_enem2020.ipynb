{
  "nbformat": 4,
  "nbformat_minor": 0,
  "metadata": {
    "colab": {
      "provenance": []
    },
    "kernelspec": {
      "name": "python3",
      "display_name": "Python 3"
    },
    "language_info": {
      "name": "python"
    },
    "accelerator": "TPU",
    "gpuClass": "standard"
  },
  "cells": [
    {
      "cell_type": "markdown",
      "source": [
        "Instalando Pyspark"
      ],
      "metadata": {
        "id": "ZFqtOr8vVHiJ"
      }
    },
    {
      "cell_type": "code",
      "execution_count": 1,
      "metadata": {
        "colab": {
          "base_uri": "https://localhost:8080/"
        },
        "id": "CnA53h8AQGW8",
        "outputId": "53eb01ab-793f-4362-86f9-53583c2e9d86"
      },
      "outputs": [
        {
          "output_type": "stream",
          "name": "stdout",
          "text": [
            "Looking in indexes: https://pypi.org/simple, https://us-python.pkg.dev/colab-wheels/public/simple/\n",
            "Collecting pyspark\n",
            "  Downloading pyspark-3.4.0.tar.gz (310.8 MB)\n",
            "\u001b[2K     \u001b[90m━━━━━━━━━━━━━━━━━━━━━━━━━━━━━━━━━━━━━━━\u001b[0m \u001b[32m310.8/310.8 MB\u001b[0m \u001b[31m3.5 MB/s\u001b[0m eta \u001b[36m0:00:00\u001b[0m\n",
            "\u001b[?25h  Preparing metadata (setup.py) ... \u001b[?25l\u001b[?25hdone\n",
            "Requirement already satisfied: py4j==0.10.9.7 in /usr/local/lib/python3.10/dist-packages (from pyspark) (0.10.9.7)\n",
            "Building wheels for collected packages: pyspark\n",
            "  Building wheel for pyspark (setup.py) ... \u001b[?25l\u001b[?25hdone\n",
            "  Created wheel for pyspark: filename=pyspark-3.4.0-py2.py3-none-any.whl size=311317130 sha256=466c065aad8a7fda560e5eb58eb9386d2ec55a88ca0d8991e2f113cef9cdcb4e\n",
            "  Stored in directory: /root/.cache/pip/wheels/7b/1b/4b/3363a1d04368e7ff0d408e57ff57966fcdf00583774e761327\n",
            "Successfully built pyspark\n",
            "Installing collected packages: pyspark\n",
            "Successfully installed pyspark-3.4.0\n"
          ]
        }
      ],
      "source": [
        "pip install pyspark"
      ]
    },
    {
      "cell_type": "markdown",
      "source": [
        "instanciando pyspark"
      ],
      "metadata": {
        "id": "5dYslaFMVMgE"
      }
    },
    {
      "cell_type": "code",
      "source": [
        "#imports\n",
        "from pyspark.sql.functions import mean,max,min,col,count\n",
        "from pyspark.sql import SparkSession\n"
      ],
      "metadata": {
        "id": "l8FCWh-eaV_D"
      },
      "execution_count": 5,
      "outputs": []
    },
    {
      "cell_type": "code",
      "source": [
        "#instanciando spark\n",
        "spark = SparkSession.builder \\\n",
        "    .master('local[*]') \\\n",
        "    .appName('spark IGTI') \\\n",
        "    .config('spark.ui.port', '4050') \\\n",
        "    .getOrCreate()"
      ],
      "metadata": {
        "id": "Qh6Hv6SVQJZI"
      },
      "execution_count": 2,
      "outputs": []
    },
    {
      "cell_type": "markdown",
      "source": [
        "Leitura dos dados do enem 2019 e 2020 CSV"
      ],
      "metadata": {
        "id": "XNIIfYsFVXow"
      }
    },
    {
      "cell_type": "code",
      "source": [
        "# #lendo arquivo csv\n",
        "# enem_2019 = (\n",
        "#     spark\n",
        "#     .read\n",
        "#     .format('csv')\n",
        "#     .option('header',True)\n",
        "#     .option('inferSchema',True)\n",
        "#     .option('delimiter',';')\n",
        "#     .load('/content/drive/MyDrive/Documentos/cursos/igti/raw_data/enem/2019/*')\n",
        "# )\n",
        "\n",
        "enem_2020 = (\n",
        "    spark\n",
        "    .read\n",
        "    .format('csv')\n",
        "    .option('header',True)\n",
        "    .option('inferSchema',True)\n",
        "    .option('delimiter',';')\n",
        "    .load('/content/drive/MyDrive/Documentos/cursos/igti/raw_data/enem/2020/*')\n",
        ")"
      ],
      "metadata": {
        "id": "uejotrI3VT5Q"
      },
      "execution_count": null,
      "outputs": []
    },
    {
      "cell_type": "markdown",
      "source": [
        "Escrita dos dados na camada stage em Parquet"
      ],
      "metadata": {
        "id": "qmamq9sItZic"
      }
    },
    {
      "cell_type": "code",
      "source": [
        "#transformando os dados em formato parquet na camada stage\n",
        "(\n",
        "    enem_2019\n",
        "    .write\n",
        "    .mode('overwrite')\n",
        "    .format('parquet')\n",
        "    .partitionBy('NU_ANO')\n",
        "    .save('/content/drive/MyDrive/Documentos/cursos/igti/stage/enem/2019')\n",
        ")\n",
        "\n",
        "(\n",
        "    enem_2020\n",
        "    .write\n",
        "    .mode('overwrite')\n",
        "    .format('parquet')\n",
        "    .partitionBy('NU_ANO')\n",
        "    .save('/content/drive/MyDrive/Documentos/cursos/igti/stage/enem/2020')\n",
        ")"
      ],
      "metadata": {
        "id": "I9zonVMjcGJp"
      },
      "execution_count": 12,
      "outputs": []
    },
    {
      "cell_type": "markdown",
      "source": [
        "Leitura dos dados formato parquet"
      ],
      "metadata": {
        "id": "cMVeS4ZXtg4m"
      }
    },
    {
      "cell_type": "code",
      "source": [
        "#lendo dados em formato parquet particionados\n",
        "# enem_2019 = (\n",
        "#     spark\n",
        "#     .read\n",
        "#     .format('parquet')\n",
        "#     .option('header',True)\n",
        "#     .option('inferSchema',True)\n",
        "#     .option('delimiter',';')\n",
        "#     .load('/content/drive/MyDrive/Documentos/cursos/igti/stage/enem/2019')\n",
        "# )\n",
        "\n",
        "enem_2020 = (\n",
        "    spark\n",
        "    .read\n",
        "    .format('parquet')\n",
        "    .option('header',True)\n",
        "    .option('inferSchema',True)\n",
        "    .option('delimiter',';')\n",
        "    .load('/content/drive/MyDrive/Documentos/cursos/igti/stage/enem/2020')\n",
        ")"
      ],
      "metadata": {
        "id": "raUBwpDJcWf3"
      },
      "execution_count": 4,
      "outputs": []
    },
    {
      "cell_type": "markdown",
      "source": [
        "amostragem dos dados"
      ],
      "metadata": {
        "id": "-YHOXDY5bsZf"
      }
    },
    {
      "cell_type": "code",
      "source": [
        "enem_2020.show(25)"
      ],
      "metadata": {
        "id": "ERX4CD5Bbxlr",
        "outputId": "73d2515f-8028-49c3-ca28-2df0ebb55d10",
        "colab": {
          "base_uri": "https://localhost:8080/"
        }
      },
      "execution_count": 61,
      "outputs": [
        {
          "output_type": "stream",
          "name": "stdout",
          "text": [
            "+------------+---------------+-------+---------------+-----------+----------------+---------------+---------------+---------+---------+------------+----------------+--------------------+---------+---------+----------------------+------------------+---------------+------------------+-------------------+-----------+-----------+--------------+--------------+--------------+--------------+-----------+-----------+-----------+-----------+----------+----------+----------+----------+--------------------+--------------------+--------------------+--------------------+---------+--------------------+--------------------+--------------------+--------------------+-----------------+-------------+-------------+-------------+-------------+-------------+---------------+----+----+----+----+----+----+----+----+----+----+----+----+----+----+----+----+----+----+----+----+----+----+----+----+----+------+\n",
            "|NU_INSCRICAO|TP_FAIXA_ETARIA|TP_SEXO|TP_ESTADO_CIVIL|TP_COR_RACA|TP_NACIONALIDADE|TP_ST_CONCLUSAO|TP_ANO_CONCLUIU|TP_ESCOLA|TP_ENSINO|IN_TREINEIRO|CO_MUNICIPIO_ESC|    NO_MUNICIPIO_ESC|CO_UF_ESC|SG_UF_ESC|TP_DEPENDENCIA_ADM_ESC|TP_LOCALIZACAO_ESC|TP_SIT_FUNC_ESC|CO_MUNICIPIO_PROVA| NO_MUNICIPIO_PROVA|CO_UF_PROVA|SG_UF_PROVA|TP_PRESENCA_CN|TP_PRESENCA_CH|TP_PRESENCA_LC|TP_PRESENCA_MT|CO_PROVA_CN|CO_PROVA_CH|CO_PROVA_LC|CO_PROVA_MT|NU_NOTA_CN|NU_NOTA_CH|NU_NOTA_LC|NU_NOTA_MT|     TX_RESPOSTAS_CN|     TX_RESPOSTAS_CH|     TX_RESPOSTAS_LC|     TX_RESPOSTAS_MT|TP_LINGUA|      TX_GABARITO_CN|      TX_GABARITO_CH|      TX_GABARITO_LC|      TX_GABARITO_MT|TP_STATUS_REDACAO|NU_NOTA_COMP1|NU_NOTA_COMP2|NU_NOTA_COMP3|NU_NOTA_COMP4|NU_NOTA_COMP5|NU_NOTA_REDACAO|Q001|Q002|Q003|Q004|Q005|Q006|Q007|Q008|Q009|Q010|Q011|Q012|Q013|Q014|Q015|Q016|Q017|Q018|Q019|Q020|Q021|Q022|Q023|Q024|Q025|NU_ANO|\n",
            "+------------+---------------+-------+---------------+-----------+----------------+---------------+---------------+---------+---------+------------+----------------+--------------------+---------+---------+----------------------+------------------+---------------+------------------+-------------------+-----------+-----------+--------------+--------------+--------------+--------------+-----------+-----------+-----------+-----------+----------+----------+----------+----------+--------------------+--------------------+--------------------+--------------------+---------+--------------------+--------------------+--------------------+--------------------+-----------------+-------------+-------------+-------------+-------------+-------------+---------------+----+----+----+----+----+----+----+----+----+----+----+----+----+----+----+----+----+----+----+----+----+----+----+----+----+------+\n",
            "|200006271946|             11|      F|              1|          2|               1|              1|             11|        1|     null|           0|            null|                null|     null|     null|                  null|              null|           null|           1501402|              Bel�m|         15|         PA|             0|             0|             0|             0|       null|       null|       null|       null|      null|      null|      null|      null|                null|                null|                null|                null|        1|                null|                null|                null|                null|             null|         null|         null|         null|         null|         null|           null|null|null|null|null|null|null|null|null|null|null|null|null|null|null|null|null|null|null|null|null|null|null|null|null|null|  2020|\n",
            "|200004847343|              8|      M|              1|          3|               1|              1|              6|        1|     null|           0|            null|                null|     null|     null|                  null|              null|           null|           1502400|          Castanhal|         15|         PA|             1|             1|             1|             1|        598|        567|        577|        588|     471.0|     392.9|     518.7|     400.4|EADADADBBEEEDAEED...|EDBACECDBAABDCCCA...|99999AADBBEEAAEBA...|EBCEAEBEDACCCCDAB...|        1|CEDBDDDCACCBDAEBA...|DABCBDDDAEDBECECB...|AAEDCACEEECEAACBA...|AEBCCXCCCACCDABCC...|                1|          140|          120|          120|          120|          140|            640|   D|   G|   A|   D|   3|   F|   A|   C|   C|   A|   A|   B|   A|   A|   A|   A|   A|   A|   A|   A|   A|   A|   A|   A|   A|  2020|\n",
            "|200001195856|             11|      M|              2|          3|               1|              1|             11|        1|     null|           0|            null|                null|     null|     null|                  null|              null|           null|           2408102|              Natal|         24|         RN|             1|             1|             1|             1|        702|        689|        693|        698|     604.1|     661.7|     595.3|     711.3|BCBDBDCCCDBDDBADE...|BCAECABCDCEBDBBBD...|99999CADDEDADBAAB...|EBEBDEDAECBADCADD...|        1|ABBACBCCCDDDDBAEE...|BCEECDBCCDEBDBBBB...|99999CBDDEDBDBACE...|BBEADECAECBBXCEBA...|                1|          120|          120|          120|          120|          100|            580|null|null|null|null|null|null|null|null|null|null|null|null|null|null|null|null|null|null|null|null|null|null|null|null|null|  2020|\n",
            "|200001758771|              1|      F|              1|          3|               1|              3|              0|        1|     null|           1|            null|                null|     null|     null|                  null|              null|           null|           2513703|         Santa Rita|         25|         PB|             1|             1|             1|             1|        597|        569|        580|        587|     376.9|     444.9|     520.8|     537.6|EDDDBDCDBDCDEACBB...|AAABAECDDACABDCEC...|99999BDDACDBDBBDC...|CADDDCEEDBCCEDCEA...|        1|DDBACBDDDECDAEDCC...|DECCADEBDECBBECDD...|DCEAAEEEACAACBBEB...|DABCCAEDBBCCCABCA...|                1|          120|          160|          120|          120|          140|            660|   E|   C|   D|   F|   5|   G|   A|   B|   C|   B|   B|   B|   B|   A|   A|   B|   A|   A|   B|   A|   A|   D|   A|   A|   B|  2020|\n",
            "|200001943954|              4|      F|              2|          3|               2|              2|              0|        2|        1|           0|         2927408|            Salvador|       29|       BA|                     2|                 1|              1|           2927408|           Salvador|         29|         BA|             0|             0|             0|             0|       null|       null|       null|       null|      null|      null|      null|      null|                null|                null|                null|                null|        0|                null|                null|                null|                null|             null|         null|         null|         null|         null|         null|           null|   B|   C|   A|   D|   3|   B|   A|   B|   A|   A|   A|   B|   A|   B|   A|   B|   A|   A|   B|   A|   A|   A|   A|   A|   A|  2020|\n",
            "|200003139640|              3|      M|              1|          3|               1|              2|              0|        2|        1|           0|         2611606|              Recife|       26|       PE|                     1|                 1|              1|           2611606|             Recife|         26|         PE|             1|             1|             1|             1|        702|        689|        693|        698|     532.8|     554.4|     591.0|     605.3|BBCDEAABCDACEBBDA...|BCCAADCCACEBCBBCB...|ADACD99999DEEDCAE...|ABBABEECEABCDACAD...|        0|ABBACBCCCDDDDBAEE...|BCEECDBCCDEBDBBBB...|EDACD99999BEEDBAE...|BBEADECAECBBXCEBA...|                1|          120|          160|          120|          120|          140|            660|null|null|null|null|null|null|null|null|null|null|null|null|null|null|null|null|null|null|null|null|null|null|null|null|null|  2020|\n",
            "|200001908998|              2|      M|              1|          3|               1|              2|              0|        2|        1|           0|         3547304| Santana de Parna�ba|       35|       SP|                     3|                 1|              1|           3547304|Santana de Parna�ba|         35|         SP|             1|             1|             1|             1|        700|        688|        692|        696|     620.8|     675.0|     624.2|     759.4|EBEDCCCDCBDBAECAE...|DABCCACCBCCDCADBD...|DCEAB99999AADAECC...|CBDBDCCDDEECBAABB...|        0|BDECCACBEBDEAEDAE...|DABCCAECBABECADBD...|DCEAD99999AADACCC...|EBDBXCCDAEECBAABA...|                1|          140|          200|          140|          120|          160|            760|null|null|null|null|null|null|null|null|null|null|null|null|null|null|null|null|null|null|null|null|null|null|null|null|null|  2020|\n",
            "|200002021957|              2|      F|              1|          1|               1|              2|              0|        2|        1|           0|         3537008|          Pedregulho|       35|       SP|                     2|                 1|              1|           3516200|             Franca|         35|         SP|             1|             1|             1|             1|        600|        570|        579|        589|     481.0|     583.4|     614.2|     638.7|DCAACDBBCAADCADBA...|BDDEEEECDDBCABBAC...|AACDD99999DBCCADA...|BAACCCBDBEABDBDAD...|        0|DCDXDCCAEBADCBAAE...|BDDBECECBACDBDEEB...|AACDEEEECADBBCAAA...|BAECDBBXCCCBDBACC...|                1|          160|          180|          160|          160|          180|            840|   E|   G|   D|   D|   3|   F|   A|   C|   D|   B|   A|   B|   B|   B|   A|   B|   A|   B|   B|   A|   A|   C|   A|   B|   B|  2020|\n",
            "|200001634757|              4|      F|              1|          3|               2|              1|              1|        1|     null|           0|            null|                null|     null|     null|                  null|              null|           null|           3121605|         Diamantina|         31|         MG|             0|             0|             0|             0|       null|       null|       null|       null|      null|      null|      null|      null|                null|                null|                null|                null|        1|                null|                null|                null|                null|             null|         null|         null|         null|         null|         null|           null|   B|   G|   B|   B|   3|   B|   A|   B|   D|   A|   A|   B|   A|   B|   A|   A|   A|   A|   B|   A|   B|   B|   A|   A|   B|  2020|\n",
            "|200005873595|              3|      F|              1|          3|               1|              2|              0|        2|        1|           0|         3305802|         Teres�polis|       33|       RJ|                     2|                 1|              1|           3305802|        Teres�polis|         33|         RJ|             0|             0|             0|             0|       null|       null|       null|       null|      null|      null|      null|      null|                null|                null|                null|                null|        1|                null|                null|                null|                null|             null|         null|         null|         null|         null|         null|           null|   B|   C|   F|   B|   4|   B|   A|   B|   D|   A|   A|   B|   B|   B|   A|   A|   A|   A|   C|   B|   A|   D|   B|   C|   B|  2020|\n",
            "|200003132410|              3|      F|              1|          3|               1|              1|              1|        1|     null|           0|            null|                null|     null|     null|                  null|              null|           null|           4305207|        Cerro Largo|         43|         RS|             1|             1|             1|             1|        598|        567|        577|        588|     498.1|     604.7|     505.4|     526.7|CABBEEACAEBEBCCDA...|ACEBBDDCADDAACEEA...|99999CBECEBEDBEEC...|BADCAAAEEDBEDBACE...|        1|CEDBDDDCACCBDAEBA...|DABCBDDDAEDBECECB...|AAEDCACEEECEAACBA...|AEBCCXCCCACCDABCC...|                1|          140|          120|          140|          140|          160|            700|   C|   B|   C|   B|   5|   C|   A|   B|   E|   A|   A|   B|   A|   A|   A|   B|   A|   A|   B|   B|   A|   D|   A|   B|   B|  2020|\n",
            "|200002712753|              3|      M|              1|          1|               1|              2|              0|        2|        1|           0|         2307650|           Maracana�|       23|       CE|                     2|                 1|              1|           2307650|          Maracana�|         23|         CE|             0|             0|             0|             0|       null|       null|       null|       null|      null|      null|      null|      null|                null|                null|                null|                null|        0|                null|                null|                null|                null|             null|         null|         null|         null|         null|         null|           null|   H|   H|   F|   F|   3|   B|   A|   B|   C|   A|   A|   B|   A|   A|   A|   A|   A|   A|   B|   A|   A|   C|   A|   A|   A|  2020|\n",
            "|200001379770|              9|      M|              1|          3|               1|              1|              6|        1|     null|           0|            null|                null|     null|     null|                  null|              null|           null|           2611606|             Recife|         26|         PE|             0|             0|             0|             0|       null|       null|       null|       null|      null|      null|      null|      null|                null|                null|                null|                null|        0|                null|                null|                null|                null|             null|         null|         null|         null|         null|         null|           null|null|null|null|null|null|null|null|null|null|null|null|null|null|null|null|null|null|null|null|null|null|null|null|null|null|  2020|\n",
            "|200004373907|              2|      F|              1|          1|               1|              2|              0|        2|        1|           0|         2917508|            Jacobina|       29|       BA|                     2|                 1|              1|           2917508|           Jacobina|         29|         BA|             1|             1|             1|             1|        599|        568|        578|        590|     374.6|     353.5|     482.3|     474.6|ECABECADABEACADAC...|ACCEAABADEEAAAEDD...|99999CAECEBDCDAAA...|BEDCEDCACAAACADCD...|        1|CBDDDDCAAECEDDCED...|BDECBCCDEDDAEBDCD...|CDEAACAEEEBEBADAD...|CABCAACCACDABEEEB...|                1|          120|          120|          100|          120|           20|            480|   E|   E|   C|   B|   4|   B|   A|   C|   D|   A|   A|   B|   A|   B|   A|   A|   A|   A|   B|   A|   A|   D|   A|   A|   B|  2020|\n",
            "|200001334237|              4|      M|              1|          1|               1|              1|              1|        1|     null|           0|            null|                null|     null|     null|                  null|              null|           null|           3550308|          S�o Paulo|         35|         SP|             1|             1|             1|             1|        699|        687|        691|        695|     604.6|     604.8|     562.1|     753.2|CECACBBCADACADDEE...|EAADABBEABCADDBAA...|CADDE99999AEEADBA...|BABADDBDAEBAEBBBE...|        0|DEAAECBBCDCBAEBEE...|EAAADBBEDBDACDBCC...|CADDE99999DEBBBBB...|BABBDABAEEBACBACD...|                1|          140|          120|          120|          120|          100|            600|null|null|null|null|null|null|null|null|null|null|null|null|null|null|null|null|null|null|null|null|null|null|null|null|null|  2020|\n",
            "|200005281186|              2|      F|              1|          1|               1|              1|              2|        1|     null|           0|            null|                null|     null|     null|                  null|              null|           null|           2926707|      Rio de Contas|         29|         BA|             1|             1|             1|             1|        598|        567|        577|        588|     585.8|     590.7|     607.8|     569.1|CABECECAACDBEAEDA...|BBCABDDDADCADCCCB...|99999ACBEAAEECBBA...|DEABDDACDBCDCADAC...|        1|CEDBDDDCACCBDAEBA...|DABCBDDDAEDBECECB...|AAEDCACEEECEAACBA...|AEBCCXCCCACCDABCC...|                1|          160|          200|          160|          180|          200|            900|   A|   C|   C|   B|   3|   A|   A|   B|   C|   A|   A|   B|   A|   A|   A|   A|   A|   A|   A|   A|   A|   C|   A|   A|   A|  2020|\n",
            "|200006762554|              5|      F|              2|          3|               1|              1|              3|        1|     null|           0|            null|                null|     null|     null|                  null|              null|           null|           2507507|        Jo�o Pessoa|         25|         PB|             1|             1|             1|             1|        598|        567|        577|        588|     439.7|     383.5|     486.2|     448.5|DABCDCAEDEDCBEDCD...|ECCAEAEACDDABCBDA...|99999DDCBBABECCAC...|EEDCCEACEBAAAADCD...|        1|CEDBDDDCACCBDAEBA...|DABCBDDDAEDBECECB...|AAEDCACEEECEAACBA...|AEBCCXCCCACCDABCC...|                1|          120|          120|          120|          140|          100|            600|   B|   C|   C|   B|   2|   B|   A|   B|   C|   A|   A|   B|   A|   B|   A|   A|   A|   A|   B|   A|   A|   C|   A|   A|   A|  2020|\n",
            "|200005842715|             12|      F|              1|          1|               1|              1|             13|        1|     null|           0|            null|                null|     null|     null|                  null|              null|           null|           2307304|  Juazeiro do Norte|         23|         CE|             0|             0|             0|             0|       null|       null|       null|       null|      null|      null|      null|      null|                null|                null|                null|                null|        1|                null|                null|                null|                null|             null|         null|         null|         null|         null|         null|           null|   C|   B|   C|   B|   7|   B|   A|   C|   D|   B|   B|   B|   B|   A|   A|   A|   A|   A|   C|   A|   A|   E|   A|   A|   B|  2020|\n",
            "|200005146210|              2|      M|              1|          2|               1|              2|              0|        2|        1|           0|            null|                null|     null|     null|                  null|              null|           null|           2304400|          Fortaleza|         23|         CE|             0|             0|             0|             0|       null|       null|       null|       null|      null|      null|      null|      null|                null|                null|                null|                null|        0|                null|                null|                null|                null|             null|         null|         null|         null|         null|         null|           null|   A|   A|   B|   A|   4|   B|   A|   B|   B|   A|   A|   B|   A|   A|   A|   A|   A|   A|   B|   A|   A|   A|   A|   A|   B|  2020|\n",
            "|200006565621|              1|      F|              1|          3|               1|              2|              0|        2|        1|           0|         2806602|Santo Amaro das B...|       28|       SE|                     2|                 1|              1|           2800308|            Aracaju|         28|         SE|             1|             1|             1|             1|        597|        569|        580|        587|     452.9|     484.9|     478.6|     401.5|DDAEBCCCDEDECDAAD...|AEBCABCBAADCDBEEC...|99999BEEDEDADEEAE...|EABDEABEADCBDDDEB...|        1|DDBACBDDDECDAEDCC...|DECCADEBDECBBECDD...|DCEAAEEEACAACBBEB...|DABCCAEDBBCCCABCA...|                1|          120|          100|          120|          120|           80|            540|   D|   E|   B|   B|   4|   B|   A|   B|   C|   A|   A|   B|   A|   A|   A|   A|   A|   B|   B|   A|   A|   C|   A|   A|   A|  2020|\n",
            "|200004902048|              6|      M|              1|          1|               1|              1|              3|        1|     null|           0|            null|                null|     null|     null|                  null|              null|           null|           3550308|          S�o Paulo|         35|         SP|             0|             0|             0|             0|       null|       null|       null|       null|      null|      null|      null|      null|                null|                null|                null|                null|        0|                null|                null|                null|                null|             null|         null|         null|         null|         null|         null|           null|   B|   B|   B|   B|   7|   B|   A|   B|   C|   A|   A|   B|   A|   A|   A|   B|   A|   A|   B|   A|   A|   C|   B|   B|   B|  2020|\n",
            "|200001261389|              2|      F|              1|          3|               1|              3|              0|        1|     null|           1|            null|                null|     null|     null|                  null|              null|           null|           3205309|            Vit�ria|         32|         ES|             1|             1|             1|             1|        598|        567|        577|        588|     516.2|     500.0|     505.4|     573.3|BACBDECEBCDDEBCBA...|CDBEADEEADDBBADBB...|99999CDBCCAEDBACD...|CEBEDBCCBDCCBACCA...|        1|CEDBDDDCACCBDAEBA...|DABCBDDDAEDBECECB...|AAEDCACEEECEAACBA...|AEBCCXCCCACCDABCC...|                1|          100|          180|          120|          140|          120|            660|   G|   E|   D|   B|   4|   F|   A|   B|   D|   B|   A|   B|   B|   B|   A|   B|   A|   B|   C|   A|   A|   E|   B|   C|   B|  2020|\n",
            "|200006138472|              7|      M|              1|          1|               1|              1|              0|        1|     null|           0|            null|                null|     null|     null|                  null|              null|           null|           2910727|          Eun�polis|         29|         BA|             1|             1|             1|             1|        598|        567|        577|        588|     491.1|     631.4|     627.9|     546.5|BAEACEDBACDDEDECE...|CDEABDDDABDBEABCA...|AACDC99999ABDBEDA...|EBCDBEBABDBBDABCB...|        0|CEDBDDDCACCBDAEBA...|DABCBDDDAEDBECECB...|AAEDCACEEECEAACBA...|AEBCCXCCCACCDABCC...|                1|          140|          120|          140|          120|          120|            640|   B|   C|   C|   B|   5|   B|   A|   B|   C|   A|   A|   B|   A|   A|   A|   A|   B|   A|   B|   A|   A|   C|   A|   B|   B|  2020|\n",
            "|200001299035|              4|      F|              1|          1|               1|              1|              2|        1|     null|           0|            null|                null|     null|     null|                  null|              null|           null|           2211308|   Valen�a do Piau�|         22|         PI|             1|             1|             1|             1|        597|        569|        580|        587|     472.0|     527.5|     460.7|     415.5|EABDEBCBAEDADEDDC...|BAACBAEDBCAEDACBD...|99999EDEADCBECCDA...|BADCCEBDCBEDADCBD...|        1|DDBACBDDDECDAEDCC...|DECCADEBDECBBECDD...|DCEAAEEEACAACBBEB...|DABCCAEDBBCCCABCA...|                1|          140|          120|          120|          140|           60|            580|   C|   C|   A|   A|   5|   A|   A|   B|   C|   A|   A|   B|   A|   A|   A|   A|   A|   A|   B|   B|   A|   C|   A|   A|   A|  2020|\n",
            "|200005613689|              3|      F|              1|          3|               1|              1|              1|        1|     null|           0|            null|                null|     null|     null|                  null|              null|           null|           5008305|        Tr�s Lagoas|         50|         MS|             0|             0|             0|             0|       null|       null|       null|       null|      null|      null|      null|      null|                null|                null|                null|                null|        0|                null|                null|                null|                null|             null|         null|         null|         null|         null|         null|           null|   D|   E|   A|   A|   3|   B|   A|   B|   C|   A|   A|   B|   A|   A|   A|   A|   A|   A|   A|   A|   A|   C|   A|   A|   A|  2020|\n",
            "+------------+---------------+-------+---------------+-----------+----------------+---------------+---------------+---------+---------+------------+----------------+--------------------+---------+---------+----------------------+------------------+---------------+------------------+-------------------+-----------+-----------+--------------+--------------+--------------+--------------+-----------+-----------+-----------+-----------+----------+----------+----------+----------+--------------------+--------------------+--------------------+--------------------+---------+--------------------+--------------------+--------------------+--------------------+-----------------+-------------+-------------+-------------+-------------+-------------+---------------+----+----+----+----+----+----+----+----+----+----+----+----+----+----+----+----+----+----+----+----+----+----+----+----+----+------+\n",
            "only showing top 25 rows\n",
            "\n"
          ]
        }
      ]
    },
    {
      "cell_type": "markdown",
      "source": [
        "pergunta 5: \n",
        "Sobre o ENEM 2020, qual é a média da nota em matemática apenas para as alunas do sexo Feminino?"
      ],
      "metadata": {
        "id": "eA_3WJf3aNBZ"
      }
    },
    {
      "cell_type": "code",
      "source": [
        "(\n",
        "    enem_2020\n",
        "    .groupby('TP_SEXO')\n",
        "    .agg(\n",
        "        mean(col('NU_NOTA_MT')).alias('MED_nota_MT'),\n",
        "        count(col('TP_SEXO')).alias('CONTAGEM'),\n",
        "        max(col('NU_NOTA_MT')).alias('MAX_NOTA_MT'),\n",
        "        min(col('NU_NOTA_MT')).alias('MIN_NOTA_MT')\n",
        "    )\n",
        "  .show()\n",
        ")"
      ],
      "metadata": {
        "id": "TB41MFVCtwFn",
        "outputId": "09da5bfe-721a-4ef7-c2ac-2dc50e89066a",
        "colab": {
          "base_uri": "https://localhost:8080/"
        }
      },
      "execution_count": 8,
      "outputs": [
        {
          "output_type": "stream",
          "name": "stdout",
          "text": [
            "+-------+-----------------+--------+-----------+-----------+\n",
            "|TP_SEXO|      MED_nota_MT|CONTAGEM|MAX_NOTA_MT|MIN_NOTA_MT|\n",
            "+-------+-----------------+--------+-----------+-----------+\n",
            "|      F|500.6864256785847| 3468805|      975.0|        0.0|\n",
            "|      M|550.9087170619425| 2314304|      975.0|        0.0|\n",
            "+-------+-----------------+--------+-----------+-----------+\n",
            "\n"
          ]
        }
      ]
    },
    {
      "cell_type": "markdown",
      "source": [
        "pergunta6: Qual é a média da nota em Ciências Humanas para os alunos do sexo masculino que estudaram numa escola no estado de São Paulo?"
      ],
      "metadata": {
        "id": "DuvkuTYOdpdw"
      }
    },
    {
      "cell_type": "code",
      "source": [
        "#selecionando somente alunos do estado de sp\n",
        "aluno_sp = enem_2020.filter('SG_UF_ESC == \"SP\"')\n",
        "avg_science = (\n",
        "     aluno_sp\n",
        "    .groupby('TP_SEXO')\n",
        "    .agg(\n",
        "        mean(col('NU_NOTA_CH')).alias('avg_science')\n",
        "        )\n",
        "  .show()\n",
        ")"
      ],
      "metadata": {
        "id": "IdkpPU01aqCe",
        "outputId": "cdc51694-e02e-49c4-b34d-08a52e964ac0",
        "colab": {
          "base_uri": "https://localhost:8080/"
        }
      },
      "execution_count": 17,
      "outputs": [
        {
          "output_type": "stream",
          "name": "stdout",
          "text": [
            "+-------+-----------------+\n",
            "|TP_SEXO|      avg_science|\n",
            "+-------+-----------------+\n",
            "|      F|536.6446700687505|\n",
            "|      M|553.6780138704443|\n",
            "+-------+-----------------+\n",
            "\n"
          ]
        }
      ]
    },
    {
      "cell_type": "markdown",
      "source": [
        "Pergunta 7:  Qual é a média da nota em Ciências Humanas dos alunos que estudaram numa escola na cidade de Natal?"
      ],
      "metadata": {
        "id": "qMRRWMqidsrQ"
      }
    },
    {
      "cell_type": "code",
      "source": [
        "alunos_Natal = enem_2020.filter('NO_MUNICIPIO_ESC == \"Natal\"')\n",
        "(\n",
        "    alunos_Natal\n",
        "    .agg(\n",
        "        mean(col('NU_NOTA_CH')).alias('science_avg_natal')\n",
        "    )\n",
        "    .show()\n",
        ")"
      ],
      "metadata": {
        "id": "tFuZYptOd0z9",
        "outputId": "63a15d68-504e-4b80-87d2-46856f6d8f8f",
        "colab": {
          "base_uri": "https://localhost:8080/"
        }
      },
      "execution_count": 27,
      "outputs": [
        {
          "output_type": "stream",
          "name": "stdout",
          "text": [
            "+-----------------+\n",
            "|science_avg_natal|\n",
            "+-----------------+\n",
            "|548.1773212818406|\n",
            "+-----------------+\n",
            "\n"
          ]
        }
      ]
    },
    {
      "cell_type": "markdown",
      "source": [
        "Pergunta8: Qual é o município (município da escola) que obteve a maior nota MÉDIA em matemática?"
      ],
      "metadata": {
        "id": "hFV1Fzt9fux7"
      }
    },
    {
      "cell_type": "code",
      "source": [
        "(\n",
        "    enem_2020\n",
        "    .groupBy('NO_MUNICIPIO_ESC')\n",
        "    .agg(\n",
        "        mean(col('NU_NOTA_MT')).alias('avg_math')\n",
        "    )\n",
        ").createTempView('tb_avg_math')\n",
        "spark.sql('select * from tb_avg_math where tb_avg_math.avg_math > 700' ).show()"
      ],
      "metadata": {
        "id": "4ce80bt2emuQ",
        "outputId": "e8b9b49d-8e56-484d-94e6-ffd2ce7d0680",
        "colab": {
          "base_uri": "https://localhost:8080/"
        }
      },
      "execution_count": 53,
      "outputs": [
        {
          "output_type": "stream",
          "name": "stdout",
          "text": [
            "+-------------------+--------+\n",
            "|   NO_MUNICIPIO_ESC|avg_math|\n",
            "+-------------------+--------+\n",
            "|Santana do Manhua�u|   720.2|\n",
            "|     Pedro Teixeira|   703.4|\n",
            "|          Biquinhas|   784.2|\n",
            "|Santa Clara d'Oeste|   738.0|\n",
            "|             Flora�|   702.7|\n",
            "|       Dolcin�polis|   711.4|\n",
            "|   Coqueiros do Sul|   787.4|\n",
            "|     Novo Itacolomi|   823.2|\n",
            "|             Vanini|   713.4|\n",
            "|           Jesu�nia|   714.7|\n",
            "|         Novo Xingu|   836.1|\n",
            "+-------------------+--------+\n",
            "\n"
          ]
        }
      ]
    },
    {
      "cell_type": "markdown",
      "source": [
        " Pergunta 9: Quantas pessoas que estudaram numa escola em Recife fizeram a prova do ENEM nessa mesma cidade? (tirar duvida!!)"
      ],
      "metadata": {
        "id": "MyRrmFkTj9bb"
      }
    },
    {
      "cell_type": "code",
      "source": [
        "alunos_recife = enem_2020.filter('NO_MUNICIPIO_ESC == \"Recife\"')\n",
        "alunos_recife.count()"
      ],
      "metadata": {
        "id": "_Tc64YZbj7CO",
        "outputId": "1aae93cd-b225-461f-db64-0bee2451f238",
        "colab": {
          "base_uri": "https://localhost:8080/"
        }
      },
      "execution_count": 86,
      "outputs": [
        {
          "output_type": "execute_result",
          "data": {
            "text/plain": [
              "10735"
            ]
          },
          "metadata": {},
          "execution_count": 86
        }
      ]
    },
    {
      "cell_type": "markdown",
      "source": [
        "Pergunta 10: Qual é a nota média em Ciências Humanas dos alunos que estudaram numa escola no estado de Santa Catarina e possuem PELO MENOS 1 banheiro em casa?"
      ],
      "metadata": {
        "id": "CwQbms07oCGP"
      }
    },
    {
      "cell_type": "code",
      "source": [
        "alunos_SC = enem_2020.filter('SG_UF_ESC == \"SC\" and Q008 != \"A\"')\n",
        "(\n",
        "    alunos_SC\n",
        "    .agg(\n",
        "        mean(col('NU_NOTA_CH')).alias('avg_science_sc')\n",
        "    )\n",
        "    .show()\n",
        ")\n"
      ],
      "metadata": {
        "id": "1PE4RBh2oENV",
        "outputId": "95096507-4704-476a-f850-0186a54cdf19",
        "colab": {
          "base_uri": "https://localhost:8080/"
        }
      },
      "execution_count": 87,
      "outputs": [
        {
          "output_type": "stream",
          "name": "stdout",
          "text": [
            "+-----------------+\n",
            "|   avg_science_sc|\n",
            "+-----------------+\n",
            "|545.0439967817795|\n",
            "+-----------------+\n",
            "\n"
          ]
        }
      ]
    },
    {
      "cell_type": "markdown",
      "source": [
        "Pergunta 11: Qual é a nota média em matemática dos alunos cuja mãe possui PELO MENOS o ensino superior completo, do sexo feminino que estudaram numa escola em Belo Horizonte?"
      ],
      "metadata": {
        "id": "niFsxul_snSB"
      }
    },
    {
      "cell_type": "code",
      "source": [
        "# and \n",
        "alunas_BH = enem_2020.filter('NO_MUNICIPIO_ESC == \"Belo Horizonte\" and TP_SEXO == \"F\"')\n",
        "alunas_Mae_superior = alunas_BH.filter('Q002 == \"F\" or Q002 == \"G\"')\n",
        "(\n",
        "    alunas_Mae_superior\n",
        "    .agg(\n",
        "        mean(col('NU_NOTA_MT')).alias('avg_math')\n",
        "    )\n",
        "    .show()\n",
        ")"
      ],
      "metadata": {
        "id": "S2oqYSAAsv-Y",
        "outputId": "127e8fbf-bcb9-4f92-bbd5-52d7a5bb1c3e",
        "colab": {
          "base_uri": "https://localhost:8080/"
        }
      },
      "execution_count": 113,
      "outputs": [
        {
          "output_type": "stream",
          "name": "stdout",
          "text": [
            "+-----------------+\n",
            "|         avg_math|\n",
            "+-----------------+\n",
            "|667.1279782501234|\n",
            "+-----------------+\n",
            "\n"
          ]
        }
      ]
    }
  ]
}