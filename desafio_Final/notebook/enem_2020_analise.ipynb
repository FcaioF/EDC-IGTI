{
 "cells": [
  {
   "cell_type": "code",
   "execution_count": 1,
   "metadata": {},
   "outputs": [],
   "source": [
    "#imports\n",
    "from pyspark.sql import SparkSession\n",
    "from pyspark.sql.functions import * \n",
    "from pyspark.sql.types import *\n",
    "import pandas as pd"
   ]
  },
  {
   "cell_type": "code",
   "execution_count": 2,
   "metadata": {},
   "outputs": [],
   "source": [
    "#instanciando spark \n",
    "spark = SparkSession.builder \\\n",
    "    .master('local[2]') \\\n",
    "    .appName('desafioFInal_EDC') \\\n",
    "    .config('spark.ui.port', '4050') \\\n",
    "    .getOrCreate()"
   ]
  },
  {
   "cell_type": "code",
   "execution_count": 3,
   "metadata": {},
   "outputs": [],
   "source": [
    "bronze_path = 'D://caiof//Documents//GIT_Repos//EDC-IGTI//desafio_Final//base_dados//datalake//bronze'"
   ]
  },
  {
   "cell_type": "code",
   "execution_count": 4,
   "metadata": {},
   "outputs": [
    {
     "name": "stdout",
     "output_type": "stream",
     "text": [
      "+------------+------+---------------+-------+---------------+-----------+----------------+---------------+---------------+---------+---------+------------+----------------+-------------------+---------+---------+----------------------+------------------+---------------+------------------+--------------------+-----------+-----------+--------------+--------------+--------------+--------------+-----------+-----------+-----------+-----------+----------+----------+----------+----------+--------------------+--------------------+--------------------+--------------------+---------+--------------------+--------------------+--------------------+--------------------+-----------------+-------------+-------------+-------------+-------------+-------------+---------------+----+----+----+----+----+----+----+----+----+----+----+----+----+----+----+----+----+----+----+----+----+----+----+----+----+\n",
      "|NU_INSCRICAO|NU_ANO|TP_FAIXA_ETARIA|TP_SEXO|TP_ESTADO_CIVIL|TP_COR_RACA|TP_NACIONALIDADE|TP_ST_CONCLUSAO|TP_ANO_CONCLUIU|TP_ESCOLA|TP_ENSINO|IN_TREINEIRO|CO_MUNICIPIO_ESC|   NO_MUNICIPIO_ESC|CO_UF_ESC|SG_UF_ESC|TP_DEPENDENCIA_ADM_ESC|TP_LOCALIZACAO_ESC|TP_SIT_FUNC_ESC|CO_MUNICIPIO_PROVA|  NO_MUNICIPIO_PROVA|CO_UF_PROVA|SG_UF_PROVA|TP_PRESENCA_CN|TP_PRESENCA_CH|TP_PRESENCA_LC|TP_PRESENCA_MT|CO_PROVA_CN|CO_PROVA_CH|CO_PROVA_LC|CO_PROVA_MT|NU_NOTA_CN|NU_NOTA_CH|NU_NOTA_LC|NU_NOTA_MT|     TX_RESPOSTAS_CN|     TX_RESPOSTAS_CH|     TX_RESPOSTAS_LC|     TX_RESPOSTAS_MT|TP_LINGUA|      TX_GABARITO_CN|      TX_GABARITO_CH|      TX_GABARITO_LC|      TX_GABARITO_MT|TP_STATUS_REDACAO|NU_NOTA_COMP1|NU_NOTA_COMP2|NU_NOTA_COMP3|NU_NOTA_COMP4|NU_NOTA_COMP5|NU_NOTA_REDACAO|Q001|Q002|Q003|Q004|Q005|Q006|Q007|Q008|Q009|Q010|Q011|Q012|Q013|Q014|Q015|Q016|Q017|Q018|Q019|Q020|Q021|Q022|Q023|Q024|Q025|\n",
      "+------------+------+---------------+-------+---------------+-----------+----------------+---------------+---------------+---------+---------+------------+----------------+-------------------+---------+---------+----------------------+------------------+---------------+------------------+--------------------+-----------+-----------+--------------+--------------+--------------+--------------+-----------+-----------+-----------+-----------+----------+----------+----------+----------+--------------------+--------------------+--------------------+--------------------+---------+--------------------+--------------------+--------------------+--------------------+-----------------+-------------+-------------+-------------+-------------+-------------+---------------+----+----+----+----+----+----+----+----+----+----+----+----+----+----+----+----+----+----+----+----+----+----+----+----+----+\n",
      "|200006271946|  2020|             11|      F|              1|          2|               1|              1|             11|        1|     null|           0|            null|               null|     null|     null|                  null|              null|           null|           1501402|               Belém|         15|         PA|             0|             0|             0|             0|       null|       null|       null|       null|      null|      null|      null|      null|                null|                null|                null|                null|        1|                null|                null|                null|                null|             null|         null|         null|         null|         null|         null|           null|null|null|null|null|null|null|null|null|null|null|null|null|null|null|null|null|null|null|null|null|null|null|null|null|null|\n",
      "|200001195856|  2020|             11|      M|              2|          3|               1|              1|             11|        1|     null|           0|            null|               null|     null|     null|                  null|              null|           null|           2408102|               Natal|         24|         RN|             1|             1|             1|             1|        702|        689|        693|        698|     604.1|     661.7|     595.3|     711.3|BCBDBDCCCDBDDBADE...|BCAECABCDCEBDBBBD...|99999CADDEDADBAAB...|EBEBDEDAECBADCADD...|        1|ABBACBCCCDDDDBAEE...|BCEECDBCCDEBDBBBB...|99999CBDDEDBDBACE...|BBEADECAECBBXCEBA...|                1|          120|          120|          120|          120|          100|            580|null|null|null|null|null|null|null|null|null|null|null|null|null|null|null|null|null|null|null|null|null|null|null|null|null|\n",
      "|200001943954|  2020|              4|      F|              2|          3|               2|              2|              0|        2|        1|           0|         2927408|           Salvador|       29|       BA|                     2|                 1|              1|           2927408|            Salvador|         29|         BA|             0|             0|             0|             0|       null|       null|       null|       null|      null|      null|      null|      null|                null|                null|                null|                null|        0|                null|                null|                null|                null|             null|         null|         null|         null|         null|         null|           null|   B|   C|   A|   D|   3|   B|   A|   B|   A|   A|   A|   B|   A|   B|   A|   B|   A|   A|   B|   A|   A|   A|   A|   A|   A|\n",
      "|200001908998|  2020|              2|      M|              1|          3|               1|              2|              0|        2|        1|           0|         3547304|Santana de Parnaíba|       35|       SP|                     3|                 1|              1|           3547304| Santana de Parnaíba|         35|         SP|             1|             1|             1|             1|        700|        688|        692|        696|     620.8|     675.0|     624.2|     759.4|EBEDCCCDCBDBAECAE...|DABCCACCBCCDCADBD...|DCEAB99999AADAECC...|CBDBDCCDDEECBAABB...|        0|BDECCACBEBDEAEDAE...|DABCCAECBABECADBD...|DCEAD99999AADACCC...|EBDBXCCDAEECBAABA...|                1|          140|          200|          140|          120|          160|            760|null|null|null|null|null|null|null|null|null|null|null|null|null|null|null|null|null|null|null|null|null|null|null|null|null|\n",
      "|200001634757|  2020|              4|      F|              1|          3|               2|              1|              1|        1|     null|           0|            null|               null|     null|     null|                  null|              null|           null|           3121605|          Diamantina|         31|         MG|             0|             0|             0|             0|       null|       null|       null|       null|      null|      null|      null|      null|                null|                null|                null|                null|        1|                null|                null|                null|                null|             null|         null|         null|         null|         null|         null|           null|   B|   G|   B|   B|   3|   B|   A|   B|   D|   A|   A|   B|   A|   B|   A|   A|   A|   A|   B|   A|   B|   B|   A|   A|   B|\n",
      "|200003132410|  2020|              3|      F|              1|          3|               1|              1|              1|        1|     null|           0|            null|               null|     null|     null|                  null|              null|           null|           4305207|         Cerro Largo|         43|         RS|             1|             1|             1|             1|        598|        567|        577|        588|     498.1|     604.7|     505.4|     526.7|CABBEEACAEBEBCCDA...|ACEBBDDCADDAACEEA...|99999CBECEBEDBEEC...|BADCAAAEEDBEDBACE...|        1|CEDBDDDCACCBDAEBA...|DABCBDDDAEDBECECB...|AAEDCACEEECEAACBA...|AEBCCXCCCACCDABCC...|                1|          140|          120|          140|          140|          160|            700|   C|   B|   C|   B|   5|   C|   A|   B|   E|   A|   A|   B|   A|   A|   A|   B|   A|   A|   B|   B|   A|   D|   A|   B|   B|\n",
      "|200001379770|  2020|              9|      M|              1|          3|               1|              1|              6|        1|     null|           0|            null|               null|     null|     null|                  null|              null|           null|           2611606|              Recife|         26|         PE|             0|             0|             0|             0|       null|       null|       null|       null|      null|      null|      null|      null|                null|                null|                null|                null|        0|                null|                null|                null|                null|             null|         null|         null|         null|         null|         null|           null|null|null|null|null|null|null|null|null|null|null|null|null|null|null|null|null|null|null|null|null|null|null|null|null|null|\n",
      "|200001334237|  2020|              4|      M|              1|          1|               1|              1|              1|        1|     null|           0|            null|               null|     null|     null|                  null|              null|           null|           3550308|           São Paulo|         35|         SP|             1|             1|             1|             1|        699|        687|        691|        695|     604.6|     604.8|     562.1|     753.2|CECACBBCADACADDEE...|EAADABBEABCADDBAA...|CADDE99999AEEADBA...|BABADDBDAEBAEBBBE...|        0|DEAAECBBCDCBAEBEE...|EAAADBBEDBDACDBCC...|CADDE99999DEBBBBB...|BABBDABAEEBACBACD...|                1|          140|          120|          120|          120|          100|            600|null|null|null|null|null|null|null|null|null|null|null|null|null|null|null|null|null|null|null|null|null|null|null|null|null|\n",
      "|200006762554|  2020|              5|      F|              2|          3|               1|              1|              3|        1|     null|           0|            null|               null|     null|     null|                  null|              null|           null|           2507507|         João Pessoa|         25|         PB|             1|             1|             1|             1|        598|        567|        577|        588|     439.7|     383.5|     486.2|     448.5|DABCDCAEDEDCBEDCD...|ECCAEAEACDDABCBDA...|99999DDCBBABECCAC...|EEDCCEACEBAAAADCD...|        1|CEDBDDDCACCBDAEBA...|DABCBDDDAEDBECECB...|AAEDCACEEECEAACBA...|AEBCCXCCCACCDABCC...|                1|          120|          120|          120|          140|          100|            600|   B|   C|   C|   B|   2|   B|   A|   B|   C|   A|   A|   B|   A|   B|   A|   A|   A|   A|   B|   A|   A|   C|   A|   A|   A|\n",
      "|200005146210|  2020|              2|      M|              1|          2|               1|              2|              0|        2|        1|           0|            null|               null|     null|     null|                  null|              null|           null|           2304400|           Fortaleza|         23|         CE|             0|             0|             0|             0|       null|       null|       null|       null|      null|      null|      null|      null|                null|                null|                null|                null|        0|                null|                null|                null|                null|             null|         null|         null|         null|         null|         null|           null|   A|   A|   B|   A|   4|   B|   A|   B|   B|   A|   A|   B|   A|   A|   A|   A|   A|   A|   B|   A|   A|   A|   A|   A|   B|\n",
      "|200004902048|  2020|              6|      M|              1|          1|               1|              1|              3|        1|     null|           0|            null|               null|     null|     null|                  null|              null|           null|           3550308|           São Paulo|         35|         SP|             0|             0|             0|             0|       null|       null|       null|       null|      null|      null|      null|      null|                null|                null|                null|                null|        0|                null|                null|                null|                null|             null|         null|         null|         null|         null|         null|           null|   B|   B|   B|   B|   7|   B|   A|   B|   C|   A|   A|   B|   A|   A|   A|   B|   A|   A|   B|   A|   A|   C|   B|   B|   B|\n",
      "|200006138472|  2020|              7|      M|              1|          1|               1|              1|              0|        1|     null|           0|            null|               null|     null|     null|                  null|              null|           null|           2910727|           Eunápolis|         29|         BA|             1|             1|             1|             1|        598|        567|        577|        588|     491.1|     631.4|     627.9|     546.5|BAEACEDBACDDEDECE...|CDEABDDDABDBEABCA...|AACDC99999ABDBEDA...|EBCDBEBABDBBDABCB...|        0|CEDBDDDCACCBDAEBA...|DABCBDDDAEDBECECB...|AAEDCACEEECEAACBA...|AEBCCXCCCACCDABCC...|                1|          140|          120|          140|          120|          120|            640|   B|   C|   C|   B|   5|   B|   A|   B|   C|   A|   A|   B|   A|   A|   A|   A|   B|   A|   B|   A|   A|   C|   A|   B|   B|\n",
      "|200005613689|  2020|              3|      F|              1|          3|               1|              1|              1|        1|     null|           0|            null|               null|     null|     null|                  null|              null|           null|           5008305|         Três Lagoas|         50|         MS|             0|             0|             0|             0|       null|       null|       null|       null|      null|      null|      null|      null|                null|                null|                null|                null|        0|                null|                null|                null|                null|             null|         null|         null|         null|         null|         null|           null|   D|   E|   A|   A|   3|   B|   A|   B|   C|   A|   A|   B|   A|   A|   A|   A|   A|   A|   A|   A|   A|   C|   A|   A|   A|\n",
      "|200004833505|  2020|             11|      F|              2|          2|               1|              1|             12|        1|     null|           0|            null|               null|     null|     null|                  null|              null|           null|           3547809|         Santo André|         35|         SP|             0|             0|             0|             0|       null|       null|       null|       null|      null|      null|      null|      null|                null|                null|                null|                null|        1|                null|                null|                null|                null|             null|         null|         null|         null|         null|         null|           null|null|null|null|null|null|null|null|null|null|null|null|null|null|null|null|null|null|null|null|null|null|null|null|null|null|\n",
      "|200004570764|  2020|             11|      M|              1|          2|               1|              1|              0|        1|     null|           0|            null|               null|     null|     null|                  null|              null|           null|           2604007|             Carpina|         26|         PE|             0|             0|             0|             0|       null|       null|       null|       null|      null|      null|      null|      null|                null|                null|                null|                null|        1|                null|                null|                null|                null|             null|         null|         null|         null|         null|         null|           null|   H|   B|   F|   B|   3|   B|   A|   C|   D|   A|   A|   B|   A|   A|   A|   A|   A|   A|   B|   A|   A|   B|   A|   B|   B|\n",
      "|200001071590|  2020|              5|      F|              1|          3|               1|              1|              0|        1|     null|           0|            null|               null|     null|     null|                  null|              null|           null|           2800308|             Aracaju|         28|         SE|             0|             0|             0|             0|       null|       null|       null|       null|      null|      null|      null|      null|                null|                null|                null|                null|        1|                null|                null|                null|                null|             null|         null|         null|         null|         null|         null|           null|null|null|null|null|null|null|null|null|null|null|null|null|null|null|null|null|null|null|null|null|null|null|null|null|null|\n",
      "|200001934470|  2020|              7|      F|              1|          3|               1|              1|              4|        1|     null|           0|            null|               null|     null|     null|                  null|              null|           null|           2933307|Vitória da Conquista|         29|         BA|             0|             0|             0|             0|       null|       null|       null|       null|      null|      null|      null|      null|                null|                null|                null|                null|        1|                null|                null|                null|                null|             null|         null|         null|         null|         null|         null|           null|   A|   B|   F|   F|   3|   B|   A|   B|   C|   A|   A|   B|   B|   A|   A|   A|   A|   A|   B|   A|   A|   C|   A|   B|   B|\n",
      "|200006066678|  2020|              4|      M|              1|          1|               1|              1|              1|        1|     null|           0|            null|               null|     null|     null|                  null|              null|           null|           4106902|            Curitiba|         41|         PR|             0|             0|             0|             0|       null|       null|       null|       null|      null|      null|      null|      null|                null|                null|                null|                null|        0|                null|                null|                null|                null|             null|         null|         null|         null|         null|         null|           null|null|null|null|null|null|null|null|null|null|null|null|null|null|null|null|null|null|null|null|null|null|null|null|null|null|\n",
      "|200003343448|  2020|              7|      F|              1|          3|               1|              1|              3|        1|     null|           0|            null|               null|     null|     null|                  null|              null|           null|           2704302|              Maceió|         27|         AL|             1|             1|             1|             1|        597|        569|        580|        587|     422.4|     488.1|     559.1|     420.3|BDCEDABCECACBDCBB...|CAEADAEEDEDBDDCAB...|CADAA99999ABCBEBD...|BBCCDBEADABBE*CED...|        0|DDBACBDDDECDAEDCC...|DECCADEBDECBBECDD...|DCEAAEEEACAACBBEB...|DABCCAEDBBCCCABCA...|                1|          140|          180|          140|          160|          180|            800|   C|   C|   C|   B|   2|   B|   A|   B|   C|   A|   A|   B|   A|   A|   A|   A|   A|   A|   B|   B|   A|   C|   A|   B|   B|\n",
      "|200005966328|  2020|             13|      M|              1|          2|               1|              1|              0|        1|     null|           0|            null|               null|     null|     null|                  null|              null|           null|           1501402|               Belém|         15|         PA|             1|             1|             1|             1|        600|        570|        579|        589|     486.0|     503.3|     439.8|     405.6|DBEBBBCCDCBCAEBAE...|BABAEABBEDBDCDBBE...|99999EAADBDAABCBD...|BBAADDCCEABAAEBBA...|        1|DCDXDCCAEBADCBAAE...|BDDBECECBACDBDEEB...|AACDEEEECADBBCAAA...|BAECDBBXCCCBDBACC...|                1|          100|          100|          120|          100|           80|            500|   C|   D|   C|   C|   5|   D|   A|   C|   C|   A|   A|   B|   A|   A|   A|   A|   A|   A|   B|   B|   A|   C|   A|   A|   A|\n",
      "+------------+------+---------------+-------+---------------+-----------+----------------+---------------+---------------+---------+---------+------------+----------------+-------------------+---------+---------+----------------------+------------------+---------------+------------------+--------------------+-----------+-----------+--------------+--------------+--------------+--------------+-----------+-----------+-----------+-----------+----------+----------+----------+----------+--------------------+--------------------+--------------------+--------------------+---------+--------------------+--------------------+--------------------+--------------------+-----------------+-------------+-------------+-------------+-------------+-------------+---------------+----+----+----+----+----+----+----+----+----+----+----+----+----+----+----+----+----+----+----+----+----+----+----+----+----+\n",
      "only showing top 20 rows\n",
      "\n"
     ]
    }
   ],
   "source": [
    "##leitura da base de dados\n",
    "enem_df = (\n",
    "    spark\n",
    "    .read\n",
    "    .format('parquet')\n",
    "    .option('header',True)\n",
    "    .option('inferSchema',True)\n",
    "    .option('encoding','ISO-8859-1')\n",
    "    .load(bronze_path)\n",
    ")\n",
    "\n",
    "enem_df.show()"
   ]
  },
  {
   "attachments": {},
   "cell_type": "markdown",
   "metadata": {},
   "source": [
    "1 - Quantos alunos não quiseram declarar a cor/raça em 2020 (Entenda a opção “não declarado” nessa pergunta)?"
   ]
  },
  {
   "cell_type": "code",
   "execution_count": 5,
   "metadata": {},
   "outputs": [
    {
     "name": "stdout",
     "output_type": "stream",
     "text": [
      "116883 alunos não declararam cor/raça\n"
     ]
    }
   ],
   "source": [
    "raca_n_declarado = (\n",
    "    enem_df\n",
    "    .filter(col('TP_COR_RACA') == 0)\n",
    "    .count()\n",
    ")\n",
    "\n",
    "print(raca_n_declarado,'alunos não declararam cor/raça')"
   ]
  },
  {
   "attachments": {},
   "cell_type": "markdown",
   "metadata": {},
   "source": [
    "2 - Qual é o número de alunos do Sexo Feminino que estudaram em escola no estado de São Paulo?"
   ]
  },
  {
   "cell_type": "code",
   "execution_count": 6,
   "metadata": {},
   "outputs": [
    {
     "name": "stdout",
     "output_type": "stream",
     "text": [
      "91480 alunas estudaram em uma escola do estado de são paulo\n"
     ]
    }
   ],
   "source": [
    "f_sp = (\n",
    "    enem_df\n",
    "    .filter((col('SG_UF_ESC') == 'SP') & (col('TP_SEXO') == 'F'))\n",
    "    .count()\n",
    ")\n",
    "\n",
    "print(f_sp,'alunas estudaram em uma escola do estado de são paulo')"
   ]
  },
  {
   "attachments": {},
   "cell_type": "markdown",
   "metadata": {},
   "source": [
    "3 - Quantos alunos do sexo feminino que estudaram em escola no estado do Rio Grande do Sul possuem EXATAMENTE uma geladeira em casa?"
   ]
  },
  {
   "cell_type": "code",
   "execution_count": 7,
   "metadata": {},
   "outputs": [
    {
     "name": "stdout",
     "output_type": "stream",
     "text": [
      "+------------+------+---------------+-------+---------------+-----------+----------------+---------------+---------------+---------+---------+------------+----------------+--------------------+---------+---------+----------------------+------------------+---------------+------------------+------------------+-----------+-----------+--------------+--------------+--------------+--------------+-----------+-----------+-----------+-----------+----------+----------+----------+----------+--------------------+--------------------+--------------------+--------------------+---------+--------------------+--------------------+--------------------+--------------------+-----------------+-------------+-------------+-------------+-------------+-------------+---------------+----+----+----+----+----+----+----+----+----+----+----+----+----+----+----+----+----+----+----+----+----+----+----+----+----+\n",
      "|NU_INSCRICAO|NU_ANO|TP_FAIXA_ETARIA|TP_SEXO|TP_ESTADO_CIVIL|TP_COR_RACA|TP_NACIONALIDADE|TP_ST_CONCLUSAO|TP_ANO_CONCLUIU|TP_ESCOLA|TP_ENSINO|IN_TREINEIRO|CO_MUNICIPIO_ESC|    NO_MUNICIPIO_ESC|CO_UF_ESC|SG_UF_ESC|TP_DEPENDENCIA_ADM_ESC|TP_LOCALIZACAO_ESC|TP_SIT_FUNC_ESC|CO_MUNICIPIO_PROVA|NO_MUNICIPIO_PROVA|CO_UF_PROVA|SG_UF_PROVA|TP_PRESENCA_CN|TP_PRESENCA_CH|TP_PRESENCA_LC|TP_PRESENCA_MT|CO_PROVA_CN|CO_PROVA_CH|CO_PROVA_LC|CO_PROVA_MT|NU_NOTA_CN|NU_NOTA_CH|NU_NOTA_LC|NU_NOTA_MT|     TX_RESPOSTAS_CN|     TX_RESPOSTAS_CH|     TX_RESPOSTAS_LC|     TX_RESPOSTAS_MT|TP_LINGUA|      TX_GABARITO_CN|      TX_GABARITO_CH|      TX_GABARITO_LC|      TX_GABARITO_MT|TP_STATUS_REDACAO|NU_NOTA_COMP1|NU_NOTA_COMP2|NU_NOTA_COMP3|NU_NOTA_COMP4|NU_NOTA_COMP5|NU_NOTA_REDACAO|Q001|Q002|Q003|Q004|Q005|Q006|Q007|Q008|Q009|Q010|Q011|Q012|Q013|Q014|Q015|Q016|Q017|Q018|Q019|Q020|Q021|Q022|Q023|Q024|Q025|\n",
      "+------------+------+---------------+-------+---------------+-----------+----------------+---------------+---------------+---------+---------+------------+----------------+--------------------+---------+---------+----------------------+------------------+---------------+------------------+------------------+-----------+-----------+--------------+--------------+--------------+--------------+-----------+-----------+-----------+-----------+----------+----------+----------+----------+--------------------+--------------------+--------------------+--------------------+---------+--------------------+--------------------+--------------------+--------------------+-----------------+-------------+-------------+-------------+-------------+-------------+---------------+----+----+----+----+----+----+----+----+----+----+----+----+----+----+----+----+----+----+----+----+----+----+----+----+----+\n",
      "|200006123011|  2020|              5|      F|              1|          1|               1|              2|              0|        2|        1|           0|         4313102|          Nova Palma|       43|       RS|                     2|                 1|              1|           4316907|       Santa Maria|         43|         RS|             0|             1|             1|             0|       null|        569|        580|       null|      null|     586.5|     585.1|      null|                null|.DDBA...DE.AA.CDD...|BADAA99999CECBBAA...|                null|        0|                null|DECCADEBDECBBECDD...|DCEAAEEEACAACBBEB...|                null|                1|          180|          200|          180|          200|          200|            960|   C|   C|   B|   B|   5|   B|   A|   B|   D|   A|   A|   B|   B|   B|   A|   A|   A|   A|   B|   A|   A|   C|   A|   B|   B|\n",
      "|200004797066|  2020|              3|      F|              1|          1|               1|              2|              0|        2|        1|           0|         4313102|          Nova Palma|       43|       RS|                     2|                 1|              1|           4316907|       Santa Maria|         43|         RS|             1|             1|             1|             1|        598|        567|        577|        588|     448.5|     600.7|     552.4|     525.7|EAEADEDAACAAEDDBA...|AAACBDDDADCEDBEC....|DADAC99999AACBCBA...|CECADABEDABCAACCA...|        0|CEDBDDDCACCBDAEBA...|DABCBDDDAEDBECECB...|AAEDCACEEECEAACBA...|AEBCCXCCCACCDABCC...|                1|          140|          160|          140|          100|          160|            700|   C|   C|   B|   B|   5|   B|   A|   B|   D|   A|   A|   B|   B|   B|   A|   A|   A|   A|   B|   A|   A|   C|   A|   B|   B|\n",
      "|200002383773|  2020|              3|      F|              1|          3|               1|              2|              0|        2|     null|           0|         4318903|    São Luiz Gonzaga|       43|       RS|                     2|                 1|              1|           4318903|  São Luiz Gonzaga|         43|         RS|             0|             1|             1|             0|       null|        569|        580|       null|      null|     378.3|     329.3|      null|                null|CDAECBCDADEADAECA...|99999BADBBCDDAEAA...|                null|        1|                null|DECCADEBDECBBECDD...|DCEAAEEEACAACBBEB...|                null|                1|          100|          140|           80|           80|           60|            460|   A|   B|   C|   B|  10|   A|   B|   B|   C|   A|   A|   B|   A|   A|   A|   A|   A|   A|   A|   B|   A|   B|   A|   A|   A|\n",
      "|200004814878|  2020|              3|      F|              1|          1|               1|              2|              0|        2|        1|           0|         4306601|         Dom Pedrito|       43|       RS|                     2|                 2|              1|           4306601|       Dom Pedrito|         43|         RS|             1|             1|             1|             1|        599|        568|        578|        590|     571.8|     598.4|     519.5|     502.2|AADBDCCABECCDCEAE...|BBDCADCDEDDAEADCD...|99999CBECBAABADDC...|CCEEECBDABBABEAAD...|        1|CBDDDDCAAECEDDCED...|BDECBCCDEDDAEBDCD...|CDEAACAEEEBEBADAD...|CABCAACCACDABEEEB...|                1|          160|          200|          180|          200|          200|            940|   E|   E|   C|   B|   4|   B|   A|   B|   C|   B|   B|   B|   B|   A|   A|   B|   A|   A|   B|   A|   A|   B|   B|   B|   B|\n",
      "|200005708799|  2020|              2|      F|              1|          1|               1|              2|              0|        2|        1|           0|         4321451|            Teutônia|       43|       RS|                     2|                 1|              1|           4321451|          Teutônia|         43|         RS|             1|             1|             1|             1|        599|        568|        578|        590|     436.7|     491.9|     643.8|     529.1|BAACDADEAACCDEDAE...|EBEAAEAAAEAACBDBD...|99999DAEEEECBAEDD...|ACBDABDECEBAAECDB...|        1|CBDDDDCAAECEDDCED...|BDECBCCDEDDAEBDCD...|CDEAACAEEEBEBADAD...|CABCAACCACDABEEEB...|                1|          140|          200|          140|          120|          160|            760|   C|   E|   D|   D|   4|   H|   A|   D|   E|   C|   A|   C|   B|   B|   A|   B|   A|   B|   D|   B|   B|   E|   B|   D|   B|\n",
      "|200003547950|  2020|              3|      F|              1|          1|               1|              2|              0|        2|        1|           0|         4309209|            Gravataí|       43|       RS|                     2|                 1|              1|           4309209|          Gravataí|         43|         RS|             1|             1|             1|             1|        597|        569|        580|        587|     405.7|     500.9|     503.6|     362.0|ECDCDADBBCABEECAD...|DAECBADBADCABABDD...|99999BDCADCECABDB...|CBCCBAAEDBDCCBCDB...|        1|DDBACBDDDECDAEDCC...|DECCADEBDECBBECDD...|DCEAAEEEACAACBBEB...|DABCCAEDBBCCCABCA...|                1|          120|          120|          140|          120|          100|            600|   E|   E|   D|   B|   2|   D|   A|   C|   C|   B|   A|   C|   B|   B|   A|   B|   A|   B|   E|   B|   B|   B|   A|   B|   B|\n",
      "|200004755323|  2020|              3|      F|              1|          1|               2|              2|              0|        2|        1|           0|         4304606|              Canoas|       43|       RS|                     2|                 1|              1|           4304606|            Canoas|         43|         RS|             1|             1|             1|             1|        598|        567|        577|        588|     577.0|     571.2|     534.8|     511.8|CAEBECDACCDBEDEEA...|DBAABEEDADDEEBEBA...|AADCE99999AAEDEAC...|DEBEDCDEBDABDAACE...|        0|CEDBDDDCACCBDAEBA...|DABCBDDDAEDBECECB...|AAEDCACEEECEAACBA...|AEBCCXCCCACCDABCC...|                1|          160|          200|          200|          200|          200|            960|   E|   E|   C|   F|   3|   C|   A|   B|   C|   B|   A|   B|   A|   A|   A|   B|   A|   A|   B|   A|   B|   D|   B|   B|   B|\n",
      "|200003530915|  2020|              3|      F|              1|          1|               1|              2|              0|        2|        1|           0|         4316907|         Santa Maria|       43|       RS|                     2|                 1|              1|           4316907|       Santa Maria|         43|         RS|             1|             1|             1|             1|        597|        569|        580|        587|     379.9|     462.1|     497.2|     511.8|ADDEBDCADDDDCADCB...|BDAABACBBDACCDCBA...|99999EEDDCDECCBBA...|DADCBEEDCCDCBEEDE...|        1|DDBACBDDDECDAEDCC...|DECCADEBDECBBECDD...|DCEAAEEEACAACBBEB...|DABCCAEDBBCCCABCA...|                1|          180|          200|          200|          200|          200|            980|   E|   E|   D|   D|   5|   E|   A|   B|   D|   B|   A|   B|   B|   A|   A|   B|   A|   A|   C|   A|   A|   D|   A|   B|   B|\n",
      "|200001865466|  2020|              4|      F|              1|          1|               1|              2|              0|        2|        1|           0|         4315602|          Rio Grande|       43|       RS|                     2|                 1|              1|           4315602|        Rio Grande|         43|         RS|             1|             1|             1|             1|        600|        570|        579|        589|     506.2|     462.3|     539.5|     444.3|DAEACECBEBDCEBCEA...|ADBBACCDDEADEACDA...|99999ECC.ADBCCAAB...|BDBEBDCAAEDBCECDD...|        1|DCDXDCCAEBADCBAAE...|BDDBECECBACDBDEEB...|AACDEEEECADBBCAAA...|BAECDBBXCCCBDBACC...|                1|          120|          180|          120|          120|          140|            680|   B|   E|   C|   D|   3|   D|   A|   C|   C|   B|   A|   B|   A|   B|   A|   A|   A|   A|   B|   A|   A|   B|   A|   B|   B|\n",
      "|200005609532|  2020|              2|      F|              1|          1|               1|              2|              0|        2|        1|           0|         4314100|         Passo Fundo|       43|       RS|                     2|                 1|              1|           4314100|       Passo Fundo|         43|         RS|             1|             1|             1|             1|        599|        568|        578|        590|     482.5|     631.3|     600.9|     643.9|CCACADCDBECBDCDAD...|BDDCACCAEDDAABDCD...|CEDAA99999DCBAEAD...|CBEEADCDABBACACBB...|        0|CBDDDDCAAECEDDCED...|BDECBCCDEDDAEBDCD...|CDEAACAEEEBEBADAD...|CABCAACCACDABEEEB...|                1|          180|          160|          160|          200|          180|            880|   B|   B|   C|   B|   4|   D|   A|   B|   D|   B|   B|   B|   B|   A|   A|   B|   A|   B|   C|   A|   A|   D|   A|   B|   B|\n",
      "|200004405339|  2020|              2|      F|              1|          1|               1|              2|              0|        2|        1|           0|         4305108|       Caxias do Sul|       43|       RS|                     2|                 1|              1|           4305108|     Caxias do Sul|         43|         RS|             1|             1|             1|             1|        599|        568|        578|        590|     434.3|     481.8|     614.6|     582.5|BCCEEAADCDBADBEAE...|ABECACBCEDCADCDED...|99999CDEEBCEBDEED...|CCDEABCBDEDABEBCC...|        1|CBDDDDCAAECEDDCED...|BDECBCCDEDDAEBDCD...|CDEAACAEEEBEBADAD...|CABCAACCACDABEEEB...|                1|          140|          180|          160|          200|          200|            880|   D|   E|   D|   C|   3|   F|   A|   B|   C|   B|   A|   B|   B|   B|   A|   B|   A|   A|   B|   A|   B|   D|   B|   B|   B|\n",
      "|200004806663|  2020|              3|      F|              1|          1|               1|              2|              0|        2|        1|           0|         4314902|        Porto Alegre|       43|       RS|                     2|                 1|              1|           4314902|      Porto Alegre|         43|         RS|             0|             0|             0|             0|       null|       null|       null|       null|      null|      null|      null|      null|                null|                null|                null|                null|        1|                null|                null|                null|                null|             null|         null|         null|         null|         null|         null|           null|   B|   C|   C|   B|   3|   B|   A|   B|   C|   A|   A|   B|   A|   B|   A|   B|   A|   A|   B|   A|   A|   D|   A|   B|   B|\n",
      "|200002074619|  2020|              2|      F|              1|          2|               1|              2|              0|        2|        1|           0|         4314902|        Porto Alegre|       43|       RS|                     2|                 1|              1|           4314902|      Porto Alegre|         43|         RS|             1|             1|             1|             1|        597|        569|        580|        587|     554.6|     434.7|     511.5|     547.3|ECBEDEDABDCECEDBD...|CEDABCCECADEDBDDC...|DCEDA99999CEBCBAB...|CACCCADCDACBACBCE...|        0|DDBACBDDDECDAEDCC...|DECCADEBDECBBECDD...|DCEAAEEEACAACBBEB...|DABCCAEDBBCCCABCA...|                1|          140|          200|          120|          120|           80|            660|   E|   E|   D|   D|   2|   E|   A|   B|   C|   A|   A|   B|   B|   B|   A|   B|   A|   B|   C|   B|   B|   C|   B|   A|   B|\n",
      "|200002698602|  2020|              3|      F|              1|          0|               1|              2|              0|        2|        1|           0|         4314902|        Porto Alegre|       43|       RS|                     2|                 1|              1|           4314902|      Porto Alegre|         43|         RS|             1|             1|             1|             1|        700|        688|        692|        696|     558.4|     628.8|     599.7|     630.6|EBEDEBCEACDACDDBE...|BABCCAEDEDBCAADBA...|DCEAD99999CADADAC...|ECDBBCCCDBEDAAACB...|        0|BDECCACBEBDEAEDAE...|DABCCAECBABECADBD...|DCEAD99999AADACCC...|EBDBXCCDAEECBAABA...|                1|          160|          180|          140|          120|          180|            780|null|null|null|null|null|null|null|null|null|null|null|null|null|null|null|null|null|null|null|null|null|null|null|null|null|\n",
      "|200001793542|  2020|              2|      F|              1|          1|               1|              2|              0|        2|        1|           0|         4316907|         Santa Maria|       43|       RS|                     2|                 1|              1|           4316907|       Santa Maria|         43|         RS|             1|             1|             1|             1|        598|        567|        577|        588|     592.4|     667.7|     626.2|     718.7|BEDCEBABCCDDDBEBA...|EAACBDDDAEDBEDBCB...|99999BCEEEAEDBBAD...|EEBCDBCEADCEBADCA...|        1|CEDBDDDCACCBDAEBA...|DABCBDDDAEDBECECB...|AAEDCACEEECEAACBA...|AEBCCXCCCACCDABCC...|                1|          160|          200|          160|          200|          200|            920|   C|   C|   D|   B|   2|   C|   A|   B|   C|   B|   B|   B|   B|   B|   A|   B|   A|   B|   C|   B|   A|   C|   A|   A|   A|\n",
      "|200001501759|  2020|              2|      F|              1|          1|               1|              2|              0|        2|        1|           0|         4320321|Senador Salgado F...|       43|       RS|                     2|                 1|              1|           4317202|        Santa Rosa|         43|         RS|             1|             1|             1|             1|        597|        569|        580|        587|     434.3|     520.9|     449.4|     530.2|EDBEDADBCADBCADCD...|DECBADDEDECABACED...|99999ECEBDDCBEBCA...|CACDAEACAECDDBEBC...|        1|DDBACBDDDECDAEDCC...|DECCADEBDECBBECDD...|DCEAAEEEACAACBBEB...|DABCCAEDBBCCCABCA...|                1|          140|          160|          140|          140|          100|            680|   E|   G|   C|   D|   4|   I|   A|   B|   D|   B|   A|   B|   B|   B|   A|   B|   A|   A|   B|   A|   A|   D|   A|   B|   B|\n",
      "|200005168916|  2020|              4|      F|              1|          1|               1|              2|              0|        2|        1|           0|         4314902|        Porto Alegre|       43|       RS|                     2|                 1|              1|           4314902|      Porto Alegre|         43|         RS|             1|             1|             1|             1|        600|        570|        579|        589|     491.3|     550.8|     612.4|     430.0|DBDCBCCDCBEECBCBD...|BDDBDCBAEECDBCBDC...|99999EEBCCDBCCABA...|BBCCBDDBCEDDEDDBB...|        1|DCDXDCCAEBADCBAAE...|BDDBECECBACDBDEEB...|AACDEEEECADBBCAAA...|BAECDBBXCCCBDBACC...|                1|          100|          100|          100|          120|          100|            520|   C|   D|   C|   D|   4|   D|   A|   B|   C|   A|   A|   B|   A|   A|   A|   A|   A|   A|   B|   A|   A|   B|   B|   B|   B|\n",
      "|200001701170|  2020|              4|      F|              1|          1|               1|              2|              0|        2|        1|           0|         4308102|               Feliz|       43|       RS|                     1|                 2|              1|           4305108|     Caxias do Sul|         43|         RS|             1|             1|             1|             1|        598|        567|        577|        588|     559.1|     617.4|     597.3|     695.9|DADADCDAACBBECDED...|DBCEBDDAAADBECBCA...|DAECC99999BEEBCBD...|AEDEDCBBDBCDDACCC...|        0|CEDBDDDCACCBDAEBA...|DABCBDDDAEDBECECB...|AAEDCACEEECEAACBA...|AEBCCXCCCACCDABCC...|                1|          120|          120|          120|          140|          120|            620|   F|   E|   B|   B|   3|   C|   A|   C|   D|   A|   A|   B|   B|   B|   A|   B|   A|   B|   B|   A|   B|   D|   A|   B|   B|\n",
      "|200006478769|  2020|              2|      F|              1|          1|               1|              2|              0|        2|        1|           0|         4304606|              Canoas|       43|       RS|                     2|                 1|              1|           4304606|            Canoas|         43|         RS|             1|             1|             1|             1|        677|        649|        660|        667|     410.2|     514.6|     549.2|     544.3|AECBDEBDEAACDEBAC...|AAAEECDCACECDDAEB...|EEADD99999DDCEBED...|BBCEEADDCCCACBBCC...|        0|DBDACXDBEAAADECEC...|CDEEAEDCDEDCDDBDB...|EEABEEDADDDDCEBEB...|CDBEAAECBADABCCAE...|                1|          120|          160|          120|          120|           80|            600|   E|   E|   B|   D|   4|   D|   A|   B|   C|   A|   A|   B|   A|   B|   A|   A|   A|   A|   B|   A|   A|   D|   A|   A|   B|\n",
      "|200001786588|  2020|              3|      F|              1|          1|               1|              2|              0|        2|        1|           0|         4314902|        Porto Alegre|       43|       RS|                     2|                 1|              1|           4314902|      Porto Alegre|         43|         RS|             1|             1|             1|             1|        599|        568|        578|        590|     549.3|     547.8|     560.3|     611.1|CBCDEECCAACCDECEE...|BEACADDAEDCAABDCD...|99999DAEDBBEBCEAD...|CEBBCECDABCACCDEB...|        1|CBDDDDCAAECEDDCED...|BDECBCCDEDDAEBDCD...|CDEAACAEEEBEBADAD...|CABCAACCACDABEEEB...|                1|          140|          120|          120|          140|          120|            640|   E|   E|   C|   B|   3|   G|   A|   B|   C|   A|   B|   B|   A|   B|   A|   B|   A|   B|   C|   A|   B|   D|   B|   A|   B|\n",
      "+------------+------+---------------+-------+---------------+-----------+----------------+---------------+---------------+---------+---------+------------+----------------+--------------------+---------+---------+----------------------+------------------+---------------+------------------+------------------+-----------+-----------+--------------+--------------+--------------+--------------+-----------+-----------+-----------+-----------+----------+----------+----------+----------+--------------------+--------------------+--------------------+--------------------+---------+--------------------+--------------------+--------------------+--------------------+-----------------+-------------+-------------+-------------+-------------+-------------+---------------+----+----+----+----+----+----+----+----+----+----+----+----+----+----+----+----+----+----+----+----+----+----+----+----+----+\n",
      "only showing top 20 rows\n",
      "\n"
     ]
    }
   ],
   "source": [
    "#filtrando todas as ALUNAS que estudaram no rio grande do sul \n",
    "f_rs = (\n",
    "    enem_df\n",
    "    .filter((col('SG_UF_ESC') == 'RS') & (col('TP_SEXO') == 'F'))\n",
    ")\n",
    "f_rs.show()"
   ]
  },
  {
   "cell_type": "code",
   "execution_count": 8,
   "metadata": {},
   "outputs": [
    {
     "name": "stdout",
     "output_type": "stream",
     "text": [
      "18680 alunas da rede estadual de ensino do rio grande do sul \n",
      " possuem exatamento uma geladeira em casa\n"
     ]
    }
   ],
   "source": [
    "#filtrando os alunos que possuem uma geladeira na residencia\n",
    "\n",
    "geladeira_1 = (\n",
    "    f_rs\n",
    "    .filter(col('Q012') == 'B')\n",
    "    .count()\n",
    ")\n",
    "\n",
    "print(geladeira_1, 'alunas da rede estadual de ensino do rio grande do sul \\n possuem exatamento uma geladeira em casa')"
   ]
  },
  {
   "attachments": {},
   "cell_type": "markdown",
   "metadata": {},
   "source": [
    "4 - Qual é o segundo estado brasileiro (considere a coluna SG_UF_ESC) em que estudaram mais alunos no ENEM 2020?\n",
    "\n",
    "R: CE"
   ]
  },
  {
   "cell_type": "code",
   "execution_count": 9,
   "metadata": {},
   "outputs": [
    {
     "name": "stdout",
     "output_type": "stream",
     "text": [
      "+---------+-------+\n",
      "|SG_UF_ESC|count  |\n",
      "+---------+-------+\n",
      "|null     |4878540|\n",
      "|SP       |167183 |\n",
      "|CE       |104981 |\n",
      "|MG       |71614  |\n",
      "|RJ       |62583  |\n",
      "+---------+-------+\n",
      "only showing top 5 rows\n",
      "\n"
     ]
    }
   ],
   "source": [
    "(\n",
    "    enem_df\n",
    "    .groupBy('SG_UF_ESC')\n",
    "    .count()\n",
    "    .sort(col('count').desc())\n",
    "    .show(5,truncate=False)\n",
    ")\n"
   ]
  },
  {
   "attachments": {},
   "cell_type": "markdown",
   "metadata": {},
   "source": [
    "5 - Qual é o estado brasileiro (considere a coluna SG_UF_ESC) possui o menor número de alunos cuja mãe possui ensino superior completo?\n",
    "R: RR\n"
   ]
  },
  {
   "cell_type": "code",
   "execution_count": 10,
   "metadata": {},
   "outputs": [
    {
     "name": "stdout",
     "output_type": "stream",
     "text": [
      "+------------+------+---------------+-------+---------------+-----------+----------------+---------------+---------------+---------+---------+------------+----------------+----------------+---------+---------+----------------------+------------------+---------------+------------------+-------------------+-----------+-----------+--------------+--------------+--------------+--------------+-----------+-----------+-----------+-----------+----------+----------+----------+----------+--------------------+--------------------+--------------------+--------------------+---------+--------------------+--------------------+--------------------+--------------------+-----------------+-------------+-------------+-------------+-------------+-------------+---------------+----+----+----+----+----+----+----+----+----+----+----+----+----+----+----+----+----+----+----+----+----+----+----+----+----+\n",
      "|NU_INSCRICAO|NU_ANO|TP_FAIXA_ETARIA|TP_SEXO|TP_ESTADO_CIVIL|TP_COR_RACA|TP_NACIONALIDADE|TP_ST_CONCLUSAO|TP_ANO_CONCLUIU|TP_ESCOLA|TP_ENSINO|IN_TREINEIRO|CO_MUNICIPIO_ESC|NO_MUNICIPIO_ESC|CO_UF_ESC|SG_UF_ESC|TP_DEPENDENCIA_ADM_ESC|TP_LOCALIZACAO_ESC|TP_SIT_FUNC_ESC|CO_MUNICIPIO_PROVA| NO_MUNICIPIO_PROVA|CO_UF_PROVA|SG_UF_PROVA|TP_PRESENCA_CN|TP_PRESENCA_CH|TP_PRESENCA_LC|TP_PRESENCA_MT|CO_PROVA_CN|CO_PROVA_CH|CO_PROVA_LC|CO_PROVA_MT|NU_NOTA_CN|NU_NOTA_CH|NU_NOTA_LC|NU_NOTA_MT|     TX_RESPOSTAS_CN|     TX_RESPOSTAS_CH|     TX_RESPOSTAS_LC|     TX_RESPOSTAS_MT|TP_LINGUA|      TX_GABARITO_CN|      TX_GABARITO_CH|      TX_GABARITO_LC|      TX_GABARITO_MT|TP_STATUS_REDACAO|NU_NOTA_COMP1|NU_NOTA_COMP2|NU_NOTA_COMP3|NU_NOTA_COMP4|NU_NOTA_COMP5|NU_NOTA_REDACAO|Q001|Q002|Q003|Q004|Q005|Q006|Q007|Q008|Q009|Q010|Q011|Q012|Q013|Q014|Q015|Q016|Q017|Q018|Q019|Q020|Q021|Q022|Q023|Q024|Q025|\n",
      "+------------+------+---------------+-------+---------------+-----------+----------------+---------------+---------------+---------+---------+------------+----------------+----------------+---------+---------+----------------------+------------------+---------------+------------------+-------------------+-----------+-----------+--------------+--------------+--------------+--------------+-----------+-----------+-----------+-----------+----------+----------+----------+----------+--------------------+--------------------+--------------------+--------------------+---------+--------------------+--------------------+--------------------+--------------------+-----------------+-------------+-------------+-------------+-------------+-------------+---------------+----+----+----+----+----+----+----+----+----+----+----+----+----+----+----+----+----+----+----+----+----+----+----+----+----+\n",
      "|200005474387|  2020|              3|      M|              1|          1|               1|              1|              1|        1|     null|           0|            null|            null|     null|     null|                  null|              null|           null|           3171303|             Viçosa|         31|         MG|             1|             1|             1|             1|        599|        568|        578|        590|     466.8|     530.0|     499.1|     383.7|BADBACBCEDECADEAB...|DBEDABCADCAADBDCD...|CAAAC99999ACCEBAB...|CACACDEBDAABBABBB...|        0|CBDDDDCAAECEDDCED...|BDECBCCDEDDAEBDCD...|CDEAACAEEEBEBADAD...|CABCAACCACDABEEEB...|                1|          160|          160|          180|          200|          200|            900|   E|   F|   A|   D|   3|   B|   A|   B|   D|   C|   B|   B|   A|   B|   A|   B|   A|   A|   B|   B|   A|   E|   A|   B|   B|\n",
      "|200002163508|  2020|             11|      F|              1|          1|               1|              1|              8|        1|     null|           0|            null|            null|     null|     null|                  null|              null|           null|           4314407|            Pelotas|         43|         RS|             1|             0|             0|             1|        598|       null|       null|        588|     517.5|      null|      null|     596.7|DEEBAAECCECBECEEE...|                null|                null|ABBDDBBCCECACACCB...|        1|CEDBDDDCACCBDAEBA...|                null|                null|AEBCCXCCCACCDABCC...|             null|         null|         null|         null|         null|         null|           null|   E|   F|   C|   D|   3|   C|   A|   B|   C|   A|   B|   B|   B|   B|   A|   B|   A|   A|   B|   A|   A|   B|   A|   A|   B|\n",
      "|200005107592|  2020|              5|      F|              0|          3|               1|              1|              3|        1|     null|           0|            null|            null|     null|     null|                  null|              null|           null|           1600303|             Macapá|         16|         AP|             0|             0|             0|             0|       null|       null|       null|       null|      null|      null|      null|      null|                null|                null|                null|                null|        0|                null|                null|                null|                null|             null|         null|         null|         null|         null|         null|           null|   B|   F|   F|   B|   3|   A|   A|   B|   B|   A|   A|   B|   A|   A|   A|   A|   A|   A|   B|   A|   A|   C|   A|   A|   A|\n",
      "|200004573910|  2020|              7|      F|              1|          1|               1|              1|              4|        1|     null|           0|            null|            null|     null|     null|                  null|              null|           null|           4106902|           Curitiba|         41|         PR|             1|             1|             1|             1|        598|        567|        577|        588|     671.9|     700.7|     666.3|     819.2|DAEBDDABBCCBDAEAA...|DBBABDDDAEDBCCECA...|DADDC99999CEAACBA...|AEBCCBCCCACDDAECE...|        0|CEDBDDDCACCBDAEBA...|DABCBDDDAEDBECECB...|AAEDCACEEECEAACBA...|AEBCCXCCCACCDABCC...|                1|          160|          200|          160|          160|          180|            860|   G|   G|   D|   D|   3|   M|   A|   C|   D|   C|   A|   B|   B|   B|   B|   B|   A|   B|   B|   B|   A|   D|   B|   C|   B|\n",
      "|200005690186|  2020|              9|      M|              1|          2|               1|              1|              6|        1|     null|           0|            null|            null|     null|     null|                  null|              null|           null|           1721000|             Palmas|         17|         TO|             1|             1|             1|             1|        599|        568|        578|        590|     642.1|     722.5|     637.2|     580.7|CDDBDDACCECCDDCEE...|BDECBCCDEDDAABDCD...|CEEAA99999DEBAEAD...|CDBDACCBADDADBAEB...|        0|CBDDDDCAAECEDDCED...|BDECBCCDEDDAEBDCD...|CDEAACAEEEBEBADAD...|CABCAACCACDABEEEB...|                1|          160|          160|          140|          160|          140|            760|   G|   G|   D|   D|   3|   F|   A|   B|   C|   A|   A|   B|   B|   A|   A|   B|   A|   A|   B|   A|   A|   D|   A|   C|   B|\n",
      "|200002411827|  2020|             14|      F|              1|          3|               1|              1|             14|        1|     null|           0|            null|            null|     null|     null|                  null|              null|           null|           2211001|           Teresina|         22|         PI|             0|             0|             0|             0|       null|       null|       null|       null|      null|      null|      null|      null|                null|                null|                null|                null|        0|                null|                null|                null|                null|             null|         null|         null|         null|         null|         null|           null|   F|   F|   D|   E|   1|   G|   A|   C|   C|   B|   A|   B|   A|   A|   A|   B|   A|   A|   B|   A|   A|   B|   A|   B|   B|\n",
      "|200001114589|  2020|              2|      M|              1|          1|               1|              3|              0|        1|     null|           1|            null|            null|     null|     null|                  null|              null|           null|           5201108|           Anápolis|         52|         GO|             1|             1|             1|             1|        599|        568|        578|        590|     462.7|     536.5|     546.6|     563.3|ADACEDECAEBADBAAD...|EABCAACCECDADADCE...|BDDBA99999DCDDCDD...|EEEAAECCCEBACEDEB...|        0|CBDDDDCAAECEDDCED...|BDECBCCDEDDAEBDCD...|CDEAACAEEEBEBADAD...|CABCAACCACDABEEEB...|                1|           80|          120|           80|           80|           80|            440|   E|   G|   D|   E|   4|   G|   A|   D|   D|   C|   A|   B|   B|   B|   A|   A|   A|   B|   B|   A|   B|   E|   A|   C|   B|\n",
      "|200006008472|  2020|              3|      M|              1|          1|               1|              1|              1|        1|     null|           0|            null|            null|     null|     null|                  null|              null|           null|           4106902|           Curitiba|         41|         PR|             0|             0|             0|             0|       null|       null|       null|       null|      null|      null|      null|      null|                null|                null|                null|                null|        0|                null|                null|                null|                null|             null|         null|         null|         null|         null|         null|           null|   G|   F|   E|   D|   4|   L|   A|   E|   E|   E|   A|   B|   B|   B|   B|   B|   A|   B|   E|   B|   B|   E|   B|   E|   B|\n",
      "|200003543162|  2020|              8|      M|              1|          3|               1|              1|              6|        1|     null|           0|            null|            null|     null|     null|                  null|              null|           null|           1721000|             Palmas|         17|         TO|             0|             0|             0|             0|       null|       null|       null|       null|      null|      null|      null|      null|                null|                null|                null|                null|        0|                null|                null|                null|                null|             null|         null|         null|         null|         null|         null|           null|   C|   F|   C|   D|   1|   B|   A|   B|   C|   A|   B|   B|   B|   B|   A|   A|   A|   A|   B|   A|   A|   B|   B|   B|   B|\n",
      "|200001282748|  2020|              3|      F|              1|          2|               1|              1|              1|        1|     null|           0|            null|            null|     null|     null|                  null|              null|           null|           3302700|             Maricá|         33|         RJ|             0|             1|             1|             0|       null|        567|        577|       null|      null|     482.9|     434.1|      null|                null|ADABBBDEACBDDEEAC...|DECCC99999ABCABDD...|                null|        0|                null|DABCBDDDAEDBECECB...|AAEDCACEEECEAACBA...|                null|                1|          120|          120|          120|          120|           60|            540|   C|   F|   F|   D|   4|   H|   A|   C|   C|   B|   A|   B|   B|   B|   A|   A|   A|   A|   C|   B|   A|   A|   A|   B|   B|\n",
      "|200004524964|  2020|              3|      M|              1|          4|               1|              1|              1|        1|     null|           0|            null|            null|     null|     null|                  null|              null|           null|           3527108|               Lins|         35|         SP|             1|             1|             1|             1|        597|        569|        580|        587|     629.8|     703.5|     610.7|     815.3|DDDECBCBCECEAECCC...|DEACABEEDECBBACDD...|BCECA99999DACABEB...|DABCCDEABCECCDBCA...|        0|DDBACBDDDECDAEDCC...|DECCADEBDECBBECDD...|DCEAAEEEACAACBBEB...|DABCCAEDBBCCCABCA...|                1|          180|          200|          200|          200|          160|            940|   E|   G|   C|   B|   4|   F|   A|   E|   D|   C|   A|   C|   A|   C|   A|   B|   A|   B|   D|   A|   A|   E|   A|   B|   B|\n",
      "|200002137483|  2020|              1|      F|              1|          1|               1|              3|              0|        1|     null|           1|            null|            null|     null|     null|                  null|              null|           null|           3541406|Presidente Prudente|         35|         SP|             0|             0|             0|             0|       null|       null|       null|       null|      null|      null|      null|      null|                null|                null|                null|                null|        0|                null|                null|                null|                null|             null|         null|         null|         null|         null|         null|           null|   E|   G|   D|   E|   4|   I|   B|   E|   E|   B|   A|   D|   C|   B|   B|   C|   B|   B|   B|   B|   B|   E|   A|   E|   B|\n",
      "|200006580111|  2020|             11|      F|              1|          3|               1|              1|             12|        1|     null|           0|            null|            null|     null|     null|                  null|              null|           null|           2901007|           Amargosa|         29|         BA|             1|             1|             1|             1|        599|        568|        578|        590|     466.9|     599.4|     596.1|     582.8|DADCEACEBBADDDAAC...|BBECDCBDEEDACBDCD...|99999DCDEDDEBDDDD...|CADECACEDBAACAEBB...|        1|CBDDDDCAAECEDDCED...|BDECBCCDEDDAEBDCD...|CDEAACAEEEBEBADAD...|CABCAACCACDABEEEB...|                1|          160|          120|          160|          140|          120|            700|   F|   G|   B|   D|   2|   E|   A|   B|   B|   A|   A|   B|   A|   A|   A|   A|   A|   A|   B|   A|   A|   B|   A|   A|   B|\n",
      "|200006268918|  2020|              1|      F|              1|          3|               1|              3|              0|        1|     null|           1|            null|            null|     null|     null|                  null|              null|           null|           2103000|             Caxias|         21|         MA|             1|             1|             1|             1|        599|        568|        578|        590|     372.2|     493.8|     525.2|     608.6|EDCBBCBCDCDACBDAE...|BDBEADABADDABBBBA...|99999BCECBAEBDCDC...|CBEDDEEBBCAACECEB...|        1|CBDDDDCAAECEDDCED...|BDECBCCDEDDAEBDCD...|CDEAACAEEEBEBADAD...|CABCAACCACDABEEEB...|                1|          120|          120|          120|          120|          100|            580|   F|   G|   D|   D|   3|   H|   A|   C|   C|   B|   B|   B|   B|   B|   A|   B|   A|   A|   C|   B|   A|   D|   A|   B|   B|\n",
      "|200002649699|  2020|              6|      F|              1|          2|               1|              1|              5|        1|     null|           0|            null|            null|     null|     null|                  null|              null|           null|           2211001|           Teresina|         22|         PI|             0|             0|             0|             0|       null|       null|       null|       null|      null|      null|      null|      null|                null|                null|                null|                null|        0|                null|                null|                null|                null|             null|         null|         null|         null|         null|         null|           null|   C|   G|   C|   D|   4|   G|   A|   C|   D|   C|   A|   B|   B|   A|   A|   A|   A|   A|   C|   A|   A|   E|   B|   B|   B|\n",
      "|200002969228|  2020|              1|      M|              1|          1|               1|              3|              0|        1|     null|           1|            null|            null|     null|     null|                  null|              null|           null|           4106407|  Cornélio Procópio|         41|         PR|             1|             1|             1|             1|        600|        570|        579|        589|     514.6|     586.0|     575.7|     644.4|DADCDEBCACBBCEADB...|BADCACECDDBDAABAE...|99999ECBCADBACCEA...|BACCDAEDAADADBCCA...|        1|DCDXDCCAEBADCBAAE...|BDDBECECBACDBDEEB...|AACDEEEECADBBCAAA...|BAECDBBXCCCBDBACC...|                1|          100|           40|           40|          100|           40|            320|   G|   G|   D|   D|   4|   E|   A|   D|   D|   C|   C|   B|   B|   C|   A|   B|   A|   B|   D|   B|   B|   E|   A|   D|   B|\n",
      "|200002126510|  2020|              4|      F|              1|          1|               1|              1|              1|        1|     null|           0|            null|            null|     null|     null|                  null|              null|           null|           3306008|          Três Rios|         33|         RJ|             1|             1|             1|             1|        597|        569|        580|        587|     582.1|     658.2|     646.4|     602.4|ACEAE.DBDEBEAECEC...|AECABDEBDEE*CCCDB...|DC.AA99999DBCBBED...|DACCAEEDECBDCDACE...|        0|DDBACBDDDECDAEDCC...|DECCADEBDECBBECDD...|DCEAAEEEACAACBBEB...|DABCCAEDBBCCCABCA...|                1|          180|          200|          200|          180|          200|            960|   E|   G|   D|   E|   2|   E|   A|   C|   C|   B|   A|   B|   B|   B|   A|   B|   A|   B|   D|   A|   A|   C|   B|   B|   B|\n",
      "|200004650752|  2020|              1|      F|              1|          1|               1|              3|              0|        1|     null|           1|            null|            null|     null|     null|                  null|              null|           null|           5205406|              Ceres|         52|         GO|             0|             0|             0|             0|       null|       null|       null|       null|      null|      null|      null|      null|                null|                null|                null|                null|        0|                null|                null|                null|                null|             null|         null|         null|         null|         null|         null|           null|   E|   F|   F|   F|   5|   C|   B|   C|   D|   B|   A|   B|   A|   B|   A|   B|   A|   A|   B|   A|   A|   D|   A|   B|   B|\n",
      "|200003735094|  2020|              9|      F|              1|          3|               1|              1|              7|        1|     null|           0|            null|            null|     null|     null|                  null|              null|           null|           3550308|          São Paulo|         35|         SP|             1|             1|             1|             1|        597|        569|        580|        587|     539.1|     648.3|     605.5|     505.7|DDEDDABCADCEAEBEB...|DECCADEBBECBACACB...|CCDAA99999C.CBBEB...|ABDACEEEDDBCCECBD...|        0|DDBACBDDDECDAEDCC...|DECCADEBDECBBECDD...|DCEAAEEEACAACBBEB...|DABCCAEDBBCCCABCA...|                1|          140|          120|          120|          120|          100|            600|   E|   G|   D|   D|   4|   J|   A|   B|   C|   A|   A|   B|   A|   B|   A|   B|   A|   B|   C|   A|   A|   D|   B|   A|   B|\n",
      "|200003643154|  2020|              2|      F|              1|          1|               1|              3|              0|        1|     null|           1|            null|            null|     null|     null|                  null|              null|           null|           2512903|          Rio Tinto|         25|         PB|             0|             0|             0|             0|       null|       null|       null|       null|      null|      null|      null|      null|                null|                null|                null|                null|        0|                null|                null|                null|                null|             null|         null|         null|         null|         null|         null|           null|   F|   F|   E|   E|   3|   D|   A|   C|   D|   B|   A|   B|   B|   B|   A|   B|   A|   A|   C|   A|   A|   D|   A|   A|   B|\n",
      "+------------+------+---------------+-------+---------------+-----------+----------------+---------------+---------------+---------+---------+------------+----------------+----------------+---------+---------+----------------------+------------------+---------------+------------------+-------------------+-----------+-----------+--------------+--------------+--------------+--------------+-----------+-----------+-----------+-----------+----------+----------+----------+----------+--------------------+--------------------+--------------------+--------------------+---------+--------------------+--------------------+--------------------+--------------------+-----------------+-------------+-------------+-------------+-------------+-------------+---------------+----+----+----+----+----+----+----+----+----+----+----+----+----+----+----+----+----+----+----+----+----+----+----+----+----+\n",
      "only showing top 20 rows\n",
      "\n"
     ]
    }
   ],
   "source": [
    "#filtrando todos os alunos que a mãe possui ensino superior\n",
    "conditions = ['F','G']\n",
    "mae_superior = (\n",
    "    enem_df\n",
    "    .filter(col('Q002').isin(conditions))\n",
    "    .sort(col('SG_UF_ESC'))\n",
    ")\n",
    "\n",
    "mae_superior.show()\n"
   ]
  },
  {
   "cell_type": "code",
   "execution_count": 11,
   "metadata": {},
   "outputs": [
    {
     "name": "stdout",
     "output_type": "stream",
     "text": [
      "+---------+-----+\n",
      "|SG_UF_ESC|count|\n",
      "+---------+-----+\n",
      "|       RR|  795|\n",
      "|       AP|  930|\n",
      "|       AC|  932|\n",
      "|       SE| 1824|\n",
      "|       TO| 2013|\n",
      "|       RO| 2071|\n",
      "|       AL| 2553|\n",
      "|       PI| 3195|\n",
      "|       RN| 3225|\n",
      "|       MS| 3583|\n",
      "|       PB| 3750|\n",
      "|       AM| 3989|\n",
      "|       MA| 4442|\n",
      "|       MT| 4460|\n",
      "|       ES| 4556|\n",
      "|       PA| 6061|\n",
      "|       DF| 7563|\n",
      "|       CE| 7738|\n",
      "|       SC| 7876|\n",
      "|       GO| 7966|\n",
      "+---------+-----+\n",
      "only showing top 20 rows\n",
      "\n"
     ]
    }
   ],
   "source": [
    "(\n",
    "    mae_superior\n",
    "    .groupBy('SG_UF_ESC')\n",
    "    .count()\n",
    "    .sort(col('count').asc())\n",
    "    .show()\n",
    ")"
   ]
  },
  {
   "attachments": {},
   "cell_type": "markdown",
   "metadata": {},
   "source": [
    "6 - Qual é o segundo estado brasileiro (considere a coluna SG_UF_ESC) que possui o maior número de pessoas na faixa “entre 26 e 30 anos”?\n",
    "R: AM"
   ]
  },
  {
   "cell_type": "code",
   "execution_count": 12,
   "metadata": {},
   "outputs": [
    {
     "name": "stdout",
     "output_type": "stream",
     "text": [
      "+------------+------+---------------+-------+---------------+-----------+----------------+---------------+---------------+---------+---------+------------+----------------+----------------+---------+---------+----------------------+------------------+---------------+------------------+------------------+-----------+-----------+--------------+--------------+--------------+--------------+-----------+-----------+-----------+-----------+----------+----------+----------+----------+--------------------+--------------------+--------------------+--------------------+---------+--------------------+--------------------+--------------------+--------------------+-----------------+-------------+-------------+-------------+-------------+-------------+---------------+----+----+----+----+----+----+----+----+----+----+----+----+----+----+----+----+----+----+----+----+----+----+----+----+----+\n",
      "|NU_INSCRICAO|NU_ANO|TP_FAIXA_ETARIA|TP_SEXO|TP_ESTADO_CIVIL|TP_COR_RACA|TP_NACIONALIDADE|TP_ST_CONCLUSAO|TP_ANO_CONCLUIU|TP_ESCOLA|TP_ENSINO|IN_TREINEIRO|CO_MUNICIPIO_ESC|NO_MUNICIPIO_ESC|CO_UF_ESC|SG_UF_ESC|TP_DEPENDENCIA_ADM_ESC|TP_LOCALIZACAO_ESC|TP_SIT_FUNC_ESC|CO_MUNICIPIO_PROVA|NO_MUNICIPIO_PROVA|CO_UF_PROVA|SG_UF_PROVA|TP_PRESENCA_CN|TP_PRESENCA_CH|TP_PRESENCA_LC|TP_PRESENCA_MT|CO_PROVA_CN|CO_PROVA_CH|CO_PROVA_LC|CO_PROVA_MT|NU_NOTA_CN|NU_NOTA_CH|NU_NOTA_LC|NU_NOTA_MT|     TX_RESPOSTAS_CN|     TX_RESPOSTAS_CH|     TX_RESPOSTAS_LC|     TX_RESPOSTAS_MT|TP_LINGUA|      TX_GABARITO_CN|      TX_GABARITO_CH|      TX_GABARITO_LC|      TX_GABARITO_MT|TP_STATUS_REDACAO|NU_NOTA_COMP1|NU_NOTA_COMP2|NU_NOTA_COMP3|NU_NOTA_COMP4|NU_NOTA_COMP5|NU_NOTA_REDACAO|Q001|Q002|Q003|Q004|Q005|Q006|Q007|Q008|Q009|Q010|Q011|Q012|Q013|Q014|Q015|Q016|Q017|Q018|Q019|Q020|Q021|Q022|Q023|Q024|Q025|\n",
      "+------------+------+---------------+-------+---------------+-----------+----------------+---------------+---------------+---------+---------+------------+----------------+----------------+---------+---------+----------------------+------------------+---------------+------------------+------------------+-----------+-----------+--------------+--------------+--------------+--------------+-----------+-----------+-----------+-----------+----------+----------+----------+----------+--------------------+--------------------+--------------------+--------------------+---------+--------------------+--------------------+--------------------+--------------------+-----------------+-------------+-------------+-------------+-------------+-------------+---------------+----+----+----+----+----+----+----+----+----+----+----+----+----+----+----+----+----+----+----+----+----+----+----+----+----+\n",
      "|200006271946|  2020|             11|      F|              1|          2|               1|              1|             11|        1|     null|           0|            null|            null|     null|     null|                  null|              null|           null|           1501402|             Belém|         15|         PA|             0|             0|             0|             0|       null|       null|       null|       null|      null|      null|      null|      null|                null|                null|                null|                null|        1|                null|                null|                null|                null|             null|         null|         null|         null|         null|         null|           null|null|null|null|null|null|null|null|null|null|null|null|null|null|null|null|null|null|null|null|null|null|null|null|null|null|\n",
      "|200001195856|  2020|             11|      M|              2|          3|               1|              1|             11|        1|     null|           0|            null|            null|     null|     null|                  null|              null|           null|           2408102|             Natal|         24|         RN|             1|             1|             1|             1|        702|        689|        693|        698|     604.1|     661.7|     595.3|     711.3|BCBDBDCCCDBDDBADE...|BCAECABCDCEBDBBBD...|99999CADDEDADBAAB...|EBEBDEDAECBADCADD...|        1|ABBACBCCCDDDDBAEE...|BCEECDBCCDEBDBBBB...|99999CBDDEDBDBACE...|BBEADECAECBBXCEBA...|                1|          120|          120|          120|          120|          100|            580|null|null|null|null|null|null|null|null|null|null|null|null|null|null|null|null|null|null|null|null|null|null|null|null|null|\n",
      "|200004833505|  2020|             11|      F|              2|          2|               1|              1|             12|        1|     null|           0|            null|            null|     null|     null|                  null|              null|           null|           3547809|       Santo André|         35|         SP|             0|             0|             0|             0|       null|       null|       null|       null|      null|      null|      null|      null|                null|                null|                null|                null|        1|                null|                null|                null|                null|             null|         null|         null|         null|         null|         null|           null|null|null|null|null|null|null|null|null|null|null|null|null|null|null|null|null|null|null|null|null|null|null|null|null|null|\n",
      "|200004570764|  2020|             11|      M|              1|          2|               1|              1|              0|        1|     null|           0|            null|            null|     null|     null|                  null|              null|           null|           2604007|           Carpina|         26|         PE|             0|             0|             0|             0|       null|       null|       null|       null|      null|      null|      null|      null|                null|                null|                null|                null|        1|                null|                null|                null|                null|             null|         null|         null|         null|         null|         null|           null|   H|   B|   F|   B|   3|   B|   A|   C|   D|   A|   A|   B|   A|   A|   A|   A|   A|   A|   B|   A|   A|   B|   A|   B|   B|\n",
      "|200002713413|  2020|             11|      M|              1|          3|               1|              1|             11|        1|     null|           0|            null|            null|     null|     null|                  null|              null|           null|           4106902|          Curitiba|         41|         PR|             0|             0|             0|             0|       null|       null|       null|       null|      null|      null|      null|      null|                null|                null|                null|                null|        1|                null|                null|                null|                null|             null|         null|         null|         null|         null|         null|           null|   F|   E|   C|   C|   1|   C|   A|   B|   B|   A|   A|   B|   A|   B|   A|   B|   A|   A|   B|   A|   A|   B|   A|   B|   B|\n",
      "|200001086897|  2020|             11|      F|              1|          2|               1|              1|              6|        1|     null|           0|            null|            null|     null|     null|                  null|              null|           null|           2927408|          Salvador|         29|         BA|             0|             1|             1|             0|       null|        570|        579|       null|      null|     475.1|     553.4|      null|                null|BDDBEEDCBDCDCCADA...|AACCB99999DBCCEDA...|                null|        0|                null|BDDBECECBACDBDEEB...|AACDEEEECADBBCAAA...|                null|                1|          120|          120|          100|          100|           80|            520|   E|   E|   D|   B|   3|   B|   A|   B|   D|   A|   A|   B|   A|   A|   A|   A|   A|   A|   C|   A|   A|   C|   A|   A|   B|\n",
      "|200006187506|  2020|             11|      M|              1|          1|               1|              1|              0|        1|     null|           0|            null|            null|     null|     null|                  null|              null|           null|           3507506|          Botucatu|         35|         SP|             0|             0|             0|             0|       null|       null|       null|       null|      null|      null|      null|      null|                null|                null|                null|                null|        0|                null|                null|                null|                null|             null|         null|         null|         null|         null|         null|           null|   B|   B|   A|   A|   2|   B|   A|   B|   D|   A|   A|   B|   B|   B|   B|   B|   A|   A|   B|   A|   A|   C|   A|   B|   B|\n",
      "|200004415977|  2020|             11|      M|              1|          3|               1|              1|              0|        1|     null|           0|            null|            null|     null|     null|                  null|              null|           null|           3515004|    Embu das Artes|         35|         SP|             1|             1|             1|             1|        600|        570|        579|        589|     526.8|     545.2|     572.7|     533.9|DAECDDCECEEDCDABA...|BDBEAEEDEDCDBECDE...|ADAAC99999DBBCAAC...|BDBEBBBCBCABCDCCE...|        0|DCDXDCCAEBADCBAAE...|BDDBECECBACDBDEEB...|AACDEEEECADBBCAAA...|BAECDBBXCCCBDBACC...|                1|          120|          120|          120|          120|          140|            620|   D|   E|   C|   B|   1|   C|   A|   B|   B|   A|   A|   B|   B|   B|   A|   A|   A|   A|   B|   A|   B|   B|   A|   A|   B|\n",
      "|200003852394|  2020|             11|      F|              1|          3|               1|              1|              9|        1|     null|           0|            null|            null|     null|     null|                  null|              null|           null|           3152105|        Ponte Nova|         31|         MG|             0|             0|             0|             0|       null|       null|       null|       null|      null|      null|      null|      null|                null|                null|                null|                null|        0|                null|                null|                null|                null|             null|         null|         null|         null|         null|         null|           null|   B|   B|   F|   B|   2|   A|   A|   B|   C|   A|   A|   B|   A|   A|   A|   A|   A|   A|   B|   A|   A|   C|   A|   A|   B|\n",
      "|200004951701|  2020|             11|      M|              2|          3|               1|              1|              9|        1|     null|           0|            null|            null|     null|     null|                  null|              null|           null|           2301901|          Barbalha|         23|         CE|             1|             1|             1|             1|        600|        570|        579|        589|     515.4|     390.3|     504.7|     397.3|DACBACBBCDCBABDBC...|AADDCCACBDCBCCAAC...|99999ABCBADACCADB...|BCDABCBCBADCACACD...|        1|DCDXDCCAEBADCBAAE...|BDDBECECBACDBDEEB...|AACDEEEECADBBCAAA...|BAECDBBXCCCBDBACC...|                1|          140|           40|           40|          120|           40|            380|   B|   A|   D|   A|   2|   C|   A|   B|   C|   A|   A|   B|   A|   B|   A|   A|   A|   A|   B|   A|   B|   D|   A|   A|   B|\n",
      "|200006103866|  2020|             11|      F|              1|          1|               1|              1|             11|        1|     null|           0|            null|            null|     null|     null|                  null|              null|           null|           5002704|      Campo Grande|         50|         MS|             0|             0|             0|             0|       null|       null|       null|       null|      null|      null|      null|      null|                null|                null|                null|                null|        0|                null|                null|                null|                null|             null|         null|         null|         null|         null|         null|           null|null|null|null|null|null|null|null|null|null|null|null|null|null|null|null|null|null|null|null|null|null|null|null|null|null|\n",
      "|200005318733|  2020|             11|      M|              1|          3|               1|              1|              0|        1|     null|           0|            null|            null|     null|     null|                  null|              null|           null|           4106902|          Curitiba|         41|         PR|             0|             0|             0|             0|       null|       null|       null|       null|      null|      null|      null|      null|                null|                null|                null|                null|        1|                null|                null|                null|                null|             null|         null|         null|         null|         null|         null|           null|   D|   C|   C|   B|   2|   C|   A|   B|   C|   A|   A|   B|   A|   A|   A|   A|   A|   A|   B|   A|   A|   C|   A|   A|   B|\n",
      "|200006093562|  2020|             11|      M|              1|          3|               1|              1|              0|        1|     null|           0|            null|            null|     null|     null|                  null|              null|           null|           2312908|            Sobral|         23|         CE|             0|             0|             0|             0|       null|       null|       null|       null|      null|      null|      null|      null|                null|                null|                null|                null|        1|                null|                null|                null|                null|             null|         null|         null|         null|         null|         null|           null|   E|   E|   B|   B|   4|   B|   A|   B|   B|   A|   B|   B|   A|   A|   A|   A|   A|   A|   B|   A|   A|   B|   A|   A|   B|\n",
      "|200005909927|  2020|             11|      F|              2|          0|               1|              1|              0|        1|     null|           0|            null|            null|     null|     null|                  null|              null|           null|           1501402|             Belém|         15|         PA|             0|             0|             0|             0|       null|       null|       null|       null|      null|      null|      null|      null|                null|                null|                null|                null|        1|                null|                null|                null|                null|             null|         null|         null|         null|         null|         null|           null|null|null|null|null|null|null|null|null|null|null|null|null|null|null|null|null|null|null|null|null|null|null|null|null|null|\n",
      "|200005059841|  2020|             11|      F|              1|          3|               1|              1|             10|        1|     null|           0|            null|            null|     null|     null|                  null|              null|           null|           2908101|             Cocos|         29|         BA|             0|             0|             0|             0|       null|       null|       null|       null|      null|      null|      null|      null|                null|                null|                null|                null|        1|                null|                null|                null|                null|             null|         null|         null|         null|         null|         null|           null|   H|   E|   A|   B|   2|   B|   A|   B|   C|   A|   A|   B|   A|   A|   A|   A|   A|   A|   B|   B|   A|   B|   A|   A|   B|\n",
      "|200006791969|  2020|             11|      M|              2|          1|               1|              1|              0|        1|     null|           0|            null|            null|     null|     null|                  null|              null|           null|           5300108|          Brasília|         53|         DF|             0|             0|             0|             0|       null|       null|       null|       null|      null|      null|      null|      null|                null|                null|                null|                null|        1|                null|                null|                null|                null|             null|         null|         null|         null|         null|         null|           null|null|null|null|null|null|null|null|null|null|null|null|null|null|null|null|null|null|null|null|null|null|null|null|null|null|\n",
      "|200006475325|  2020|             11|      F|              1|          1|               1|              1|              8|        1|     null|           0|            null|            null|     null|     null|                  null|              null|           null|           4314407|           Pelotas|         43|         RS|             0|             1|             1|             0|       null|        568|        578|       null|      null|     578.5|     548.1|      null|                null|CDDCEEBBEDDACBDCD...|99999DCEEEEDBDEED...|                null|        1|                null|BDECBCCDEDDAEBDCD...|CDEAACAEEEBEBADAD...|                null|                1|          140|          120|          120|          140|           40|            560|   H|   C|   F|   B|   2|   C|   A|   B|   C|   A|   A|   B|   A|   B|   A|   A|   A|   A|   B|   A|   A|   B|   A|   A|   A|\n",
      "|200004401576|  2020|             11|      F|              1|          3|               1|              1|              0|        1|     null|           0|            null|            null|     null|     null|                  null|              null|           null|           3526902|           Limeira|         35|         SP|             0|             0|             0|             0|       null|       null|       null|       null|      null|      null|      null|      null|                null|                null|                null|                null|        0|                null|                null|                null|                null|             null|         null|         null|         null|         null|         null|           null|null|null|null|null|null|null|null|null|null|null|null|null|null|null|null|null|null|null|null|null|null|null|null|null|null|\n",
      "|200003043036|  2020|             11|      M|              1|          2|               1|              1|              8|        1|     null|           0|            null|            null|     null|     null|                  null|              null|           null|           3146107|        Ouro Preto|         31|         MG|             0|             1|             1|             0|       null|        568|        578|       null|      null|     569.4|     575.1|      null|                null|BDACADCDEECAABDEE...|99999DCCCCBCBAEAD...|                null|        1|                null|BDECBCCDEDDAEBDCD...|CDEAACAEEEBEBADAD...|                null|                1|           80|          120|          120|          120|           40|            480|   E|   E|   C|   B|   7|   C|   A|   B|   E|   A|   A|   B|   A|   B|   A|   A|   A|   A|   D|   A|   B|   E|   B|   C|   B|\n",
      "|200004741513|  2020|             11|      F|              1|          1|               1|              1|             11|        1|     null|           0|            null|            null|     null|     null|                  null|              null|           null|           4106902|          Curitiba|         41|         PR|             0|             1|             1|             0|       null|        688|        692|       null|      null|     550.9|     542.6|      null|                null|EABCCAECEACCAADBC...|99999EDBBAAEBACCA...|                null|        1|                null|DABCCAECBABECADBD...|99999BDCEDAEEABCB...|                null|                1|          160|          200|          180|          200|          120|            860|null|null|null|null|null|null|null|null|null|null|null|null|null|null|null|null|null|null|null|null|null|null|null|null|null|\n",
      "+------------+------+---------------+-------+---------------+-----------+----------------+---------------+---------------+---------+---------+------------+----------------+----------------+---------+---------+----------------------+------------------+---------------+------------------+------------------+-----------+-----------+--------------+--------------+--------------+--------------+-----------+-----------+-----------+-----------+----------+----------+----------+----------+--------------------+--------------------+--------------------+--------------------+---------+--------------------+--------------------+--------------------+--------------------+-----------------+-------------+-------------+-------------+-------------+-------------+---------------+----+----+----+----+----+----+----+----+----+----+----+----+----+----+----+----+----+----+----+----+----+----+----+----+----+\n",
      "only showing top 20 rows\n",
      "\n"
     ]
    }
   ],
   "source": [
    "m_age = (\n",
    "    enem_df\n",
    "    .filter(col('TP_FAIXA_ETARIA') == 11)\n",
    ")\n",
    "\n",
    "m_age.show()\n"
   ]
  },
  {
   "cell_type": "code",
   "execution_count": 13,
   "metadata": {},
   "outputs": [
    {
     "name": "stdout",
     "output_type": "stream",
     "text": [
      "+---------+------+\n",
      "|SG_UF_ESC| count|\n",
      "+---------+------+\n",
      "|     null|567071|\n",
      "|       CE|  1880|\n",
      "|       AM|   828|\n",
      "|       SP|   580|\n",
      "|       GO|   518|\n",
      "|       PA|   479|\n",
      "|       PE|   461|\n",
      "|       RJ|   456|\n",
      "|       BA|   450|\n",
      "|       MG|   432|\n",
      "|       PR|   221|\n",
      "|       RO|   215|\n",
      "|       PB|   201|\n",
      "|       RS|   195|\n",
      "|       SE|   183|\n",
      "|       MA|   160|\n",
      "|       PI|   154|\n",
      "|       TO|   150|\n",
      "|       RN|   121|\n",
      "|       ES|   117|\n",
      "+---------+------+\n",
      "only showing top 20 rows\n",
      "\n"
     ]
    }
   ],
   "source": [
    "(\n",
    "    m_age\n",
    "    .groupBy('SG_UF_ESC')\n",
    "    .count()\n",
    "    .sort(col('count').desc())\n",
    "    .show()\n",
    ")"
   ]
  },
  {
   "attachments": {},
   "cell_type": "markdown",
   "metadata": {},
   "source": [
    "7 - Qual é o estado brasileiro (considere a coluna SG_UF_ESC) que possui o TERCEIRO maior número de alunos cuja residência possui PELO MENOS 2 banheiros?\n",
    "R: RJ"
   ]
  },
  {
   "cell_type": "code",
   "execution_count": 14,
   "metadata": {},
   "outputs": [],
   "source": [
    "#filtrando todos os registros em que o aluno possui pelo menos 2 banheiros\n",
    "conditions  = ['C','D','E']\n",
    "\n",
    "banheiros = (\n",
    "        enem_df\n",
    "        .filter(col('Q008').isin(conditions))\n",
    ")"
   ]
  },
  {
   "cell_type": "code",
   "execution_count": 15,
   "metadata": {},
   "outputs": [
    {
     "name": "stdout",
     "output_type": "stream",
     "text": [
      "+---------+-------+\n",
      "|SG_UF_ESC|  count|\n",
      "+---------+-------+\n",
      "|     null|1151573|\n",
      "|       SP|  83502|\n",
      "|       MG|  30912|\n",
      "|       RJ|  24367|\n",
      "|       PR|  20938|\n",
      "|       CE|  15533|\n",
      "|       GO|  14562|\n",
      "|       RS|  14470|\n",
      "|       SC|  13104|\n",
      "|       BA|  13057|\n",
      "|       PE|  11518|\n",
      "|       DF|  10231|\n",
      "|       PA|   8055|\n",
      "|       ES|   7185|\n",
      "|       PB|   5978|\n",
      "|       AM|   5843|\n",
      "|       MT|   5826|\n",
      "|       RN|   5439|\n",
      "|       MA|   5373|\n",
      "|       MS|   4995|\n",
      "+---------+-------+\n",
      "only showing top 20 rows\n",
      "\n"
     ]
    }
   ],
   "source": [
    "(\n",
    "    banheiros\n",
    "    .groupBy('SG_UF_ESC')\n",
    "    .count()\n",
    "    .sort(col('count').desc())\n",
    "    .show()\n",
    ")"
   ]
  },
  {
   "attachments": {},
   "cell_type": "markdown",
   "metadata": {},
   "source": [
    "8 - Quantos alunos do sexo feminino se autodeclararam pretos?"
   ]
  },
  {
   "cell_type": "code",
   "execution_count": 16,
   "metadata": {},
   "outputs": [
    {
     "name": "stdout",
     "output_type": "stream",
     "text": [
      "+------------+------+---------------+-------+---------------+-----------+----------------+---------------+---------------+---------+---------+------------+----------------+-------------------+---------+---------+----------------------+------------------+---------------+------------------+--------------------+-----------+-----------+--------------+--------------+--------------+--------------+-----------+-----------+-----------+-----------+----------+----------+----------+----------+--------------------+--------------------+--------------------+--------------------+---------+--------------------+--------------------+--------------------+--------------------+-----------------+-------------+-------------+-------------+-------------+-------------+---------------+----+----+----+----+----+----+----+----+----+----+----+----+----+----+----+----+----+----+----+----+----+----+----+----+----+\n",
      "|NU_INSCRICAO|NU_ANO|TP_FAIXA_ETARIA|TP_SEXO|TP_ESTADO_CIVIL|TP_COR_RACA|TP_NACIONALIDADE|TP_ST_CONCLUSAO|TP_ANO_CONCLUIU|TP_ESCOLA|TP_ENSINO|IN_TREINEIRO|CO_MUNICIPIO_ESC|   NO_MUNICIPIO_ESC|CO_UF_ESC|SG_UF_ESC|TP_DEPENDENCIA_ADM_ESC|TP_LOCALIZACAO_ESC|TP_SIT_FUNC_ESC|CO_MUNICIPIO_PROVA|  NO_MUNICIPIO_PROVA|CO_UF_PROVA|SG_UF_PROVA|TP_PRESENCA_CN|TP_PRESENCA_CH|TP_PRESENCA_LC|TP_PRESENCA_MT|CO_PROVA_CN|CO_PROVA_CH|CO_PROVA_LC|CO_PROVA_MT|NU_NOTA_CN|NU_NOTA_CH|NU_NOTA_LC|NU_NOTA_MT|     TX_RESPOSTAS_CN|     TX_RESPOSTAS_CH|     TX_RESPOSTAS_LC|     TX_RESPOSTAS_MT|TP_LINGUA|      TX_GABARITO_CN|      TX_GABARITO_CH|      TX_GABARITO_LC|      TX_GABARITO_MT|TP_STATUS_REDACAO|NU_NOTA_COMP1|NU_NOTA_COMP2|NU_NOTA_COMP3|NU_NOTA_COMP4|NU_NOTA_COMP5|NU_NOTA_REDACAO|Q001|Q002|Q003|Q004|Q005|Q006|Q007|Q008|Q009|Q010|Q011|Q012|Q013|Q014|Q015|Q016|Q017|Q018|Q019|Q020|Q021|Q022|Q023|Q024|Q025|\n",
      "+------------+------+---------------+-------+---------------+-----------+----------------+---------------+---------------+---------+---------+------------+----------------+-------------------+---------+---------+----------------------+------------------+---------------+------------------+--------------------+-----------+-----------+--------------+--------------+--------------+--------------+-----------+-----------+-----------+-----------+----------+----------+----------+----------+--------------------+--------------------+--------------------+--------------------+---------+--------------------+--------------------+--------------------+--------------------+-----------------+-------------+-------------+-------------+-------------+-------------+---------------+----+----+----+----+----+----+----+----+----+----+----+----+----+----+----+----+----+----+----+----+----+----+----+----+----+\n",
      "|200006271946|  2020|             11|      F|              1|          2|               1|              1|             11|        1|     null|           0|            null|               null|     null|     null|                  null|              null|           null|           1501402|               Belém|         15|         PA|             0|             0|             0|             0|       null|       null|       null|       null|      null|      null|      null|      null|                null|                null|                null|                null|        1|                null|                null|                null|                null|             null|         null|         null|         null|         null|         null|           null|null|null|null|null|null|null|null|null|null|null|null|null|null|null|null|null|null|null|null|null|null|null|null|null|null|\n",
      "|200001195856|  2020|             11|      M|              2|          3|               1|              1|             11|        1|     null|           0|            null|               null|     null|     null|                  null|              null|           null|           2408102|               Natal|         24|         RN|             1|             1|             1|             1|        702|        689|        693|        698|     604.1|     661.7|     595.3|     711.3|BCBDBDCCCDBDDBADE...|BCAECABCDCEBDBBBD...|99999CADDEDADBAAB...|EBEBDEDAECBADCADD...|        1|ABBACBCCCDDDDBAEE...|BCEECDBCCDEBDBBBB...|99999CBDDEDBDBACE...|BBEADECAECBBXCEBA...|                1|          120|          120|          120|          120|          100|            580|null|null|null|null|null|null|null|null|null|null|null|null|null|null|null|null|null|null|null|null|null|null|null|null|null|\n",
      "|200001943954|  2020|              4|      F|              2|          3|               2|              2|              0|        2|        1|           0|         2927408|           Salvador|       29|       BA|                     2|                 1|              1|           2927408|            Salvador|         29|         BA|             0|             0|             0|             0|       null|       null|       null|       null|      null|      null|      null|      null|                null|                null|                null|                null|        0|                null|                null|                null|                null|             null|         null|         null|         null|         null|         null|           null|   B|   C|   A|   D|   3|   B|   A|   B|   A|   A|   A|   B|   A|   B|   A|   B|   A|   A|   B|   A|   A|   A|   A|   A|   A|\n",
      "|200001908998|  2020|              2|      M|              1|          3|               1|              2|              0|        2|        1|           0|         3547304|Santana de Parnaíba|       35|       SP|                     3|                 1|              1|           3547304| Santana de Parnaíba|         35|         SP|             1|             1|             1|             1|        700|        688|        692|        696|     620.8|     675.0|     624.2|     759.4|EBEDCCCDCBDBAECAE...|DABCCACCBCCDCADBD...|DCEAB99999AADAECC...|CBDBDCCDDEECBAABB...|        0|BDECCACBEBDEAEDAE...|DABCCAECBABECADBD...|DCEAD99999AADACCC...|EBDBXCCDAEECBAABA...|                1|          140|          200|          140|          120|          160|            760|null|null|null|null|null|null|null|null|null|null|null|null|null|null|null|null|null|null|null|null|null|null|null|null|null|\n",
      "|200001634757|  2020|              4|      F|              1|          3|               2|              1|              1|        1|     null|           0|            null|               null|     null|     null|                  null|              null|           null|           3121605|          Diamantina|         31|         MG|             0|             0|             0|             0|       null|       null|       null|       null|      null|      null|      null|      null|                null|                null|                null|                null|        1|                null|                null|                null|                null|             null|         null|         null|         null|         null|         null|           null|   B|   G|   B|   B|   3|   B|   A|   B|   D|   A|   A|   B|   A|   B|   A|   A|   A|   A|   B|   A|   B|   B|   A|   A|   B|\n",
      "|200003132410|  2020|              3|      F|              1|          3|               1|              1|              1|        1|     null|           0|            null|               null|     null|     null|                  null|              null|           null|           4305207|         Cerro Largo|         43|         RS|             1|             1|             1|             1|        598|        567|        577|        588|     498.1|     604.7|     505.4|     526.7|CABBEEACAEBEBCCDA...|ACEBBDDCADDAACEEA...|99999CBECEBEDBEEC...|BADCAAAEEDBEDBACE...|        1|CEDBDDDCACCBDAEBA...|DABCBDDDAEDBECECB...|AAEDCACEEECEAACBA...|AEBCCXCCCACCDABCC...|                1|          140|          120|          140|          140|          160|            700|   C|   B|   C|   B|   5|   C|   A|   B|   E|   A|   A|   B|   A|   A|   A|   B|   A|   A|   B|   B|   A|   D|   A|   B|   B|\n",
      "|200001379770|  2020|              9|      M|              1|          3|               1|              1|              6|        1|     null|           0|            null|               null|     null|     null|                  null|              null|           null|           2611606|              Recife|         26|         PE|             0|             0|             0|             0|       null|       null|       null|       null|      null|      null|      null|      null|                null|                null|                null|                null|        0|                null|                null|                null|                null|             null|         null|         null|         null|         null|         null|           null|null|null|null|null|null|null|null|null|null|null|null|null|null|null|null|null|null|null|null|null|null|null|null|null|null|\n",
      "|200001334237|  2020|              4|      M|              1|          1|               1|              1|              1|        1|     null|           0|            null|               null|     null|     null|                  null|              null|           null|           3550308|           São Paulo|         35|         SP|             1|             1|             1|             1|        699|        687|        691|        695|     604.6|     604.8|     562.1|     753.2|CECACBBCADACADDEE...|EAADABBEABCADDBAA...|CADDE99999AEEADBA...|BABADDBDAEBAEBBBE...|        0|DEAAECBBCDCBAEBEE...|EAAADBBEDBDACDBCC...|CADDE99999DEBBBBB...|BABBDABAEEBACBACD...|                1|          140|          120|          120|          120|          100|            600|null|null|null|null|null|null|null|null|null|null|null|null|null|null|null|null|null|null|null|null|null|null|null|null|null|\n",
      "|200006762554|  2020|              5|      F|              2|          3|               1|              1|              3|        1|     null|           0|            null|               null|     null|     null|                  null|              null|           null|           2507507|         João Pessoa|         25|         PB|             1|             1|             1|             1|        598|        567|        577|        588|     439.7|     383.5|     486.2|     448.5|DABCDCAEDEDCBEDCD...|ECCAEAEACDDABCBDA...|99999DDCBBABECCAC...|EEDCCEACEBAAAADCD...|        1|CEDBDDDCACCBDAEBA...|DABCBDDDAEDBECECB...|AAEDCACEEECEAACBA...|AEBCCXCCCACCDABCC...|                1|          120|          120|          120|          140|          100|            600|   B|   C|   C|   B|   2|   B|   A|   B|   C|   A|   A|   B|   A|   B|   A|   A|   A|   A|   B|   A|   A|   C|   A|   A|   A|\n",
      "|200005146210|  2020|              2|      M|              1|          2|               1|              2|              0|        2|        1|           0|            null|               null|     null|     null|                  null|              null|           null|           2304400|           Fortaleza|         23|         CE|             0|             0|             0|             0|       null|       null|       null|       null|      null|      null|      null|      null|                null|                null|                null|                null|        0|                null|                null|                null|                null|             null|         null|         null|         null|         null|         null|           null|   A|   A|   B|   A|   4|   B|   A|   B|   B|   A|   A|   B|   A|   A|   A|   A|   A|   A|   B|   A|   A|   A|   A|   A|   B|\n",
      "|200004902048|  2020|              6|      M|              1|          1|               1|              1|              3|        1|     null|           0|            null|               null|     null|     null|                  null|              null|           null|           3550308|           São Paulo|         35|         SP|             0|             0|             0|             0|       null|       null|       null|       null|      null|      null|      null|      null|                null|                null|                null|                null|        0|                null|                null|                null|                null|             null|         null|         null|         null|         null|         null|           null|   B|   B|   B|   B|   7|   B|   A|   B|   C|   A|   A|   B|   A|   A|   A|   B|   A|   A|   B|   A|   A|   C|   B|   B|   B|\n",
      "|200006138472|  2020|              7|      M|              1|          1|               1|              1|              0|        1|     null|           0|            null|               null|     null|     null|                  null|              null|           null|           2910727|           Eunápolis|         29|         BA|             1|             1|             1|             1|        598|        567|        577|        588|     491.1|     631.4|     627.9|     546.5|BAEACEDBACDDEDECE...|CDEABDDDABDBEABCA...|AACDC99999ABDBEDA...|EBCDBEBABDBBDABCB...|        0|CEDBDDDCACCBDAEBA...|DABCBDDDAEDBECECB...|AAEDCACEEECEAACBA...|AEBCCXCCCACCDABCC...|                1|          140|          120|          140|          120|          120|            640|   B|   C|   C|   B|   5|   B|   A|   B|   C|   A|   A|   B|   A|   A|   A|   A|   B|   A|   B|   A|   A|   C|   A|   B|   B|\n",
      "|200005613689|  2020|              3|      F|              1|          3|               1|              1|              1|        1|     null|           0|            null|               null|     null|     null|                  null|              null|           null|           5008305|         Três Lagoas|         50|         MS|             0|             0|             0|             0|       null|       null|       null|       null|      null|      null|      null|      null|                null|                null|                null|                null|        0|                null|                null|                null|                null|             null|         null|         null|         null|         null|         null|           null|   D|   E|   A|   A|   3|   B|   A|   B|   C|   A|   A|   B|   A|   A|   A|   A|   A|   A|   A|   A|   A|   C|   A|   A|   A|\n",
      "|200004833505|  2020|             11|      F|              2|          2|               1|              1|             12|        1|     null|           0|            null|               null|     null|     null|                  null|              null|           null|           3547809|         Santo André|         35|         SP|             0|             0|             0|             0|       null|       null|       null|       null|      null|      null|      null|      null|                null|                null|                null|                null|        1|                null|                null|                null|                null|             null|         null|         null|         null|         null|         null|           null|null|null|null|null|null|null|null|null|null|null|null|null|null|null|null|null|null|null|null|null|null|null|null|null|null|\n",
      "|200004570764|  2020|             11|      M|              1|          2|               1|              1|              0|        1|     null|           0|            null|               null|     null|     null|                  null|              null|           null|           2604007|             Carpina|         26|         PE|             0|             0|             0|             0|       null|       null|       null|       null|      null|      null|      null|      null|                null|                null|                null|                null|        1|                null|                null|                null|                null|             null|         null|         null|         null|         null|         null|           null|   H|   B|   F|   B|   3|   B|   A|   C|   D|   A|   A|   B|   A|   A|   A|   A|   A|   A|   B|   A|   A|   B|   A|   B|   B|\n",
      "|200001071590|  2020|              5|      F|              1|          3|               1|              1|              0|        1|     null|           0|            null|               null|     null|     null|                  null|              null|           null|           2800308|             Aracaju|         28|         SE|             0|             0|             0|             0|       null|       null|       null|       null|      null|      null|      null|      null|                null|                null|                null|                null|        1|                null|                null|                null|                null|             null|         null|         null|         null|         null|         null|           null|null|null|null|null|null|null|null|null|null|null|null|null|null|null|null|null|null|null|null|null|null|null|null|null|null|\n",
      "|200001934470|  2020|              7|      F|              1|          3|               1|              1|              4|        1|     null|           0|            null|               null|     null|     null|                  null|              null|           null|           2933307|Vitória da Conquista|         29|         BA|             0|             0|             0|             0|       null|       null|       null|       null|      null|      null|      null|      null|                null|                null|                null|                null|        1|                null|                null|                null|                null|             null|         null|         null|         null|         null|         null|           null|   A|   B|   F|   F|   3|   B|   A|   B|   C|   A|   A|   B|   B|   A|   A|   A|   A|   A|   B|   A|   A|   C|   A|   B|   B|\n",
      "|200006066678|  2020|              4|      M|              1|          1|               1|              1|              1|        1|     null|           0|            null|               null|     null|     null|                  null|              null|           null|           4106902|            Curitiba|         41|         PR|             0|             0|             0|             0|       null|       null|       null|       null|      null|      null|      null|      null|                null|                null|                null|                null|        0|                null|                null|                null|                null|             null|         null|         null|         null|         null|         null|           null|null|null|null|null|null|null|null|null|null|null|null|null|null|null|null|null|null|null|null|null|null|null|null|null|null|\n",
      "|200003343448|  2020|              7|      F|              1|          3|               1|              1|              3|        1|     null|           0|            null|               null|     null|     null|                  null|              null|           null|           2704302|              Maceió|         27|         AL|             1|             1|             1|             1|        597|        569|        580|        587|     422.4|     488.1|     559.1|     420.3|BDCEDABCECACBDCBB...|CAEADAEEDEDBDDCAB...|CADAA99999ABCBEBD...|BBCCDBEADABBE*CED...|        0|DDBACBDDDECDAEDCC...|DECCADEBDECBBECDD...|DCEAAEEEACAACBBEB...|DABCCAEDBBCCCABCA...|                1|          140|          180|          140|          160|          180|            800|   C|   C|   C|   B|   2|   B|   A|   B|   C|   A|   A|   B|   A|   A|   A|   A|   A|   A|   B|   B|   A|   C|   A|   B|   B|\n",
      "|200005966328|  2020|             13|      M|              1|          2|               1|              1|              0|        1|     null|           0|            null|               null|     null|     null|                  null|              null|           null|           1501402|               Belém|         15|         PA|             1|             1|             1|             1|        600|        570|        579|        589|     486.0|     503.3|     439.8|     405.6|DBEBBBCCDCBCAEBAE...|BABAEABBEDBDCDBBE...|99999EAADBDAABCBD...|BBAADDCCEABAAEBBA...|        1|DCDXDCCAEBADCBAAE...|BDDBECECBACDBDEEB...|AACDEEEECADBBCAAA...|BAECDBBXCCCBDBACC...|                1|          100|          100|          120|          100|           80|            500|   C|   D|   C|   C|   5|   D|   A|   C|   C|   A|   A|   B|   A|   A|   A|   A|   A|   A|   B|   B|   A|   C|   A|   A|   A|\n",
      "+------------+------+---------------+-------+---------------+-----------+----------------+---------------+---------------+---------+---------+------------+----------------+-------------------+---------+---------+----------------------+------------------+---------------+------------------+--------------------+-----------+-----------+--------------+--------------+--------------+--------------+-----------+-----------+-----------+-----------+----------+----------+----------+----------+--------------------+--------------------+--------------------+--------------------+---------+--------------------+--------------------+--------------------+--------------------+-----------------+-------------+-------------+-------------+-------------+-------------+---------------+----+----+----+----+----+----+----+----+----+----+----+----+----+----+----+----+----+----+----+----+----+----+----+----+----+\n",
      "only showing top 20 rows\n",
      "\n"
     ]
    }
   ],
   "source": [
    "enem_df.show()"
   ]
  },
  {
   "cell_type": "code",
   "execution_count": 17,
   "metadata": {},
   "outputs": [
    {
     "name": "stdout",
     "output_type": "stream",
     "text": [
      "444346 alunas se declararam pretas\n"
     ]
    }
   ],
   "source": [
    "f_preto = (\n",
    "    enem_df\n",
    "    .filter((col('TP_SEXO') == 'F') & (col('TP_COR_RACA') == 2) )\n",
    "    .count()\n",
    ")\n",
    "\n",
    "print(f_preto,'alunas se declararam pretas')"
   ]
  },
  {
   "attachments": {},
   "cell_type": "markdown",
   "metadata": {},
   "source": [
    "9 - Quantos alunos estrangeiros fizeram o ENEM 2020?"
   ]
  },
  {
   "cell_type": "code",
   "execution_count": 18,
   "metadata": {},
   "outputs": [
    {
     "name": "stdout",
     "output_type": "stream",
     "text": [
      "8036 são alunos estrangeiros\n"
     ]
    }
   ],
   "source": [
    "#TP_NACIONALIDADE = 3\n",
    "\n",
    "estrang = (\n",
    "    enem_df\n",
    "    .filter(col('TP_NACIONALIDADE') == 3)\n",
    "    .count()\n",
    ")\n",
    "\n",
    "print(estrang,'são alunos estrangeiros')"
   ]
  },
  {
   "attachments": {},
   "cell_type": "markdown",
   "metadata": {},
   "source": [
    "10 - Qual é a diferença da nota média em matemática dos alunos que estudaram o ensino médio em escola pública e em escola privada?"
   ]
  },
  {
   "cell_type": "code",
   "execution_count": 19,
   "metadata": {},
   "outputs": [],
   "source": [
    "\"\"\"\n",
    "agrupando os alunos por tipo de escola 'privada' 'ou publica'\n",
    "depois tiro a media da nota de matematica\n",
    "\n",
    "\"\"\"\n",
    "\n",
    "media_notas = (\n",
    "    enem_df\n",
    "    .groupBy('TP_ESCOLA')\n",
    "    .agg(\n",
    "        mean('NU_NOTA_MT').alias('media_matematica')\n",
    "    )\n",
    ")"
   ]
  },
  {
   "cell_type": "code",
   "execution_count": 20,
   "metadata": {},
   "outputs": [],
   "source": [
    "\"\"\"\n",
    "Neste step seleciono os valores desejados e transformo em um dataframe pandas\n",
    "para poder calcular a diferença na media das notas \n",
    "\"\"\"\n",
    "media_publica = media_notas.filter(col('TP_ESCOLA') == 2).select('media_matematica').toPandas()['media_matematica']\n",
    "media_privada = media_notas.filter(col('TP_ESCOLA') == 3).select('media_matematica').toPandas()['media_matematica']\n",
    "diferenca_media = (media_privada - media_publica).tolist()\n"
   ]
  },
  {
   "cell_type": "code",
   "execution_count": 21,
   "metadata": {},
   "outputs": [
    {
     "name": "stdout",
     "output_type": "stream",
     "text": [
      "Media alunos escola Privada:610.6393569797274\n",
      "Media alunos escola Publica:499.52498038446714\n",
      "diferença nota media: 111.11437659526024\n"
     ]
    }
   ],
   "source": [
    "\n",
    "print(f'Media alunos escola Privada:{media_privada[0]}\\nMedia alunos escola Publica:{media_publica[0]}\\ndiferença nota media: {diferenca_media[0]}')"
   ]
  },
  {
   "attachments": {},
   "cell_type": "markdown",
   "metadata": {},
   "source": [
    "11 - Qual é o estado brasileiro (considere a coluna SG_UF_ESC) que possui o maior número de alunos do sexo feminino indígenas?"
   ]
  },
  {
   "cell_type": "code",
   "execution_count": 22,
   "metadata": {},
   "outputs": [
    {
     "name": "stdout",
     "output_type": "stream",
     "text": [
      "+---------+-----+\n",
      "|SG_UF_ESC|count|\n",
      "+---------+-----+\n",
      "|     null|18081|\n",
      "|       AM|  398|\n",
      "|       CE|  380|\n",
      "|       SP|  298|\n",
      "|       PE|  249|\n",
      "+---------+-----+\n",
      "only showing top 5 rows\n",
      "\n"
     ]
    }
   ],
   "source": [
    "(\n",
    "    enem_df\n",
    "    .filter((col('TP_SEXO') == 'F') & (col('TP_COR_RACA') == 5))\n",
    "    .groupBy('SG_UF_ESC')\n",
    "    .count()\n",
    "    .sort(col('count').desc())\n",
    "    .show(5)\n",
    "\n",
    ")"
   ]
  },
  {
   "attachments": {},
   "cell_type": "markdown",
   "metadata": {},
   "source": [
    "12 - Qual é a diferença entre o número de alunos cujo pai possui pós-graduação completa e o número de alunos cuja mãe possui pós-graduação completa?"
   ]
  },
  {
   "cell_type": "code",
   "execution_count": 23,
   "metadata": {},
   "outputs": [],
   "source": [
    "pai_pos = (\n",
    "    enem_df\n",
    "    .filter(col('Q001') == 'G')\n",
    "    .count()\n",
    ")\n",
    "\n",
    "mae_pos = (\n",
    "    enem_df\n",
    "    .filter(col('Q002') == 'G')\n",
    "    .count()\n",
    ")"
   ]
  },
  {
   "cell_type": "code",
   "execution_count": 24,
   "metadata": {},
   "outputs": [
    {
     "name": "stdout",
     "output_type": "stream",
     "text": [
      "Total de pais pos-graduados: 239720\n",
      "Total de maes pos-graduadas: 434437\n",
      "diferenca: 194717\n"
     ]
    }
   ],
   "source": [
    "print(f'Total de pais pos-graduados: {pai_pos}\\nTotal de maes pos-graduadas: {mae_pos}\\ndiferenca: {(mae_pos - pai_pos)}')"
   ]
  },
  {
   "attachments": {},
   "cell_type": "markdown",
   "metadata": {},
   "source": [
    "13 - Quantos alunos cuja residência possui ATÉ 2 carros estudaram na região NORDESTE do Brasil?"
   ]
  },
  {
   "cell_type": "code",
   "execution_count": 31,
   "metadata": {},
   "outputs": [
    {
     "name": "stdout",
     "output_type": "stream",
     "text": [
      "+------------+------+---------------+-------+---------------+-----------+----------------+---------------+---------------+---------+---------+------------+----------------+----------------+---------+---------+----------------------+------------------+---------------+------------------+------------------+-----------+-----------+--------------+--------------+--------------+--------------+-----------+-----------+-----------+-----------+----------+----------+----------+----------+--------------------+--------------------+--------------------+--------------------+---------+--------------------+--------------------+--------------------+--------------------+-----------------+-------------+-------------+-------------+-------------+-------------+---------------+----+----+----+----+----+----+----+----+----+----+----+----+----+----+----+----+----+----+----+----+----+----+----+----+----+\n",
      "|NU_INSCRICAO|NU_ANO|TP_FAIXA_ETARIA|TP_SEXO|TP_ESTADO_CIVIL|TP_COR_RACA|TP_NACIONALIDADE|TP_ST_CONCLUSAO|TP_ANO_CONCLUIU|TP_ESCOLA|TP_ENSINO|IN_TREINEIRO|CO_MUNICIPIO_ESC|NO_MUNICIPIO_ESC|CO_UF_ESC|SG_UF_ESC|TP_DEPENDENCIA_ADM_ESC|TP_LOCALIZACAO_ESC|TP_SIT_FUNC_ESC|CO_MUNICIPIO_PROVA|NO_MUNICIPIO_PROVA|CO_UF_PROVA|SG_UF_PROVA|TP_PRESENCA_CN|TP_PRESENCA_CH|TP_PRESENCA_LC|TP_PRESENCA_MT|CO_PROVA_CN|CO_PROVA_CH|CO_PROVA_LC|CO_PROVA_MT|NU_NOTA_CN|NU_NOTA_CH|NU_NOTA_LC|NU_NOTA_MT|     TX_RESPOSTAS_CN|     TX_RESPOSTAS_CH|     TX_RESPOSTAS_LC|     TX_RESPOSTAS_MT|TP_LINGUA|      TX_GABARITO_CN|      TX_GABARITO_CH|      TX_GABARITO_LC|      TX_GABARITO_MT|TP_STATUS_REDACAO|NU_NOTA_COMP1|NU_NOTA_COMP2|NU_NOTA_COMP3|NU_NOTA_COMP4|NU_NOTA_COMP5|NU_NOTA_REDACAO|Q001|Q002|Q003|Q004|Q005|Q006|Q007|Q008|Q009|Q010|Q011|Q012|Q013|Q014|Q015|Q016|Q017|Q018|Q019|Q020|Q021|Q022|Q023|Q024|Q025|\n",
      "+------------+------+---------------+-------+---------------+-----------+----------------+---------------+---------------+---------+---------+------------+----------------+----------------+---------+---------+----------------------+------------------+---------------+------------------+------------------+-----------+-----------+--------------+--------------+--------------+--------------+-----------+-----------+-----------+-----------+----------+----------+----------+----------+--------------------+--------------------+--------------------+--------------------+---------+--------------------+--------------------+--------------------+--------------------+-----------------+-------------+-------------+-------------+-------------+-------------+---------------+----+----+----+----+----+----+----+----+----+----+----+----+----+----+----+----+----+----+----+----+----+----+----+----+----+\n",
      "|200001943954|  2020|              4|      F|              2|          3|               2|              2|              0|        2|        1|           0|         2927408|        Salvador|       29|       BA|                     2|                 1|              1|           2927408|          Salvador|         29|         BA|             0|             0|             0|             0|       null|       null|       null|       null|      null|      null|      null|      null|                null|                null|                null|                null|        0|                null|                null|                null|                null|             null|         null|         null|         null|         null|         null|           null|   B|   C|   A|   D|   3|   B|   A|   B|   A|   A|   A|   B|   A|   B|   A|   B|   A|   A|   B|   A|   A|   A|   A|   A|   A|\n",
      "|200001994876|  2020|             10|      F|              1|          2|               2|              2|              0|        2|        1|           0|         2910800|Feira de Santana|       29|       BA|                     2|                 1|              1|           2910800|  Feira de Santana|         29|         BA|             0|             0|             0|             0|       null|       null|       null|       null|      null|      null|      null|      null|                null|                null|                null|                null|        0|                null|                null|                null|                null|             null|         null|         null|         null|         null|         null|           null|null|null|null|null|null|null|null|null|null|null|null|null|null|null|null|null|null|null|null|null|null|null|null|null|null|\n",
      "|200003350911|  2020|              3|      F|              1|          3|               1|              2|              0|        2|        1|           0|         2207009|          Oeiras|       22|       PI|                     1|                 1|              1|           2207009|            Oeiras|         22|         PI|             1|             1|             1|             1|        598|        567|        577|        588|     516.8|     565.7|     567.7|     384.2|DAEEADCEECBDABEDD...|EBCABBDDADDACCECA...|DAECC99999AADBDBC...|DBADABDECBDDAADBC...|        0|CEDBDDDCACCBDAEBA...|DABCBDDDAEDBECECB...|AAEDCACEEECEAACBA...|AEBCCXCCCACCDABCC...|                1|          140|          180|          160|          200|          200|            880|   A|   C|   A|   A|   3|   B|   A|   B|   C|   A|   B|   B|   A|   A|   A|   A|   A|   A|   A|   A|   A|   C|   A|   A|   A|\n",
      "|200006316762|  2020|              5|      M|              1|          3|               1|              2|              0|        2|     null|           0|         2311603|        Redenção|       23|       CE|                     2|                 1|              1|           2311603|          Redenção|         23|         CE|             0|             0|             0|             0|       null|       null|       null|       null|      null|      null|      null|      null|                null|                null|                null|                null|        1|                null|                null|                null|                null|             null|         null|         null|         null|         null|         null|           null|   C|   C|   B|   B|   4|   B|   A|   B|   C|   A|   A|   B|   A|   A|   A|   A|   A|   A|   B|   A|   A|   B|   A|   A|   A|\n",
      "|200005300966|  2020|              4|      M|              1|          2|               1|              2|              0|        2|        1|           0|         2202000|Buriti dos Lopes|       22|       PI|                     2|                 1|              1|           2202000|  Buriti dos Lopes|         22|         PI|             1|             1|             1|             1|        600|        570|        579|        589|     422.7|     456.0|     521.9|     373.0|AADACEBECDAEBAEEE...|BBDAEBEDADDBAACEB...|99999EEEDADBDCBAB...|BBAECDDEBDAAEBBEE...|        1|DCDXDCCAEBADCBAAE...|BDDBECECBACDBDEEB...|AACDEEEECADBBCAAA...|BAECDBBXCCCBDBACC...|                1|          100|           40|           40|          120|           40|            340|   B|   B|   A|   B|   5|   B|   B|   B|   B|   A|   A|   B|   A|   A|   A|   A|   A|   A|   A|   A|   A|   B|   A|   A|   A|\n",
      "|200001698547|  2020|              3|      F|              1|          3|               1|              2|              0|        2|        1|           0|         2704302|          Maceió|       27|       AL|                     2|                 1|              1|           2704302|            Maceió|         27|         AL|             1|             1|             1|             1|        599|        568|        578|        590|     599.2|     608.5|     576.7|     624.9|CBDAECCADECCDDDEE...|ABACBCBCEDDADBACD...|CEDAA99999ACDACAD...|CBECADCDDDBCDEDEB...|        0|CBDDDDCAAECEDDCED...|BDECBCCDEDDAEBDCD...|CDEAACAEEEBEBADAD...|CABCAACCACDABEEEB...|                1|          120|          120|          120|          140|          120|            620|   H|   C|   D|   B|   2|   B|   A|   B|   C|   A|   A|   B|   A|   A|   A|   B|   A|   A|   B|   A|   A|   C|   A|   B|   B|\n",
      "|200004869933|  2020|              3|      M|              1|          2|               1|              2|              0|        2|        1|           0|         2304400|       Fortaleza|       23|       CE|                     2|                 1|              1|           2304400|         Fortaleza|         23|         CE|             1|             1|             1|             1|        597|        569|        580|        587|     454.4|     531.9|     572.3|     535.6|CDCACBECBDCEAADBC...|ABEABDECDCBADCADD...|99999BEEABDBEABCA...|ACCCDDCBEBDCCDBDB...|        1|DDBACBDDDECDAEDCC...|DECCADEBDECBBECDD...|DCEAAEEEACAACBBEB...|DABCCAEDBBCCCABCA...|                1|          160|          120|          120|          140|          200|            740|   D|   D|   F|   B|   3|   B|   A|   B|   B|   A|   A|   B|   B|   A|   A|   A|   A|   A|   B|   B|   A|   D|   A|   A|   B|\n",
      "|200001336334|  2020|              3|      M|              1|          1|               1|              2|              0|        2|        1|           0|         2405801|     João Câmara|       24|       RN|                     2|                 1|              1|           2405801|       João Câmara|         24|         RN|             1|             1|             1|             1|        597|        569|        580|        587|     547.8|     622.0|     534.1|     646.4|BDDECBDDBEDECBCCD...|DECEADDBBECACEDDD...|DACDA99999EECEBBB...|DACCDAEACDDDEEEDC...|        0|DDBACBDDDECDAEDCC...|DECCADEBDECBBECDD...|DCEAAEEEACAACBBEB...|DABCCAEDBBCCCABCA...|                1|          120|          140|          140|          160|          160|            720|   B|   B|   A|   A|   4|   D|   A|   B|   D|   B|   A|   B|   A|   B|   A|   A|   A|   A|   B|   B|   A|   D|   A|   A|   A|\n",
      "|200004464631|  2020|              1|      F|              1|          3|               1|              2|              0|        2|        1|           0|         2800308|         Aracaju|       28|       SE|                     2|                 1|              1|           2800308|           Aracaju|         28|         SE|             1|             1|             1|             1|        597|        569|        580|        587|     612.7|     613.3|     637.7|     685.9|DDCAEDBDBDCABEECC...|DAACBDEBBECABECDB...|99999EEEACDACABEC...|DACCCCADBDEECAEBA...|        1|DDBACBDDDECDAEDCC...|DECCADEBDECBBECDD...|DCEAAEEEACAACBBEB...|DABCCAEDBBCCCABCA...|                1|          160|          180|          180|          200|          200|            920|   F|   F|   D|   D|   3|   C|   A|   C|   D|   A|   A|   B|   B|   B|   A|   B|   A|   A|   C|   B|   A|   D|   A|   A|   B|\n",
      "|200003922548|  2020|              2|      F|              1|          3|               1|              2|              0|        2|        1|           0|         2800308|         Aracaju|       28|       SE|                     2|                 1|              1|           2800308|           Aracaju|         28|         SE|             1|             1|             1|             1|        599|        568|        578|        590|     556.1|     570.3|     529.4|     530.5|BCDEEADCAECCDDAEA...|BBEEECBDECDADADCD...|99999DCDEEADBDAAD...|ECBBDACCCBEACEAEB...|        1|CBDDDDCAAECEDDCED...|BDECBCCDEDDAEBDCD...|CDEAACAEEEBEBADAD...|CABCAACCACDABEEEB...|                1|          120|          160|          120|          120|          180|            700|   D|   E|   B|   A|   5|   D|   A|   B|   D|   A|   A|   B|   A|   A|   A|   B|   A|   A|   B|   A|   A|   D|   A|   A|   B|\n",
      "|200003506530|  2020|              4|      M|              1|          2|               1|              2|              0|        2|        1|           0|         2507507|     João Pessoa|       25|       PB|                     2|                 1|              1|           2507507|       João Pessoa|         25|         PB|             1|             1|             1|             1|        599|        568|        578|        590|     567.7|     601.0|     588.4|     597.3|DDCBEACACECEDBCAC...|BBECBCCAEDDACBDCD...|CAEAA99999ACBACAD...|BBBBAEBBCBCAACDEB...|        0|CBDDDDCAAECEDDCED...|BDECBCCDEDDAEBDCD...|CDEAACAEEEBEBADAD...|CABCAACCACDABEEEB...|                1|          140|          200|          180|          140|          160|            820|   E|   E|   B|   B|   2|   B|   A|   B|   C|   A|   A|   B|   A|   A|   A|   A|   A|   A|   B|   A|   A|   B|   A|   A|   A|\n",
      "|200001269383|  2020|              3|      F|              1|          1|               1|              2|              0|        2|        1|           0|         2304400|       Fortaleza|       23|       CE|                     2|                 1|              1|           2304400|         Fortaleza|         23|         CE|             1|             1|             1|             1|        598|        567|        577|        588|     587.4|     632.4|     593.1|     678.6|CEEBDEACAECEEBEBA...|DAACBBDDAADAACECB...|CAECB99999CCEACAC...|AEBBCBBADBCDBABCA...|        0|CEDBDDDCACCBDAEBA...|DABCBDDDAEDBECECB...|AAEDCACEEECEAACBA...|AEBCCXCCCACCDABCC...|                1|          160|          200|          180|          140|          180|            860|   B|   A|   F|   B|   2|   B|   A|   B|   C|   A|   A|   B|   A|   A|   A|   A|   A|   A|   B|   B|   A|   C|   A|   B|   B|\n",
      "|200001464463|  2020|              2|      F|              1|          3|               1|              2|              0|        2|        1|           0|         2905701|        Camaçari|       29|       BA|                     2|                 1|              1|           2905701|          Camaçari|         29|         BA|             1|             1|             1|             1|        599|        568|        578|        590|     463.4|     488.2|     558.5|     580.6|BEEEDADACACACBCAE...|CCDEADCDEAAADBDAB...|99999CBDCAAEBAEEA...|CECBABBDCECACAAED...|        1|CBDDDDCAAECEDDCED...|BDECBCCDEDDAEBDCD...|CDEAACAEEEBEBADAD...|CABCAACCACDABEEEB...|                1|          160|          200|          140|          180|          200|            880|   H|   E|   F|   B|   3|   A|   A|   B|   B|   A|   A|   B|   A|   A|   A|   A|   A|   A|   B|   A|   A|   C|   A|   A|   B|\n",
      "|200004555413|  2020|              2|      M|              1|          3|               1|              2|              0|        2|        1|           0|         2207702|        Parnaíba|       22|       PI|                     2|                 1|              1|           2207702|          Parnaíba|         22|         PI|             1|             1|             1|             1|        600|        570|        579|        589|     507.7|     457.1|     362.0|     454.1|DCECDBECEDACEDAEB...|BDDAECCDEABCADCBD...|ACCBC99999ABCCAEE...|BCBCCCEEBEDCEBAAB...|        0|DCDXDCCAEBADCBAAE...|BDDBECECBACDBDEEB...|AACDEEEECADBBCAAA...|BAECDBBXCCCBDBACC...|                1|           80|          120|           80|           80|          120|            480|   B|   B|   B|   B|   4|   B|   A|   B|   C|   A|   A|   B|   B|   A|   A|   A|   A|   A|   B|   A|   A|   D|   A|   A|   B|\n",
      "|200006630957|  2020|              2|      F|              1|          3|               1|              2|              0|        2|        1|           0|         2610707|        Paulista|       26|       PE|                     2|                 1|              1|           2610707|          Paulista|         26|         PE|             1|             1|             1|             1|        600|        570|        579|        589|     382.6|     515.6|     548.3|     442.3|DBCACEBCDBDCBDAAD...|BDBDECABEBDCAEDBC...|EDCBC99999DAEEDEA...|CDBEBAAEBAADEEBEA...|        0|DCDXDCCAEBADCBAAE...|BDDBECECBACDBDEEB...|AACDEEEECADBBCAAA...|BAECDBBXCCCBDBACC...|                1|          120|          180|          120|          140|          200|            760|   B|   E|   B|   B|   2|   A|   A|   B|   C|   A|   A|   B|   A|   A|   A|   B|   A|   A|   B|   A|   A|   B|   A|   A|   B|\n",
      "|200005922659|  2020|              3|      F|              1|          1|               1|              2|              0|        2|        1|           0|         2800308|         Aracaju|       28|       SE|                     2|                 1|              1|           2800308|           Aracaju|         28|         SE|             1|             1|             1|             1|        599|        568|        578|        590|     553.8|     519.8|     586.9|     584.9|AEDEEACCAACCDECAE...|BBCCDC.BEADACBDBD...|ABCAA99999DEBADCD...|CEEBDEACCBAAAEACB...|        0|CBDDDDCAAECEDDCED...|BDECBCCDEDDAEBDCD...|CDEAACAEEEBEBADAD...|CABCAACCACDABEEEB...|                1|          140|          180|          140|          120|          160|            740|   E|   E|   C|   B|   4|   C|   A|   C|   C|   A|   A|   B|   A|   A|   A|   A|   A|   A|   B|   A|   A|   D|   A|   A|   B|\n",
      "|200002617962|  2020|              3|      M|              1|          3|               1|              2|              0|        2|        1|           0|         2111300|        São Luís|       21|       MA|                     2|                 1|              1|           2111300|          São Luís|         21|         MA|             1|             1|             1|             1|        599|        568|        578|        590|     517.0|     551.1|     408.9|     332.9|CBDECACCBACDDDCAD...|EDECCCADDECABBBCE...|99999BAEEEBBACCED...|BBBDDBEADEAEADEBA...|        1|CBDDDDCAAECEDDCED...|BDECBCCDEDDAEBDCD...|CDEAACAEEEBEBADAD...|CABCAACCACDABEEEB...|                1|          160|          200|          200|          200|          180|            940|   E|   E|   B|   B|   4|   A|   A|   B|   C|   B|   A|   B|   B|   B|   B|   B|   A|   B|   E|   B|   B|   B|   B|   B|   B|\n",
      "|200003944747|  2020|              3|      M|              1|          3|               1|              2|              0|        2|        1|           0|         2300903|        Apuiarés|       23|       CE|                     2|                 1|              1|           2310704|        Pentecoste|         23|         CE|             1|             1|             1|             1|        597|        569|        580|        587|     503.1|     381.9|     467.6|     375.2|DDBBCBDABECCADDCC...|AABAAAAAAAAAAACAD...|99999CABBCECBABBA...|DACDDDCBBBDBADEAE...|        1|DDBACBDDDECDAEDCC...|DECCADEBDECBBECDD...|DCEAAEEEACAACBBEB...|DABCCAEDBBCCCABCA...|                1|           80|          120|          100|          100|           40|            440|   E|   E|   A|   F|   5|   B|   A|   B|   C|   A|   A|   B|   A|   A|   A|   A|   A|   A|   B|   A|   A|   C|   A|   A|   B|\n",
      "|200002932158|  2020|              2|      M|              1|          2|               1|              2|              0|        2|        1|           0|         2910800|Feira de Santana|       29|       BA|                     2|                 1|              1|           2910800|  Feira de Santana|         29|         BA|             1|             1|             1|             1|        599|        568|        578|        590|     604.3|     606.1|     589.2|     567.0|CDDCDACACBCADDEEB...|BDDCDCEDEDDAABECD...|CDDAA99999AEBCEAD...|CCEADECBCCDACEAEB...|        0|CBDDDDCAAECEDDCED...|BDECBCCDEDDAEBDCD...|CDEAACAEEEBEBADAD...|CABCAACCACDABEEEB...|                1|          100|          100|          100|          100|            0|            400|   A|   B|   A|   A|   6|   B|   A|   B|   C|   A|   A|   B|   A|   A|   A|   A|   A|   A|   B|   B|   A|   D|   A|   A|   B|\n",
      "|200005010976|  2020|              3|      M|              1|          4|               1|              2|              0|        2|        1|           0|         2925501|           Prado|       29|       BA|                     2|                 1|              1|           2925501|             Prado|         29|         BA|             1|             1|             1|             1|        597|        569|        580|        587|     540.7|     607.3|     564.0|     652.8|ADDEEADDCDCEBDDCC...|DEDCBACADEBCCECDB...|CBCAA99999CBCBBDA...|BAACBCEDBEACCDEBB...|        0|DDBACBDDDECDAEDCC...|DECCADEBDECBBECDD...|DCEAAEEEACAACBBEB...|DABCCAEDBBCCCABCA...|                1|          140|          120|          120|          120|          100|            600|   H|   H|   D|   B|   1|   A|   A|   B|   B|   A|   A|   B|   A|   A|   A|   B|   A|   A|   A|   A|   A|   B|   A|   A|   B|\n",
      "+------------+------+---------------+-------+---------------+-----------+----------------+---------------+---------------+---------+---------+------------+----------------+----------------+---------+---------+----------------------+------------------+---------------+------------------+------------------+-----------+-----------+--------------+--------------+--------------+--------------+-----------+-----------+-----------+-----------+----------+----------+----------+----------+--------------------+--------------------+--------------------+--------------------+---------+--------------------+--------------------+--------------------+--------------------+-----------------+-------------+-------------+-------------+-------------+-------------+---------------+----+----+----+----+----+----+----+----+----+----+----+----+----+----+----+----+----+----+----+----+----+----+----+----+----+\n",
      "only showing top 20 rows\n",
      "\n"
     ]
    }
   ],
   "source": [
    "conditions = ['MA','PI','CE','RN','PB','PE','AL','SE','BA']\n",
    "alunos_nordeste = (\n",
    "    enem_df\n",
    "    .filter(col('SG_UF_ESC').isin(conditions))\n",
    ")\n",
    "\n",
    "alunos_nordeste.show()"
   ]
  },
  {
   "cell_type": "code",
   "execution_count": 34,
   "metadata": {},
   "outputs": [
    {
     "name": "stdout",
     "output_type": "stream",
     "text": [
      "74533 Alunos nordestinos possuem até 2 carros em casa\n"
     ]
    }
   ],
   "source": [
    "conditions = ['B','C']\n",
    "carro = (\n",
    "    alunos_nordeste\n",
    "    .filter(col('Q010').isin(conditions))\n",
    "    .count()\n",
    ")\n",
    "\n",
    "print(carro,'Alunos nordestinos que possuem até 2 carros em casa')\n"
   ]
  },
  {
   "attachments": {},
   "cell_type": "markdown",
   "metadata": {},
   "source": [
    "14 - Quantos alunos que estudaram em escolas em zona rural possuem internet em casa?"
   ]
  },
  {
   "cell_type": "code",
   "execution_count": 37,
   "metadata": {},
   "outputs": [
    {
     "name": "stdout",
     "output_type": "stream",
     "text": [
      "+------------+------+---------------+-------+---------------+-----------+----------------+---------------+---------------+---------+---------+------------+----------------+--------------------+---------+---------+----------------------+------------------+---------------+------------------+--------------------+-----------+-----------+--------------+--------------+--------------+--------------+-----------+-----------+-----------+-----------+----------+----------+----------+----------+--------------------+--------------------+--------------------+--------------------+---------+--------------------+--------------------+--------------------+--------------------+-----------------+-------------+-------------+-------------+-------------+-------------+---------------+----+----+----+----+----+----+----+----+----+----+----+----+----+----+----+----+----+----+----+----+----+----+----+----+----+\n",
      "|NU_INSCRICAO|NU_ANO|TP_FAIXA_ETARIA|TP_SEXO|TP_ESTADO_CIVIL|TP_COR_RACA|TP_NACIONALIDADE|TP_ST_CONCLUSAO|TP_ANO_CONCLUIU|TP_ESCOLA|TP_ENSINO|IN_TREINEIRO|CO_MUNICIPIO_ESC|    NO_MUNICIPIO_ESC|CO_UF_ESC|SG_UF_ESC|TP_DEPENDENCIA_ADM_ESC|TP_LOCALIZACAO_ESC|TP_SIT_FUNC_ESC|CO_MUNICIPIO_PROVA|  NO_MUNICIPIO_PROVA|CO_UF_PROVA|SG_UF_PROVA|TP_PRESENCA_CN|TP_PRESENCA_CH|TP_PRESENCA_LC|TP_PRESENCA_MT|CO_PROVA_CN|CO_PROVA_CH|CO_PROVA_LC|CO_PROVA_MT|NU_NOTA_CN|NU_NOTA_CH|NU_NOTA_LC|NU_NOTA_MT|     TX_RESPOSTAS_CN|     TX_RESPOSTAS_CH|     TX_RESPOSTAS_LC|     TX_RESPOSTAS_MT|TP_LINGUA|      TX_GABARITO_CN|      TX_GABARITO_CH|      TX_GABARITO_LC|      TX_GABARITO_MT|TP_STATUS_REDACAO|NU_NOTA_COMP1|NU_NOTA_COMP2|NU_NOTA_COMP3|NU_NOTA_COMP4|NU_NOTA_COMP5|NU_NOTA_REDACAO|Q001|Q002|Q003|Q004|Q005|Q006|Q007|Q008|Q009|Q010|Q011|Q012|Q013|Q014|Q015|Q016|Q017|Q018|Q019|Q020|Q021|Q022|Q023|Q024|Q025|\n",
      "+------------+------+---------------+-------+---------------+-----------+----------------+---------------+---------------+---------+---------+------------+----------------+--------------------+---------+---------+----------------------+------------------+---------------+------------------+--------------------+-----------+-----------+--------------+--------------+--------------+--------------+-----------+-----------+-----------+-----------+----------+----------+----------+----------+--------------------+--------------------+--------------------+--------------------+---------+--------------------+--------------------+--------------------+--------------------+-----------------+-------------+-------------+-------------+-------------+-------------+---------------+----+----+----+----+----+----+----+----+----+----+----+----+----+----+----+----+----+----+----+----+----+----+----+----+----+\n",
      "|200004567354|  2020|              4|      F|              1|          1|               1|              2|              0|        2|        1|           0|         3201506|            Colatina|       32|       ES|                     1|                 2|              1|           3201506|            Colatina|         32|         ES|             1|             1|             1|             1|        598|        567|        577|        588|     586.9|     610.6|     543.9|     544.9|CAABCBDCCEDAEBEDA...|ECBABDCAADDDECECB...|99999AEEDEABDBAEC...|DEDBECBACDCDBADDB...|        1|CEDBDDDCACCBDAEBA...|DABCBDDDAEDBECECB...|AAEDCACEEECEAACBA...|AEBCCXCCCACCDABCC...|                1|          160|          200|          140|          160|          180|            840|   H|   G|   C|   D|   2|   B|   A|   B|   C|   A|   A|   B|   A|   A|   A|   A|   A|   A|   B|   A|   A|   C|   A|   B|   B|\n",
      "|200001245211|  2020|              5|      F|              1|          1|               1|              2|              0|        2|        1|           0|         2305506|              Iguatu|       23|       CE|                     2|                 2|              1|           2305506|              Iguatu|         23|         CE|             0|             0|             0|             0|       null|       null|       null|       null|      null|      null|      null|      null|                null|                null|                null|                null|        1|                null|                null|                null|                null|             null|         null|         null|         null|         null|         null|           null|   B|   D|   A|   A|   5|   B|   A|   B|   C|   A|   B|   B|   A|   A|   A|   A|   A|   A|   B|   A|   A|   C|   A|   A|   B|\n",
      "|200004814878|  2020|              3|      F|              1|          1|               1|              2|              0|        2|        1|           0|         4306601|         Dom Pedrito|       43|       RS|                     2|                 2|              1|           4306601|         Dom Pedrito|         43|         RS|             1|             1|             1|             1|        599|        568|        578|        590|     571.8|     598.4|     519.5|     502.2|AADBDCCABECCDCEAE...|BBDCADCDEDDAEADCD...|99999CBECBAABADDC...|CCEEECBDABBABEAAD...|        1|CBDDDDCAAECEDDCED...|BDECBCCDEDDAEBDCD...|CDEAACAEEEBEBADAD...|CABCAACCACDABEEEB...|                1|          160|          200|          180|          200|          200|            940|   E|   E|   C|   B|   4|   B|   A|   B|   C|   B|   B|   B|   B|   A|   A|   B|   A|   A|   B|   A|   A|   B|   B|   B|   B|\n",
      "|200005669002|  2020|              2|      F|              1|          1|               1|              2|              0|        2|        1|           0|         3526902|             Limeira|       35|       SP|                     2|                 2|              1|           3526902|             Limeira|         35|         SP|             0|             0|             0|             0|       null|       null|       null|       null|      null|      null|      null|      null|                null|                null|                null|                null|        1|                null|                null|                null|                null|             null|         null|         null|         null|         null|         null|           null|null|null|null|null|null|null|null|null|null|null|null|null|null|null|null|null|null|null|null|null|null|null|null|null|null|\n",
      "|200006495981|  2020|              2|      M|              1|          2|               1|              2|              0|        2|        1|           0|         2307106|              Jardim|       23|       CE|                     2|                 2|              1|           2307106|              Jardim|         23|         CE|             1|             1|             1|             1|        599|        568|        578|        590|     532.2|     568.3|     557.5|     613.7|ECCDAACEBBCDDCCAC...|BDACAECDEEAAEBDED...|99999EAEECBECECAD...|CDBAEBBCBCBABEAEB...|        1|CBDDDDCAAECEDDCED...|BDECBCCDEDDAEBDCD...|CDEAACAEEEBEBADAD...|CABCAACCACDABEEEB...|                1|           80|          140|          120|          140|          140|            620|   D|   C|   B|   B|   6|   B|   A|   C|   D|   A|   A|   B|   B|   A|   A|   B|   A|   A|   C|   A|   A|   D|   A|   A|   B|\n",
      "|200002241515|  2020|              2|      F|              1|          1|               1|              2|              0|        2|        1|           0|         3512001|              Colina|       35|       SP|                     3|                 2|              1|           3505500|            Barretos|         35|         SP|             1|             1|             1|             1|        597|        569|        580|        587|     510.3|     353.0|     403.3|     589.9|EDCBECACBDCEBCDCD...|ECAECBACEDAEBDAEC...|99999ACECACEBDCDA...|BADCBCBDDDBDCEBBB...|        1|DDBACBDDDECDAEDCC...|DECCADEBDECBBECDD...|DCEAAEEEACAACBBEB...|DABCCAEDBBCCCABCA...|                1|          160|          200|          180|          180|          180|            900|   F|   D|   E|   F|   4|   J|   A|   B|   C|   B|   A|   B|   A|   B|   A|   A|   A|   A|   B|   A|   A|   D|   A|   A|   B|\n",
      "|200003839970|  2020|              2|      F|              1|          3|               1|              2|              0|        2|        1|           0|         3103405|             Araçuaí|       31|       MG|                     1|                 2|              1|           3103405|             Araçuaí|         31|         MG|             1|             1|             1|             1|        599|        568|        578|        590|     644.5|     713.9|     607.1|     782.0|CBDCEBCAAACADBCAD...|BDECACCDEDDADBDCD...|99999CDECCBECDDDD...|CDBCAACCABAABBEEB...|        1|CBDDDDCAAECEDDCED...|BDECBCCDEDDAEBDCD...|CDEAACAEEEBEBADAD...|CABCAACCACDABEEEB...|                1|          180|          200|          200|          200|          200|            980|   B|   G|   A|   C|   3|   E|   B|   B|   C|   B|   B|   B|   B|   B|   A|   B|   A|   A|   B|   A|   A|   C|   A|   B|   B|\n",
      "|200006801960|  2020|              2|      F|              1|          3|               1|              2|              0|        2|        1|           0|         5102637|Campo Novo do Par...|       51|       MT|                     1|                 2|              1|           5102637|Campo Novo do Par...|         51|         MT|             1|             1|             1|             1|        597|        569|        580|        587|     443.0|     531.6|     528.5|     490.1|ACCEBACBEDAECDCAC...|AECBEBDABBCABBCDC...|99999AEDDEDBAEBDB...|BDDDCAEDBDBBEBBEE...|        1|DDBACBDDDECDAEDCC...|DECCADEBDECBBECDD...|DCEAAEEEACAACBBEB...|DABCCAEDBBCCCABCA...|                1|          120|          120|          140|          120|          140|            640|   F|   F|   A|   D|   4|   H|   A|   D|   D|   C|   C|   B|   B|   B|   B|   B|   A|   A|   B|   A|   B|   E|   B|   C|   B|\n",
      "|200001809360|  2020|              3|      F|              1|          3|               1|              2|              0|        2|        1|           0|         3305554|          Seropédica|       33|       RJ|                     2|                 2|              1|           3305554|          Seropédica|         33|         RJ|             1|             1|             1|             1|        600|        570|        579|        589|     567.9|     662.3|     570.5|     538.0|DCBCCACEEDABC*ACA...|BBCEEEBCEACDADEAB...|BDBBE99999DBACAEA...|CABBDCBABECCDACCD...|        0|DCDXDCCAEBADCBAAE...|BDDBECECBACDBDEEB...|AACDEEEECADBBCAAA...|BAECDBBXCCCBDBACC...|                1|          160|          200|          160|          200|          180|            900|   B|   B|   B|   B|   5|   B|   A|   B|   C|   A|   A|   B|   A|   B|   A|   A|   A|   A|   B|   A|   A|   C|   A|   A|   B|\n",
      "|200002101342|  2020|              2|      F|              1|          1|               1|              2|              0|        2|        1|           0|         5104104|   Guarantã do Norte|       51|       MT|                     1|                 2|              1|           5104104|   Guarantã do Norte|         51|         MT|             1|             1|             1|             1|        597|        569|        580|        587|     454.6|     506.9|     588.4|     710.2|EDDABCCCCCCCCCCBA...|CDEBBBACDCAACDDDB...|ECEAD99999DBCBBDA...|AABCCCBBBBBBCCCCC...|        0|DDBACBDDDECDAEDCC...|DECCADEBDECBBECDD...|DCEAAEEEACAACBBEB...|DABCCAEDBBCCCABCA...|                1|          160|          180|          200|          200|          200|            940|   G|   G|   B|   B|   3|   F|   A|   C|   C|   B|   A|   B|   A|   B|   A|   B|   A|   A|   C|   A|   B|   D|   A|   B|   B|\n",
      "|200001701170|  2020|              4|      F|              1|          1|               1|              2|              0|        2|        1|           0|         4308102|               Feliz|       43|       RS|                     1|                 2|              1|           4305108|       Caxias do Sul|         43|         RS|             1|             1|             1|             1|        598|        567|        577|        588|     559.1|     617.4|     597.3|     695.9|DADADCDAACBBECDED...|DBCEBDDAAADBECBCA...|DAECC99999BEEBCBD...|AEDEDCBBDBCDDACCC...|        0|CEDBDDDCACCBDAEBA...|DABCBDDDAEDBECECB...|AAEDCACEEECEAACBA...|AEBCCXCCCACCDABCC...|                1|          120|          120|          120|          140|          120|            620|   F|   E|   B|   B|   3|   C|   A|   C|   D|   A|   A|   B|   B|   B|   A|   B|   A|   B|   B|   A|   B|   D|   A|   B|   B|\n",
      "|200002362551|  2020|              2|      M|              1|          3|               1|              2|              0|        2|        1|           0|         2611002|         Petrolândia|       26|       PE|                     2|                 2|              1|           2611002|         Petrolândia|         26|         PE|             1|             1|             1|             1|        599|        568|        578|        590|     554.4|     585.9|     537.5|     625.5|ABDDECCACBCDDBEAE...|BBECADCDEDDAABDCD...|BBDAA99999AEBDAAA...|CAABDBCAADEAABAEB...|        0|CBDDDDCAAECEDDCED...|BDECBCCDEDDAEBDCD...|CDEAACAEEEBEBADAD...|CABCAACCACDABEEEB...|                1|          120|          120|          120|          120|          140|            620|   C|   F|   D|   D|   4|   F|   A|   C|   D|   C|   B|   B|   B|   B|   B|   B|   A|   A|   D|   A|   A|   E|   A|   B|   B|\n",
      "|200001590151|  2020|              2|      F|              1|          3|               1|              2|              0|        2|        1|           0|         2906709|       Cândido Sales|       29|       BA|                     2|                 2|              1|           2933307|Vitória da Conquista|         29|         BA|             1|             1|             1|             1|        598|        567|        577|        588|     488.2|     546.5|     594.9|     407.3|CAAABEAACCBDEBDAE...|EBEABDCCACDACCEBA...|99999ACBEECEABDBE...|EEABAEAEDEEDBACDA...|        1|CEDBDDDCACCBDAEBA...|DABCBDDDAEDBECECB...|AAEDCACEEECEAACBA...|AEBCCXCCCACCDABCC...|                1|          120|          180|          140|          140|          160|            740|   C|   E|   A|   B|   5|   A|   A|   B|   C|   A|   B|   B|   A|   B|   A|   A|   A|   A|   A|   A|   A|   C|   A|   A|   B|\n",
      "|200004937605|  2020|              2|      F|              3|          2|               1|              2|              0|        2|        1|           0|         3204609|        Santa Teresa|       32|       ES|                     1|                 2|              1|           3204609|        Santa Teresa|         32|         ES|             1|             1|             1|             1|        597|        569|        580|        587|     502.0|     596.4|     546.9|     510.6|DCBDECEBEEDECEEBD...|AEABABCEDBCBBECED...|99999EEEBCEBCABEB...|BAECBDEBDCBDCEBBC...|        1|DDBACBDDDECDAEDCC...|DECCADEBDECBBECDD...|DCEAAEEEACAACBBEB...|DABCCAEDBBCCCABCA...|                1|          100|           40|           40|          120|           40|            340|   F|   F|   E|   E|   2|   D|   A|   C|   C|   A|   A|   B|   B|   A|   A|   A|   A|   A|   B|   B|   A|   C|   A|   B|   B|\n",
      "|200001810133|  2020|              2|      F|              1|          1|               1|              2|              0|        2|        1|           0|         2313500|              Trairi|       23|       CE|                     2|                 2|              1|           2313500|              Trairi|         23|         CE|             1|             1|             1|             1|        597|        569|        580|        587|     518.8|     544.7|     558.6|     553.7|DDACBADDBEDEADDAC...|AEDBEADCDECACBEDD...|99999AEECCEBCABEB...|BACCBBEBADBECEDBD...|        1|DDBACBDDDECDAEDCC...|DECCADEBDECBBECDD...|DCEAAEEEACAACBBEB...|DABCCAEDBBCCCABCA...|                1|          160|          200|          160|          180|          120|            820|   B|   B|   C|   B|   5|   B|   A|   B|   C|   A|   B|   B|   A|   A|   A|   A|   A|   A|   B|   A|   A|   C|   A|   A|   B|\n",
      "|200001740009|  2020|              2|      F|              1|          3|               1|              2|              0|        2|        1|           0|         2301901|            Barbalha|       23|       CE|                     2|                 2|              1|           2612208|           Salgueiro|         26|         PE|             0|             0|             0|             0|       null|       null|       null|       null|      null|      null|      null|      null|                null|                null|                null|                null|        0|                null|                null|                null|                null|             null|         null|         null|         null|         null|         null|           null|   B|   E|   A|   C|   7|   D|   A|   C|   C|   A|   A|   B|   B|   A|   A|   A|   A|   A|   B|   B|   A|   E|   A|   A|   B|\n",
      "|200001315078|  2020|              2|      F|              1|          1|               1|              2|              0|        2|        1|           0|         3527207|              Lorena|       35|       SP|                     2|                 2|              1|           3527207|              Lorena|         35|         SP|             1|             1|             1|             1|        597|        569|        580|        587|     542.6|     589.1|     590.7|     695.1|EDDBEDDABDDBAECDD...|AEDCCDDDEDBCCECDD...|ECCAA99999EBDABBD...|DACCBBEDBBDDBDEDA...|        0|DDBACBDDDECDAEDCC...|DECCADEBDECBBECDD...|DCEAAEEEACAACBBEB...|DABCCAEDBBCCCABCA...|                1|          160|          180|          140|          140|           20|            640|   F|   E|   D|   D|   4|   G|   A|   C|   E|   B|   A|   C|   A|   B|   A|   B|   A|   B|   C|   B|   B|   D|   B|   C|   B|\n",
      "|200001686921|  2020|              3|      F|              1|          2|               1|              2|              0|        2|        1|           0|         3305000|   São João da Barra|       33|       RJ|                     1|                 2|              1|           3301009|Campos dos Goytac...|         33|         RJ|             1|             1|             1|             1|        599|        568|        578|        590|     473.4|     555.9|     506.0|     506.9|EDCBECBACDCCDADAB...|BCDCCCBADDAADBECD...|CACEA99999ACBAECA...|CEDBBCBDCBDACEAAB...|        0|CBDDDDCAAECEDDCED...|BDECBCCDEDDAEBDCD...|CDEAACAEEEBEBADAD...|CABCAACCACDABEEEB...|                1|          120|          120|          120|          120|          120|            600|   H|   D|   B|   B|   4|   C|   A|   B|   C|   B|   A|   B|   A|   A|   A|   A|   A|   A|   B|   B|   A|   E|   A|   A|   A|\n",
      "|200002876824|  2020|              2|      F|              1|          1|               1|              2|              0|        2|        1|           0|         2707701|           Rio Largo|       27|       AL|                     2|                 2|              1|           2707701|           Rio Largo|         27|         AL|             1|             1|             1|             1|        598|        567|        577|        588|     424.7|     560.0|     523.5|     411.3|EADBCDCBEEADACEBB...|DACAADADADDBDCEEA...|99999DCEDEDBDABAC...|BCBDDBAEBABECACCB...|        1|CEDBDDDCACCBDAEBA...|DABCBDDDAEDBECECB...|AAEDCACEEECEAACBA...|AEBCCXCCCACCDABCC...|                1|          140|          120|          100|          120|          120|            600|   C|   C|   C|   B|   3|   B|   A|   B|   C|   A|   A|   B|   A|   A|   A|   A|   A|   A|   B|   A|   A|   C|   A|   A|   B|\n",
      "|200003784588|  2020|              3|      F|              1|          3|               1|              2|              0|        2|        1|           0|         1501303|           Barcarena|       15|       PA|                     2|                 2|              1|           1501303|           Barcarena|         15|         PA|             1|             1|             1|             1|        599|        568|        578|        590|     473.6|     557.8|     597.4|     540.1|ACCDECBAEADCDEDEB...|BBAABEDCEDDADBDCD...|CCDAA99999EEBDCED...|DDDBEACCDBCAAADCD...|        0|CBDDDDCAAECEDDCED...|BDECBCCDEDDAEBDCD...|CDEAACAEEEBEBADAD...|CABCAACCACDABEEEB...|                1|          120|          160|          120|          160|          160|            720|   E|   E|   B|   B|   4|   C|   A|   B|   D|   A|   A|   B|   A|   A|   A|   A|   A|   A|   B|   A|   A|   D|   A|   B|   B|\n",
      "+------------+------+---------------+-------+---------------+-----------+----------------+---------------+---------------+---------+---------+------------+----------------+--------------------+---------+---------+----------------------+------------------+---------------+------------------+--------------------+-----------+-----------+--------------+--------------+--------------+--------------+-----------+-----------+-----------+-----------+----------+----------+----------+----------+--------------------+--------------------+--------------------+--------------------+---------+--------------------+--------------------+--------------------+--------------------+-----------------+-------------+-------------+-------------+-------------+-------------+---------------+----+----+----+----+----+----+----+----+----+----+----+----+----+----+----+----+----+----+----+----+----+----+----+----+----+\n",
      "only showing top 20 rows\n",
      "\n"
     ]
    }
   ],
   "source": [
    "alunos_rural = (\n",
    "    enem_df\n",
    "    .filter(col('TP_LOCALIZACAO_ESC') == 2)\n",
    ")\n",
    "\n",
    "alunos_rural.show()"
   ]
  },
  {
   "cell_type": "code",
   "execution_count": 39,
   "metadata": {},
   "outputs": [
    {
     "name": "stdout",
     "output_type": "stream",
     "text": [
      "18979 alunos de região rural possuem internet em casa\n"
     ]
    }
   ],
   "source": [
    "rural_internet = (\n",
    "    alunos_rural\n",
    "    .filter(col('Q025') == 'B')\n",
    "    .count()\n",
    ")\n",
    "\n",
    "print(rural_internet,'alunos de região rural possuem internet em casa')"
   ]
  },
  {
   "attachments": {},
   "cell_type": "markdown",
   "metadata": {},
   "source": [
    "15 - Qual é o nome do município que contém a SEGUNDA maior quantidade total de inscritos no ENEM 2020?"
   ]
  },
  {
   "cell_type": "code",
   "execution_count": 40,
   "metadata": {},
   "outputs": [
    {
     "name": "stdout",
     "output_type": "stream",
     "text": [
      "+----------------+-------+\n",
      "|NO_MUNICIPIO_ESC|  count|\n",
      "+----------------+-------+\n",
      "|            null|4878540|\n",
      "|       São Paulo|  38277|\n",
      "|       Fortaleza|  27783|\n",
      "|  Rio de Janeiro|  26431|\n",
      "|        Brasília|  19840|\n",
      "|          Manaus|  17120|\n",
      "|  Belo Horizonte|  11826|\n",
      "|          Recife|  10735|\n",
      "|        Salvador|  10500|\n",
      "|        Curitiba|   9868|\n",
      "|           Belém|   9137|\n",
      "|         Goiânia|   8920|\n",
      "|        São Luís|   6573|\n",
      "|        Teresina|   5776|\n",
      "|    Porto Alegre|   5650|\n",
      "|          Maceió|   5070|\n",
      "|     João Pessoa|   5005|\n",
      "|    Campo Grande|   4767|\n",
      "|       Guarulhos|   4689|\n",
      "|           Natal|   4519|\n",
      "+----------------+-------+\n",
      "only showing top 20 rows\n",
      "\n"
     ]
    }
   ],
   "source": [
    "(\n",
    "    enem_df\n",
    "    .groupBy('NO_MUNICIPIO_ESC')\n",
    "    .count()\n",
    "    .sort(col('count').desc())\n",
    "    .show()\n",
    ")"
   ]
  }
 ],
 "metadata": {
  "kernelspec": {
   "display_name": "base",
   "language": "python",
   "name": "python3"
  },
  "language_info": {
   "codemirror_mode": {
    "name": "ipython",
    "version": 3
   },
   "file_extension": ".py",
   "mimetype": "text/x-python",
   "name": "python",
   "nbconvert_exporter": "python",
   "pygments_lexer": "ipython3",
   "version": "3.10.11"
  },
  "orig_nbformat": 4
 },
 "nbformat": 4,
 "nbformat_minor": 2
}
