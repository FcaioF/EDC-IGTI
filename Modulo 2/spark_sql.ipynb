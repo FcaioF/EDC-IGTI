{
 "cells": [
  {
   "cell_type": "code",
   "execution_count": 1,
   "metadata": {},
   "outputs": [],
   "source": [
    "#imports\n",
    "from pyspark.sql import SparkSession\n",
    "from pyspark.sql.functions import * \n",
    "from pyspark.sql.types import *"
   ]
  },
  {
   "cell_type": "code",
   "execution_count": 2,
   "metadata": {},
   "outputs": [
    {
     "name": "stderr",
     "output_type": "stream",
     "text": [
      "23/06/06 17:41:10 WARN Utils: Your hostname, caio-HP-250-G8-Notebook-PC resolves to a loopback address: 127.0.1.1; using 192.168.1.122 instead (on interface wlo1)\n",
      "23/06/06 17:41:10 WARN Utils: Set SPARK_LOCAL_IP if you need to bind to another address\n",
      "WARNING: An illegal reflective access operation has occurred\n",
      "WARNING: Illegal reflective access by org.apache.spark.unsafe.Platform (file:/opt/anaconda3/lib/python3.9/site-packages/pyspark/jars/spark-unsafe_2.12-3.2.1.jar) to constructor java.nio.DirectByteBuffer(long,int)\n",
      "WARNING: Please consider reporting this to the maintainers of org.apache.spark.unsafe.Platform\n",
      "WARNING: Use --illegal-access=warn to enable warnings of further illegal reflective access operations\n",
      "WARNING: All illegal access operations will be denied in a future release\n",
      "Using Spark's default log4j profile: org/apache/spark/log4j-defaults.properties\n",
      "Setting default log level to \"WARN\".\n",
      "To adjust logging level use sc.setLogLevel(newLevel). For SparkR, use setLogLevel(newLevel).\n",
      "23/06/06 17:41:11 WARN NativeCodeLoader: Unable to load native-hadoop library for your platform... using builtin-java classes where applicable\n"
     ]
    }
   ],
   "source": [
    "#instanciando spark \n",
    "spark = SparkSession.builder \\\n",
    "    .master('local[*]') \\\n",
    "    .appName('Estatistica_descritiva') \\\n",
    "    .config('spark.ui.port', '4050') \\\n",
    "    .getOrCreate()"
   ]
  },
  {
   "cell_type": "code",
   "execution_count": 3,
   "metadata": {},
   "outputs": [],
   "source": [
    "#diretorios de trabalho\n",
    "fire_db = '/mnt/48447c52-52ac-4abb-be1b-d26a64732ee0/cursos/XP_Educação/engenheiro_de_dados_cloud/Modulo 2/base_dados/Fire_Department_Calls_for_Service/base_aulas/sf-fire-calls.csv'"
   ]
  },
  {
   "cell_type": "code",
   "execution_count": 4,
   "metadata": {},
   "outputs": [
    {
     "name": "stderr",
     "output_type": "stream",
     "text": [
      "23/06/06 17:43:02 WARN package: Truncated the string representation of a plan since it was too large. This behavior can be adjusted by setting 'spark.sql.debug.maxToStringFields'.\n"
     ]
    },
    {
     "name": "stdout",
     "output_type": "stream",
     "text": [
      "+----------+------+--------------+----------------+----------+----------+--------------------+----------------------+------------------------------+----+-------+---------+-----------+----+----------------+--------+-------------+-------+-------------+---------+--------------+--------------------------+----------------------+------------------+------------------------------+-------------------------------------+-------------+---------+\n",
      "|CallNumber|UnitID|IncidentNumber|CallType        |CallDate  |WatchDate |CallFinalDisposition|AvailableDtTm         |Address                       |City|Zipcode|Battalion|StationArea|Box |OriginalPriority|Priority|FinalPriority|ALSUnit|CallTypeGroup|NumAlarms|UnitType      |UnitSequenceInCallDispatch|FirePreventionDistrict|SupervisorDistrict|Neighborhood                  |Location                             |RowID        |Delay    |\n",
      "+----------+------+--------------+----------------+----------+----------+--------------------+----------------------+------------------------------+----+-------+---------+-----------+----+----------------+--------+-------------+-------+-------------+---------+--------------+--------------------------+----------------------+------------------+------------------------------+-------------------------------------+-------------+---------+\n",
      "|20110016  |T13   |2003235       |Structure Fire  |01/11/2002|01/10/2002|Other               |01/11/2002 01:51:44 AM|2000 Block of CALIFORNIA ST   |SF  |94109  |B04      |38         |3362|3               |3       |3            |false  |null         |1        |TRUCK         |2                         |4                     |5                 |Pacific Heights               |(37.7895840679362, -122.428071912459)|020110016-T13|2.95     |\n",
      "|20110022  |M17   |2003241       |Medical Incident|01/11/2002|01/10/2002|Other               |01/11/2002 03:01:18 AM|0 Block of SILVERVIEW DR      |SF  |94124  |B10      |42         |6495|3               |3       |3            |true   |null         |1        |MEDIC         |1                         |10                    |10                |Bayview Hunters Point         |(37.7337623673897, -122.396113802632)|020110022-M17|4.7      |\n",
      "|20110023  |M41   |2003242       |Medical Incident|01/11/2002|01/10/2002|Other               |01/11/2002 02:39:50 AM|MARKET ST/MCALLISTER ST       |SF  |94102  |B03      |01         |1455|3               |3       |3            |true   |null         |1        |MEDIC         |2                         |3                     |6                 |Tenderloin                    |(37.7811772186856, -122.411699931232)|020110023-M41|2.4333334|\n",
      "|20110032  |E11   |2003250       |Vehicle Fire    |01/11/2002|01/10/2002|Other               |01/11/2002 04:16:46 AM|APPLETON AV/MISSION ST        |SF  |94110  |B06      |32         |5626|3               |3       |3            |false  |null         |1        |ENGINE        |1                         |6                     |9                 |Bernal Heights                |(37.7388432849018, -122.423948785199)|020110032-E11|1.5      |\n",
      "|20110043  |B04   |2003259       |Alarms          |01/11/2002|01/10/2002|Other               |01/11/2002 06:01:58 AM|1400 Block of SUTTER ST       |SF  |94109  |B04      |03         |3223|3               |3       |3            |false  |null         |1        |CHIEF         |2                         |4                     |2                 |Western Addition              |(37.7872890372638, -122.424236212664)|020110043-B04|3.4833333|\n",
      "|20110072  |T08   |2003279       |Structure Fire  |01/11/2002|01/11/2002|Other               |01/11/2002 08:03:26 AM|BEALE ST/FOLSOM ST            |SF  |94105  |B03      |35         |2122|3               |3       |3            |false  |null         |1        |TRUCK         |2                         |3                     |6                 |Financial District/South Beach|(37.7886866619654, -122.392722833778)|020110072-T08|1.75     |\n",
      "|20110125  |E33   |2003301       |Alarms          |01/11/2002|01/11/2002|Other               |01/11/2002 09:46:44 AM|0 Block of FARALLONES ST      |SF  |94112  |B09      |33         |8324|3               |3       |3            |false  |null         |1        |ENGINE        |2                         |9                     |11                |Oceanview/Merced/Ingleside    |(37.7140353531157, -122.454117149916)|020110125-E33|2.7166667|\n",
      "|20110130  |E36   |2003304       |Alarms          |01/11/2002|01/11/2002|Other               |01/11/2002 09:58:53 AM|600 Block of POLK ST          |SF  |94102  |B02      |03         |3114|3               |3       |3            |false  |null         |1        |ENGINE        |1                         |2                     |6                 |Tenderloin                    |(37.7826266328595, -122.41915582123) |020110130-E36|1.7833333|\n",
      "|20110197  |E05   |2003343       |Medical Incident|01/11/2002|01/11/2002|Other               |01/11/2002 12:06:57 PM|1500 Block of WEBSTER ST      |SF  |94115  |B04      |05         |3513|3               |3       |3            |false  |null         |1        |ENGINE        |1                         |4                     |5                 |Japantown                     |(37.784958590666, -122.431435274503) |020110197-E05|1.5166667|\n",
      "|20110215  |E06   |2003348       |Medical Incident|01/11/2002|01/11/2002|Other               |01/11/2002 01:08:40 PM|DIAMOND ST/MARKET ST          |SF  |94114  |B05      |06         |5415|3               |3       |3            |false  |null         |1        |ENGINE        |1                         |5                     |8                 |Castro/Upper Market           |(37.7618954753708, -122.437298717721)|020110215-E06|2.7666667|\n",
      "|20110274  |M07   |2003381       |Medical Incident|01/11/2002|01/11/2002|Other               |01/11/2002 03:31:02 PM|2700 Block of MISSION ST      |SF  |94110  |B06      |11         |5525|1               |1       |2            |true   |null         |1        |MEDIC         |1                         |6                     |9                 |Mission                       |(37.7530339738059, -122.418588598473)|020110274-M07|2.1833334|\n",
      "|20110275  |T15   |2003382       |Structure Fire  |01/11/2002|01/11/2002|Other               |01/11/2002 02:59:04 PM|BRUNSWICK ST/GUTTENBERG ST    |SF  |94112  |B09      |43         |6218|3               |3       |3            |false  |null         |1        |TRUCK         |1                         |9                     |11                |Excelsior                     |(37.7105545807996, -122.443335369545)|020110275-T15|2.5      |\n",
      "|20110304  |E03   |2003399       |Medical Incident|01/11/2002|01/11/2002|Other               |01/11/2002 04:22:49 PM|1000 Block of SUTTER ST       |SF  |94109  |B04      |03         |1557|3               |3       |3            |false  |null         |1        |ENGINE        |1                         |4                     |3                 |Nob Hill                      |(37.7881263034393, -122.417657214041)|020110304-E03|2.4166667|\n",
      "|20110308  |E14   |2003403       |Medical Incident|01/11/2002|01/11/2002|Other               |01/11/2002 04:18:33 PM|100 Block of 21ST AVE         |SF  |94121  |B07      |14         |7173|3               |3       |3            |false  |null         |1        |ENGINE        |1                         |7                     |1                 |Outer Richmond                |(37.7850084431077, -122.480723607753)|020110308-E14|4.95     |\n",
      "|20110313  |B10   |2003408       |Structure Fire  |01/11/2002|01/11/2002|Other               |01/11/2002 04:09:08 PM|700 Block of CAPP ST          |SF  |94110  |B06      |07         |5472|3               |3       |3            |false  |null         |1        |CHIEF         |6                         |6                     |9                 |Mission                       |(37.7547064357942, -122.417513465479)|020110313-B10|1.4166666|\n",
      "|20110313  |D3    |2003408       |Structure Fire  |01/11/2002|01/11/2002|Other               |01/11/2002 04:09:08 PM|700 Block of CAPP ST          |SF  |94110  |B06      |07         |5472|3               |3       |3            |false  |null         |1        |CHIEF         |4                         |6                     |9                 |Mission                       |(37.7547064357942, -122.417513465479)|020110313-D3 |2.5333333|\n",
      "|20110313  |E32   |2003408       |Structure Fire  |01/11/2002|01/11/2002|Other               |01/11/2002 04:09:08 PM|700 Block of CAPP ST          |SF  |94110  |B06      |07         |5472|3               |3       |3            |true   |null         |1        |ENGINE        |8                         |6                     |9                 |Mission                       |(37.7547064357942, -122.417513465479)|020110313-E32|1.8833333|\n",
      "|20110315  |RC2   |2003409       |Medical Incident|01/11/2002|01/11/2002|Other               |01/11/2002 04:34:23 PM|200 Block of LAGUNA HONDA BLVD|SF  |94116  |B08      |20         |8635|3               |3       |3            |true   |null         |1        |RESCUE CAPTAIN|2                         |8                     |7                 |West of Twin Peaks            |(37.7501117393668, -122.460819155469)|020110315-RC2|5.35     |\n",
      "|20110330  |E14   |2003417       |Medical Incident|01/11/2002|01/11/2002|Other               |01/11/2002 04:51:31 PM|BALBOA ST/PARK PRESIDIO BL    |SF  |94118  |B07      |31         |7145|3               |3       |3            |false  |null         |1        |ENGINE        |1                         |7                     |1                 |Inner Richmond                |(37.7768682293368, -122.472039541478)|020110330-E14|2.0      |\n",
      "|20110330  |M12   |2003417       |Medical Incident|01/11/2002|01/11/2002|Other               |01/11/2002 04:51:12 PM|BALBOA ST/PARK PRESIDIO BL    |SF  |94118  |B07      |31         |7145|3               |3       |3            |true   |null         |1        |MEDIC         |2                         |7                     |1                 |Inner Richmond                |(37.7768682293368, -122.472039541478)|020110330-M12|1.8166667|\n",
      "+----------+------+--------------+----------------+----------+----------+--------------------+----------------------+------------------------------+----+-------+---------+-----------+----+----------------+--------+-------------+-------+-------------+---------+--------------+--------------------------+----------------------+------------------+------------------------------+-------------------------------------+-------------+---------+\n",
      "only showing top 20 rows\n",
      "\n"
     ]
    }
   ],
   "source": [
    "#leitura da base de dados \n",
    "\n",
    "fire_df = (\n",
    "    spark\n",
    "    .read\n",
    "    .csv(fire_db,header=True,inferSchema=True)\n",
    ")\n",
    "\n",
    "fire_df.show(truncate=False)\n"
   ]
  },
  {
   "cell_type": "code",
   "execution_count": 5,
   "metadata": {},
   "outputs": [
    {
     "data": {
      "text/plain": [
       "175296"
      ]
     },
     "execution_count": 5,
     "metadata": {},
     "output_type": "execute_result"
    }
   ],
   "source": [
    "#contando registros\n",
    "fire_df.count()"
   ]
  },
  {
   "cell_type": "code",
   "execution_count": 6,
   "metadata": {},
   "outputs": [
    {
     "data": {
      "text/plain": [
       "[Row(CallNumber=20110016, UnitID='T13', IncidentNumber=2003235, CallType='Structure Fire', CallDate='01/11/2002', WatchDate='01/10/2002', CallFinalDisposition='Other', AvailableDtTm='01/11/2002 01:51:44 AM', Address='2000 Block of CALIFORNIA ST', City='SF', Zipcode=94109, Battalion='B04', StationArea='38', Box='3362', OriginalPriority='3', Priority='3', FinalPriority=3, ALSUnit=False, CallTypeGroup=None, NumAlarms=1, UnitType='TRUCK', UnitSequenceInCallDispatch=2, FirePreventionDistrict='4', SupervisorDistrict='5', Neighborhood='Pacific Heights', Location='(37.7895840679362, -122.428071912459)', RowID='020110016-T13', Delay=2.95),\n",
       " Row(CallNumber=20110022, UnitID='M17', IncidentNumber=2003241, CallType='Medical Incident', CallDate='01/11/2002', WatchDate='01/10/2002', CallFinalDisposition='Other', AvailableDtTm='01/11/2002 03:01:18 AM', Address='0 Block of SILVERVIEW DR', City='SF', Zipcode=94124, Battalion='B10', StationArea='42', Box='6495', OriginalPriority='3', Priority='3', FinalPriority=3, ALSUnit=True, CallTypeGroup=None, NumAlarms=1, UnitType='MEDIC', UnitSequenceInCallDispatch=1, FirePreventionDistrict='10', SupervisorDistrict='10', Neighborhood='Bayview Hunters Point', Location='(37.7337623673897, -122.396113802632)', RowID='020110022-M17', Delay=4.7),\n",
       " Row(CallNumber=20110023, UnitID='M41', IncidentNumber=2003242, CallType='Medical Incident', CallDate='01/11/2002', WatchDate='01/10/2002', CallFinalDisposition='Other', AvailableDtTm='01/11/2002 02:39:50 AM', Address='MARKET ST/MCALLISTER ST', City='SF', Zipcode=94102, Battalion='B03', StationArea='01', Box='1455', OriginalPriority='3', Priority='3', FinalPriority=3, ALSUnit=True, CallTypeGroup=None, NumAlarms=1, UnitType='MEDIC', UnitSequenceInCallDispatch=2, FirePreventionDistrict='3', SupervisorDistrict='6', Neighborhood='Tenderloin', Location='(37.7811772186856, -122.411699931232)', RowID='020110023-M41', Delay=2.4333334),\n",
       " Row(CallNumber=20110032, UnitID='E11', IncidentNumber=2003250, CallType='Vehicle Fire', CallDate='01/11/2002', WatchDate='01/10/2002', CallFinalDisposition='Other', AvailableDtTm='01/11/2002 04:16:46 AM', Address='APPLETON AV/MISSION ST', City='SF', Zipcode=94110, Battalion='B06', StationArea='32', Box='5626', OriginalPriority='3', Priority='3', FinalPriority=3, ALSUnit=False, CallTypeGroup=None, NumAlarms=1, UnitType='ENGINE', UnitSequenceInCallDispatch=1, FirePreventionDistrict='6', SupervisorDistrict='9', Neighborhood='Bernal Heights', Location='(37.7388432849018, -122.423948785199)', RowID='020110032-E11', Delay=1.5),\n",
       " Row(CallNumber=20110043, UnitID='B04', IncidentNumber=2003259, CallType='Alarms', CallDate='01/11/2002', WatchDate='01/10/2002', CallFinalDisposition='Other', AvailableDtTm='01/11/2002 06:01:58 AM', Address='1400 Block of SUTTER ST', City='SF', Zipcode=94109, Battalion='B04', StationArea='03', Box='3223', OriginalPriority='3', Priority='3', FinalPriority=3, ALSUnit=False, CallTypeGroup=None, NumAlarms=1, UnitType='CHIEF', UnitSequenceInCallDispatch=2, FirePreventionDistrict='4', SupervisorDistrict='2', Neighborhood='Western Addition', Location='(37.7872890372638, -122.424236212664)', RowID='020110043-B04', Delay=3.4833333)]"
      ]
     },
     "execution_count": 6,
     "metadata": {},
     "output_type": "execute_result"
    }
   ],
   "source": [
    "fire_df.head(5)"
   ]
  },
  {
   "attachments": {},
   "cell_type": "markdown",
   "metadata": {},
   "source": [
    "Trabalhando com SQL"
   ]
  },
  {
   "cell_type": "code",
   "execution_count": 7,
   "metadata": {},
   "outputs": [
    {
     "name": "stdout",
     "output_type": "stream",
     "text": [
      "+----------+------+--------------+----------------+----------+----------+--------------------+----------------------+------------------------------+----+-------+---------+-----------+----+----------------+--------+-------------+-------+-------------+---------+--------------+--------------------------+----------------------+------------------+------------------------------+-------------------------------------+-------------+---------+\n",
      "|CallNumber|UnitID|IncidentNumber|CallType        |CallDate  |WatchDate |CallFinalDisposition|AvailableDtTm         |Address                       |City|Zipcode|Battalion|StationArea|Box |OriginalPriority|Priority|FinalPriority|ALSUnit|CallTypeGroup|NumAlarms|UnitType      |UnitSequenceInCallDispatch|FirePreventionDistrict|SupervisorDistrict|Neighborhood                  |Location                             |RowID        |Delay    |\n",
      "+----------+------+--------------+----------------+----------+----------+--------------------+----------------------+------------------------------+----+-------+---------+-----------+----+----------------+--------+-------------+-------+-------------+---------+--------------+--------------------------+----------------------+------------------+------------------------------+-------------------------------------+-------------+---------+\n",
      "|20110016  |T13   |2003235       |Structure Fire  |01/11/2002|01/10/2002|Other               |01/11/2002 01:51:44 AM|2000 Block of CALIFORNIA ST   |SF  |94109  |B04      |38         |3362|3               |3       |3            |false  |null         |1        |TRUCK         |2                         |4                     |5                 |Pacific Heights               |(37.7895840679362, -122.428071912459)|020110016-T13|2.95     |\n",
      "|20110022  |M17   |2003241       |Medical Incident|01/11/2002|01/10/2002|Other               |01/11/2002 03:01:18 AM|0 Block of SILVERVIEW DR      |SF  |94124  |B10      |42         |6495|3               |3       |3            |true   |null         |1        |MEDIC         |1                         |10                    |10                |Bayview Hunters Point         |(37.7337623673897, -122.396113802632)|020110022-M17|4.7      |\n",
      "|20110023  |M41   |2003242       |Medical Incident|01/11/2002|01/10/2002|Other               |01/11/2002 02:39:50 AM|MARKET ST/MCALLISTER ST       |SF  |94102  |B03      |01         |1455|3               |3       |3            |true   |null         |1        |MEDIC         |2                         |3                     |6                 |Tenderloin                    |(37.7811772186856, -122.411699931232)|020110023-M41|2.4333334|\n",
      "|20110032  |E11   |2003250       |Vehicle Fire    |01/11/2002|01/10/2002|Other               |01/11/2002 04:16:46 AM|APPLETON AV/MISSION ST        |SF  |94110  |B06      |32         |5626|3               |3       |3            |false  |null         |1        |ENGINE        |1                         |6                     |9                 |Bernal Heights                |(37.7388432849018, -122.423948785199)|020110032-E11|1.5      |\n",
      "|20110043  |B04   |2003259       |Alarms          |01/11/2002|01/10/2002|Other               |01/11/2002 06:01:58 AM|1400 Block of SUTTER ST       |SF  |94109  |B04      |03         |3223|3               |3       |3            |false  |null         |1        |CHIEF         |2                         |4                     |2                 |Western Addition              |(37.7872890372638, -122.424236212664)|020110043-B04|3.4833333|\n",
      "|20110072  |T08   |2003279       |Structure Fire  |01/11/2002|01/11/2002|Other               |01/11/2002 08:03:26 AM|BEALE ST/FOLSOM ST            |SF  |94105  |B03      |35         |2122|3               |3       |3            |false  |null         |1        |TRUCK         |2                         |3                     |6                 |Financial District/South Beach|(37.7886866619654, -122.392722833778)|020110072-T08|1.75     |\n",
      "|20110125  |E33   |2003301       |Alarms          |01/11/2002|01/11/2002|Other               |01/11/2002 09:46:44 AM|0 Block of FARALLONES ST      |SF  |94112  |B09      |33         |8324|3               |3       |3            |false  |null         |1        |ENGINE        |2                         |9                     |11                |Oceanview/Merced/Ingleside    |(37.7140353531157, -122.454117149916)|020110125-E33|2.7166667|\n",
      "|20110130  |E36   |2003304       |Alarms          |01/11/2002|01/11/2002|Other               |01/11/2002 09:58:53 AM|600 Block of POLK ST          |SF  |94102  |B02      |03         |3114|3               |3       |3            |false  |null         |1        |ENGINE        |1                         |2                     |6                 |Tenderloin                    |(37.7826266328595, -122.41915582123) |020110130-E36|1.7833333|\n",
      "|20110197  |E05   |2003343       |Medical Incident|01/11/2002|01/11/2002|Other               |01/11/2002 12:06:57 PM|1500 Block of WEBSTER ST      |SF  |94115  |B04      |05         |3513|3               |3       |3            |false  |null         |1        |ENGINE        |1                         |4                     |5                 |Japantown                     |(37.784958590666, -122.431435274503) |020110197-E05|1.5166667|\n",
      "|20110215  |E06   |2003348       |Medical Incident|01/11/2002|01/11/2002|Other               |01/11/2002 01:08:40 PM|DIAMOND ST/MARKET ST          |SF  |94114  |B05      |06         |5415|3               |3       |3            |false  |null         |1        |ENGINE        |1                         |5                     |8                 |Castro/Upper Market           |(37.7618954753708, -122.437298717721)|020110215-E06|2.7666667|\n",
      "|20110274  |M07   |2003381       |Medical Incident|01/11/2002|01/11/2002|Other               |01/11/2002 03:31:02 PM|2700 Block of MISSION ST      |SF  |94110  |B06      |11         |5525|1               |1       |2            |true   |null         |1        |MEDIC         |1                         |6                     |9                 |Mission                       |(37.7530339738059, -122.418588598473)|020110274-M07|2.1833334|\n",
      "|20110275  |T15   |2003382       |Structure Fire  |01/11/2002|01/11/2002|Other               |01/11/2002 02:59:04 PM|BRUNSWICK ST/GUTTENBERG ST    |SF  |94112  |B09      |43         |6218|3               |3       |3            |false  |null         |1        |TRUCK         |1                         |9                     |11                |Excelsior                     |(37.7105545807996, -122.443335369545)|020110275-T15|2.5      |\n",
      "|20110304  |E03   |2003399       |Medical Incident|01/11/2002|01/11/2002|Other               |01/11/2002 04:22:49 PM|1000 Block of SUTTER ST       |SF  |94109  |B04      |03         |1557|3               |3       |3            |false  |null         |1        |ENGINE        |1                         |4                     |3                 |Nob Hill                      |(37.7881263034393, -122.417657214041)|020110304-E03|2.4166667|\n",
      "|20110308  |E14   |2003403       |Medical Incident|01/11/2002|01/11/2002|Other               |01/11/2002 04:18:33 PM|100 Block of 21ST AVE         |SF  |94121  |B07      |14         |7173|3               |3       |3            |false  |null         |1        |ENGINE        |1                         |7                     |1                 |Outer Richmond                |(37.7850084431077, -122.480723607753)|020110308-E14|4.95     |\n",
      "|20110313  |B10   |2003408       |Structure Fire  |01/11/2002|01/11/2002|Other               |01/11/2002 04:09:08 PM|700 Block of CAPP ST          |SF  |94110  |B06      |07         |5472|3               |3       |3            |false  |null         |1        |CHIEF         |6                         |6                     |9                 |Mission                       |(37.7547064357942, -122.417513465479)|020110313-B10|1.4166666|\n",
      "|20110313  |D3    |2003408       |Structure Fire  |01/11/2002|01/11/2002|Other               |01/11/2002 04:09:08 PM|700 Block of CAPP ST          |SF  |94110  |B06      |07         |5472|3               |3       |3            |false  |null         |1        |CHIEF         |4                         |6                     |9                 |Mission                       |(37.7547064357942, -122.417513465479)|020110313-D3 |2.5333333|\n",
      "|20110313  |E32   |2003408       |Structure Fire  |01/11/2002|01/11/2002|Other               |01/11/2002 04:09:08 PM|700 Block of CAPP ST          |SF  |94110  |B06      |07         |5472|3               |3       |3            |true   |null         |1        |ENGINE        |8                         |6                     |9                 |Mission                       |(37.7547064357942, -122.417513465479)|020110313-E32|1.8833333|\n",
      "|20110315  |RC2   |2003409       |Medical Incident|01/11/2002|01/11/2002|Other               |01/11/2002 04:34:23 PM|200 Block of LAGUNA HONDA BLVD|SF  |94116  |B08      |20         |8635|3               |3       |3            |true   |null         |1        |RESCUE CAPTAIN|2                         |8                     |7                 |West of Twin Peaks            |(37.7501117393668, -122.460819155469)|020110315-RC2|5.35     |\n",
      "|20110330  |E14   |2003417       |Medical Incident|01/11/2002|01/11/2002|Other               |01/11/2002 04:51:31 PM|BALBOA ST/PARK PRESIDIO BL    |SF  |94118  |B07      |31         |7145|3               |3       |3            |false  |null         |1        |ENGINE        |1                         |7                     |1                 |Inner Richmond                |(37.7768682293368, -122.472039541478)|020110330-E14|2.0      |\n",
      "|20110330  |M12   |2003417       |Medical Incident|01/11/2002|01/11/2002|Other               |01/11/2002 04:51:12 PM|BALBOA ST/PARK PRESIDIO BL    |SF  |94118  |B07      |31         |7145|3               |3       |3            |true   |null         |1        |MEDIC         |2                         |7                     |1                 |Inner Richmond                |(37.7768682293368, -122.472039541478)|020110330-M12|1.8166667|\n",
      "+----------+------+--------------+----------------+----------+----------+--------------------+----------------------+------------------------------+----+-------+---------+-----------+----+----------------+--------+-------------+-------+-------------+---------+--------------+--------------------------+----------------------+------------------+------------------------------+-------------------------------------+-------------+---------+\n",
      "only showing top 20 rows\n",
      "\n"
     ]
    }
   ],
   "source": [
    "fire_df.createOrReplaceTempView('fire_tb')\n",
    "\n",
    "spark.sql('select * from fire_tb').show(truncate=False)"
   ]
  },
  {
   "cell_type": "code",
   "execution_count": 10,
   "metadata": {},
   "outputs": [
    {
     "name": "stdout",
     "output_type": "stream",
     "text": [
      "+--------------------------------------------+\n",
      "|CallType                                    |\n",
      "+--------------------------------------------+\n",
      "|Elevator / Escalator Rescue                 |\n",
      "|Marine Fire                                 |\n",
      "|Aircraft Emergency                          |\n",
      "|Confined Space / Structure Collapse         |\n",
      "|Administrative                              |\n",
      "|Alarms                                      |\n",
      "|Odor (Strange / Unknown)                    |\n",
      "|Citizen Assist / Service Call               |\n",
      "|HazMat                                      |\n",
      "|Watercraft in Distress                      |\n",
      "|Explosion                                   |\n",
      "|Oil Spill                                   |\n",
      "|Vehicle Fire                                |\n",
      "|Suspicious Package                          |\n",
      "|Extrication / Entrapped (Machinery, Vehicle)|\n",
      "|Other                                       |\n",
      "|Outside Fire                                |\n",
      "|Traffic Collision                           |\n",
      "|Assist Police                               |\n",
      "|Gas Leak (Natural and LP Gases)             |\n",
      "+--------------------------------------------+\n",
      "only showing top 20 rows\n",
      "\n"
     ]
    }
   ],
   "source": [
    "spark.sql('select distinct(CallType) from fire_tb').show(truncate=False)"
   ]
  },
  {
   "cell_type": "code",
   "execution_count": 11,
   "metadata": {},
   "outputs": [
    {
     "name": "stderr",
     "output_type": "stream",
     "text": [
      "[Stage 14:=============================>                            (2 + 2) / 4]\r"
     ]
    },
    {
     "name": "stdout",
     "output_type": "stream",
     "text": [
      "+-------------------------------+------+\n",
      "|CallType                       |count |\n",
      "+-------------------------------+------+\n",
      "|Medical Incident               |113794|\n",
      "|Structure Fire                 |23319 |\n",
      "|Alarms                         |19406 |\n",
      "|Traffic Collision              |7013  |\n",
      "|Citizen Assist / Service Call  |2524  |\n",
      "|Other                          |2166  |\n",
      "|Outside Fire                   |2094  |\n",
      "|Vehicle Fire                   |854   |\n",
      "|Gas Leak (Natural and LP Gases)|764   |\n",
      "|Water Rescue                   |755   |\n",
      "|Odor (Strange / Unknown)       |490   |\n",
      "|Electrical Hazard              |482   |\n",
      "|Elevator / Escalator Rescue    |453   |\n",
      "|Smoke Investigation (Outside)  |391   |\n",
      "|Fuel Spill                     |193   |\n",
      "|HazMat                         |124   |\n",
      "|Industrial Accidents           |94    |\n",
      "|Explosion                      |89    |\n",
      "|Train / Rail Incident          |57    |\n",
      "|Aircraft Emergency             |36    |\n",
      "+-------------------------------+------+\n",
      "only showing top 20 rows\n",
      "\n"
     ]
    },
    {
     "name": "stderr",
     "output_type": "stream",
     "text": [
      "                                                                                \r"
     ]
    }
   ],
   "source": [
    "spark.sql('select CallType,count(*) as count from fire_tb \\\n",
    "          group by CallType order by count desc').show(truncate=False)"
   ]
  },
  {
   "cell_type": "code",
   "execution_count": 13,
   "metadata": {},
   "outputs": [
    {
     "name": "stdout",
     "output_type": "stream",
     "text": [
      "+----------+---------+\n",
      "|CallNumber|Delay    |\n",
      "+----------+---------+\n",
      "|20150265  |95.28333 |\n",
      "|20510101  |79.98333 |\n",
      "|20750413  |336.33334|\n",
      "|20750413  |330.66666|\n",
      "|21730011  |59.65    |\n",
      "|21780097  |54.45    |\n",
      "|23110482  |106.05   |\n",
      "|30330258  |65.28333 |\n",
      "|30640355  |67.03333 |\n",
      "|30740040  |316.58334|\n",
      "|30800133  |628.61664|\n",
      "|30910242  |131.93333|\n",
      "|32170203  |115.48333|\n",
      "|32520252  |56.033333|\n",
      "|52780360  |53.083332|\n",
      "|60690316  |99.63333 |\n",
      "|60760172  |75.95    |\n",
      "|82100052  |84.6     |\n",
      "|82410212  |91.916664|\n",
      "|82490156  |385.58334|\n",
      "+----------+---------+\n",
      "only showing top 20 rows\n",
      "\n"
     ]
    }
   ],
   "source": [
    "spark.sql('select CallNumber,Delay from fire_tb \\\n",
    "          where Delay > 50').show(truncate=False)"
   ]
  }
 ],
 "metadata": {
  "kernelspec": {
   "display_name": "base",
   "language": "python",
   "name": "python3"
  },
  "language_info": {
   "codemirror_mode": {
    "name": "ipython",
    "version": 3
   },
   "file_extension": ".py",
   "mimetype": "text/x-python",
   "name": "python",
   "nbconvert_exporter": "python",
   "pygments_lexer": "ipython3",
   "version": "3.9.16"
  },
  "orig_nbformat": 4
 },
 "nbformat": 4,
 "nbformat_minor": 2
}
