{
  "cells": [
    {
      "cell_type": "code",
      "execution_count": null,
      "metadata": {
        "id": "-k2vIJLxqpiE"
      },
      "outputs": [],
      "source": [
        "#imports\n",
        "from random import randint\n",
        "from operator import add\n",
        "from pyspark.sql import SparkSession"
      ]
    },
    {
      "cell_type": "code",
      "execution_count": null,
      "metadata": {
        "id": "3gsrNkLynTdd"
      },
      "outputs": [],
      "source": [
        "spark = SparkSession.builder \\\n",
        "    .master('local[*]') \\\n",
        "    .appName('spark IGTI') \\\n",
        "    .config('spark.ui.port', '4050') \\\n",
        "    .getOrCreate()"
      ]
    },
    {
      "cell_type": "code",
      "execution_count": null,
      "metadata": {
        "id": "Rc2UPlw3s_M4"
      },
      "outputs": [],
      "source": [
        "sample_dir = '/mnt/48447c52-52ac-4abb-be1b-d26a64732ee0/cursos/XP_Educação/engenheiro_de_dados_cloud/Modulo 2/base_dados/sampleData.txt'"
      ]
    },
    {
      "attachments": {},
      "cell_type": "markdown",
      "metadata": {
        "id": "iik8z-2ho8y4"
      },
      "source": [
        "Gerando numeros aleatorios  "
      ]
    },
    {
      "cell_type": "code",
      "execution_count": null,
      "metadata": {
        "colab": {
          "base_uri": "https://localhost:8080/"
        },
        "id": "g3kJLSm3qR05",
        "outputId": "46468204-e05c-4bc5-91b9-a9388e3e5988"
      },
      "outputs": [],
      "source": [
        "  #Generates random numbers.\n",
        "loop = 1\n",
        "with open(sample_dir,'w') as sample:\n",
        "  #2 Billions of numbers\n",
        "\n",
        "   count = 2 * 1000 * 1000 * 1000\n",
        "\n",
        "   for _ in range(count):\n",
        "    if(loop <= 100000000):\n",
        "      #random number between 0 and 10\n",
        "      value = randint(0,10)\n",
        "      #IF value is 5, print a new line.\n",
        "      if value != 5:\n",
        "        sample.write(f'{str(value)} ')\n",
        "      else:\n",
        "        sample.write(f'{str(value)}\\n')\n",
        "      print(loop)\n",
        "    else:\n",
        "      break\n",
        "    loop = loop +1"
      ]
    },
    {
      "cell_type": "code",
      "execution_count": null,
      "metadata": {
        "colab": {
          "base_uri": "https://localhost:8080/"
        },
        "id": "vB-wIGIRs8y0",
        "outputId": "1867aad9-b71f-4cf3-9194-ccde1b5fa6b1"
      },
      "outputs": [],
      "source": [
        "linesRdd = (\n",
        "    spark\n",
        "    .read\n",
        "    .text(sample_dir)\n",
        "    .rdd\n",
        "    .map(lambda r: r[0])\n",
        ")\n",
        "\n",
        "print(f'Number of partitions: {linesRdd.getNumPartitions()}')"
      ]
    },
    {
      "cell_type": "code",
      "execution_count": null,
      "metadata": {
        "colab": {
          "base_uri": "https://localhost:8080/"
        },
        "id": "RWkCwVLmt3Wn",
        "outputId": "9f5de7e8-e70a-47d4-cb0e-f136e734d090"
      },
      "outputs": [],
      "source": [
        " countsRdd = (\n",
        "    linesRdd\n",
        "    .sample(False, 0.01)\n",
        "    .flatMap(lambda line: line.split(' '))\n",
        "    .filter(lambda number: int(number) % 2 == 0)\n",
        "    .map(lambda number: (number,1))\n",
        "    .reduceByKey(add)\n",
        " )\n",
        "\n",
        " print('end')"
      ]
    },
    {
      "cell_type": "code",
      "execution_count": null,
      "metadata": {
        "colab": {
          "base_uri": "https://localhost:8080/"
        },
        "id": "YHSKJpuUwhnY",
        "outputId": "18b2f9f9-58f5-44fe-f234-9b45ee871bcc"
      },
      "outputs": [],
      "source": [
        "output = countsRdd.collect()\n",
        "for (number,count) in output:\n",
        "  print(number,count)"
      ]
    }
  ],
  "metadata": {
    "colab": {
      "provenance": []
    },
    "kernelspec": {
      "display_name": "Python 3",
      "name": "python3"
    },
    "language_info": {
      "codemirror_mode": {
        "name": "ipython",
        "version": 3
      },
      "file_extension": ".py",
      "mimetype": "text/x-python",
      "name": "python",
      "nbconvert_exporter": "python",
      "pygments_lexer": "ipython3",
      "version": "3.9.16"
    }
  },
  "nbformat": 4,
  "nbformat_minor": 0
}
