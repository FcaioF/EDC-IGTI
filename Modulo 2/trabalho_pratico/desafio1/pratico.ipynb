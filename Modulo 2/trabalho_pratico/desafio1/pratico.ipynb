{
 "cells": [
  {
   "cell_type": "code",
   "execution_count": 269,
   "metadata": {},
   "outputs": [],
   "source": [
    "#imports\n",
    "from pyspark.sql import SparkSession\n",
    "from pyspark.sql.functions import * \n",
    "from pyspark.sql.types import *"
   ]
  },
  {
   "cell_type": "code",
   "execution_count": 270,
   "metadata": {},
   "outputs": [],
   "source": [
    "#instanciando spark \n",
    "spark = SparkSession.builder \\\n",
    "    .master('local[*]') \\\n",
    "    .appName('Estatistica_descritiva') \\\n",
    "    .config('spark.ui.port', '4050') \\\n",
    "    .getOrCreate()"
   ]
  },
  {
   "cell_type": "code",
   "execution_count": 271,
   "metadata": {},
   "outputs": [],
   "source": [
    "#diretorios de trabalho\n",
    "title_basics = '/mnt/48447c52-52ac-4abb-be1b-d26a64732ee0/cursos/XP_Educação/engenheiro_de_dados_cloud/Modulo 2/base_dados/IMDB - Internet_Movie_Database/raw_data/title_basics.tsv'\n",
    "title_ratings = '/mnt/48447c52-52ac-4abb-be1b-d26a64732ee0/cursos/XP_Educação/engenheiro_de_dados_cloud/Modulo 2/base_dados/IMDB - Internet_Movie_Database/raw_data/title_ratings.tsv'\n",
    "stage_path = '/mnt/48447c52-52ac-4abb-be1b-d26a64732ee0/cursos/XP_Educação/engenheiro_de_dados_cloud/Modulo 2/base_dados/IMDB - Internet_Movie_Database/stage_data/'"
   ]
  },
  {
   "cell_type": "code",
   "execution_count": 272,
   "metadata": {},
   "outputs": [
    {
     "name": "stderr",
     "output_type": "stream",
     "text": [
      "[Stage 552:==============>                                          (1 + 3) / 4]\r"
     ]
    },
    {
     "name": "stdout",
     "output_type": "stream",
     "text": [
      "dataframes readed!\n"
     ]
    },
    {
     "name": "stderr",
     "output_type": "stream",
     "text": [
      "                                                                                \r"
     ]
    }
   ],
   "source": [
    "#leitura das duas bases de dados 'title_basics' e 'title_ratings'\n",
    "\n",
    "title_basics_df = (\n",
    "    spark\n",
    "    .read\n",
    "    .option('sep','\\t')\n",
    "    .csv(title_basics,header=True,inferSchema=True)\n",
    "    .select(\n",
    "        col('tconst').alias('key_id'),\n",
    "        col('titleType').alias('title_type'),\n",
    "        col('primaryTitle').alias('primary_title'),\n",
    "        col('originalTitle').alias('original_title'),\n",
    "        col('isAdult').alias('is_adult'),\n",
    "        col('startYear').alias('start_year'),\n",
    "        col('endYear').alias('end_year'),\n",
    "        col('runtimeMinutes').alias('runtime_minutes'),\n",
    "        col('genres').alias('genres')\n",
    "    )\n",
    ")\n",
    "\n",
    "title_ratings_df = (\n",
    "    spark\n",
    "    .read\n",
    "    .option('sep','\\t')\n",
    "    .csv(title_ratings,header=True,inferSchema=True)\n",
    "    .select(\n",
    "            col('tconst').alias('rating_id'),\n",
    "            col('averageRating').alias('average_rating'),\n",
    "            col('numVotes').alias('num_votes')\n",
    "    )\n",
    ")\n",
    "\n",
    "print('dataframes readed!')\n"
   ]
  },
  {
   "cell_type": "code",
   "execution_count": 273,
   "metadata": {},
   "outputs": [
    {
     "name": "stderr",
     "output_type": "stream",
     "text": [
      "[Stage 553:===============================================>         (5 + 1) / 6]\r"
     ]
    },
    {
     "name": "stdout",
     "output_type": "stream",
     "text": [
      "+---------+----------+--------------------------------------+--------------------------------------+--------+----------+--------+---------------+-------------------+--------------+---------+\n",
      "|key_id   |title_type|primary_title                         |original_title                        |is_adult|start_year|end_year|runtime_minutes|genres             |average_rating|num_votes|\n",
      "+---------+----------+--------------------------------------+--------------------------------------+--------+----------+--------+---------------+-------------------+--------------+---------+\n",
      "|tt0000008|short     |Edison Kinetoscopic Record of a Sneeze|Edison Kinetoscopic Record of a Sneeze|0       |1894      |\\N      |1              |Documentary,Short  |5.5           |1965     |\n",
      "|tt0000015|short     |Autour d'une cabine                   |Autour d'une cabine                   |0       |1894      |\\N      |2              |Animation,Short    |6.2           |947      |\n",
      "|tt0000019|short     |The Clown Barber                      |The Clown Barber                      |0       |1898      |\\N      |\\N             |Comedy,Short       |5.3           |28       |\n",
      "|tt0000051|short     |The Bohemian Encampment               |Campement de bohémiens                |0       |1896      |\\N      |\\N             |Documentary,Short  |3.7           |31       |\n",
      "|tt0000058|short     |Cortège de tzar au Bois de Boulogne   |Cortège de tzar au Bois de Boulogne   |0       |1896      |\\N      |\\N             |Documentary,Short  |4.3           |28       |\n",
      "|tt0000065|short     |Dessinateur: Reine Victoria           |Dessinateur: Reine Victoria           |0       |1896      |\\N      |\\N             |Short              |3.4           |24       |\n",
      "|tt0000095|short     |The Mysterious Paper                  |Le papier protée                      |0       |1896      |\\N      |\\N             |Short              |4.8           |31       |\n",
      "|tt0000108|short     |Rip Leaving Sleepy Hollow             |Rip Leaving Sleepy Hollow             |0       |1896      |\\N      |1              |Drama,Short        |4.4           |509      |\n",
      "|tt0000142|short     |Buffalo Bill and Escort               |Buffalo Bill and Escort               |0       |1897      |\\N      |\\N             |News,Short         |4.7           |28       |\n",
      "|tt0000145|short     |En classe                             |En classe                             |0       |1897      |\\N      |\\N             |Comedy,Short       |3.8           |12       |\n",
      "|tt0000146|short     |Le cocher de fiacre endormi           |Le cocher de fiacre endormi           |0       |1897      |\\N      |\\N             |Comedy,Short       |5.1           |25       |\n",
      "|tt0000169|short     |Slagsmål i gamla Stockholm            |Slagsmål i gamla Stockholm            |0       |1897      |\\N      |1              |Short              |3.9           |38       |\n",
      "|tt0000172|short     |The X-Ray Fiend                       |The X-Ray Fiend                       |0       |1897      |\\N      |1              |Comedy,Horror,Short|6.1           |796      |\n",
      "|tt0000174|short     |Výstavní párkar a lepic plakátù       |Výstavní párkar a lepic plakátù       |0       |1898      |\\N      |1              |Comedy,Short       |4.7           |117      |\n",
      "|tt0000175|short     |A Sea Cave Near Lisbon                |A Sea Cave Near Lisbon                |0       |1896      |\\N      |1              |Documentary,Short  |5.0           |196      |\n",
      "|tt0000186|short     |Le cuirassé Maine                     |Le cuirassé Maine                     |0       |1898      |\\N      |\\N             |Short,War          |4.2           |21       |\n",
      "|tt0000188|short     |The Deserter                          |The Deserter                          |0       |1898      |\\N      |\\N             |Drama,Short        |4.0           |11       |\n",
      "|tt0000195|short     |Les farces de Jocko                   |Les farces de Jocko                   |0       |1898      |\\N      |\\N             |Comedy,Short       |null          |null     |\n",
      "|tt0000212|short     |Saida do Paquete Duque de Braganca    |Saida do Paquete Duque de Braganca    |0       |1898      |\\N      |\\N             |Short              |null          |null     |\n",
      "|tt0000214|short     |Tearing Down the Spanish Flag         |Tearing Down the Spanish Flag         |0       |1898      |\\N      |\\N             |Short,War          |4.5           |87       |\n",
      "+---------+----------+--------------------------------------+--------------------------------------+--------+----------+--------+---------------+-------------------+--------------+---------+\n",
      "only showing top 20 rows\n",
      "\n"
     ]
    },
    {
     "name": "stderr",
     "output_type": "stream",
     "text": [
      "                                                                                \r"
     ]
    }
   ],
   "source": [
    "#Junção dos dataframes em um unico (JOIN)\n",
    "joined_df = (\n",
    "    title_basics_df\n",
    "    .join(title_ratings_df,title_basics_df.key_id == title_ratings_df.rating_id,'full')\n",
    "    .select(\n",
    "        'key_id',\n",
    "        'title_type',\n",
    "        'primary_title',\n",
    "        'original_title',\n",
    "        'is_adult',\n",
    "        'start_year',\n",
    "        'end_year',\n",
    "        'runtime_minutes',\n",
    "        'genres',\n",
    "        'average_rating',\n",
    "        'num_votes'\n",
    "\n",
    "    )\n",
    ")\n",
    "\n",
    "joined_df.show(truncate=False)"
   ]
  },
  {
   "cell_type": "code",
   "execution_count": 276,
   "metadata": {},
   "outputs": [
    {
     "name": "stderr",
     "output_type": "stream",
     "text": [
      "                                                                                \r"
     ]
    }
   ],
   "source": [
    "#escrita do arquivo com as devidas tranformaçoes na camada stage em formato parquet \n",
    "(\n",
    "    joined_df\n",
    "    .write\n",
    "    .mode('overwrite')\n",
    "    .format('parquet')\n",
    "    .save(stage_path)\n",
    ")"
   ]
  },
  {
   "cell_type": "code",
   "execution_count": 277,
   "metadata": {},
   "outputs": [
    {
     "name": "stdout",
     "output_type": "stream",
     "text": [
      "+---------+----------+---------------------------------------------------------+---------------------------------------------------------+--------+----------+--------+---------------+-----------------+--------------+---------+\n",
      "|key_id   |title_type|primary_title                                            |original_title                                           |is_adult|start_year|end_year|runtime_minutes|genres           |average_rating|num_votes|\n",
      "+---------+----------+---------------------------------------------------------+---------------------------------------------------------+--------+----------+--------+---------------+-----------------+--------------+---------+\n",
      "|tt0000005|short     |Blacksmith Scene                                         |Blacksmith Scene                                         |0       |1893      |\\N      |1              |Comedy,Short     |6.2           |2383     |\n",
      "|tt0000029|short     |Baby's Meal                                              |Repas de bébé                                            |0       |1895      |\\N      |1              |Documentary,Short|6.0           |3093     |\n",
      "|tt0000045|short     |Les blanchisseuses                                       |Les blanchisseuses                                       |0       |1896      |\\N      |\\N             |Short            |4.5           |29       |\n",
      "|tt0000053|short     |A Chegada do Comboio Inaugural à Estação Central do Porto|A Chegada do Comboio Inaugural à Estação Central do Porto|0       |1897      |\\N      |\\N             |Documentary,Short|2.8           |16       |\n",
      "|tt0000059|short     |Coronation of a Village Maiden                           |Couronnement de la rosière                               |0       |1896      |\\N      |\\N             |Short            |3.5           |24       |\n",
      "|tt0000068|short     |Unloading the Boat                                       |Déchargement de bateaux                                  |0       |1896      |\\N      |\\N             |Documentary,Short|3.6           |27       |\n",
      "|tt0000078|short     |Feira de Gado na Corujeira                               |Feira de Gado na Corujeira                               |0       |1896      |\\N      |1              |Documentary,Short|3.9           |68       |\n",
      "|tt0000083|short     |Les indiscrets                                           |Les indiscrets                                           |0       |1896      |\\N      |\\N             |Short            |4.5           |30       |\n",
      "|tt0000109|short     |Rip Meeting the Dwarf                                    |Rip Meeting the Dwarf                                    |0       |1896      |\\N      |1              |Fantasy,Short    |4.5           |492      |\n",
      "|tt0000110|short     |Rip Passing Over the Mountain                            |Rip Passing Over the Mountain                            |0       |1896      |\\N      |1              |Fantasy,Short    |4.4           |497      |\n",
      "|tt0000120|short     |Rescue on the River, Pt. 1                               |Sauvetage en rivière, 2e                                 |0       |1896      |\\N      |\\N             |Documentary,Short|5.5           |44       |\n",
      "|tt0000137|short     |Au réfectoire                                            |Au réfectoire                                            |0       |1897      |\\N      |\\N             |Comedy,Short     |4.7           |27       |\n",
      "|tt0000143|short     |Les cambrioleurs                                         |Les cambrioleurs                                         |0       |1897      |\\N      |1              |Comedy,Short     |4.9           |233      |\n",
      "|tt0000158|short     |Idylle interrompue                                       |Idylle interrompue                                       |0       |1897      |\\N      |\\N             |Comedy,Short     |3.4           |14       |\n",
      "|tt0000161|short     |Leçon de danse                                           |Leçon de danse                                           |0       |1897      |\\N      |\\N             |Comedy,Short     |3.9           |13       |\n",
      "|tt0000162|short     |Niagara Falls                                            |Les chutes                                               |0       |1897      |\\N      |1              |Documentary,Short|5.4           |436      |\n",
      "|tt0000164|short     |Le pêcheur dans le torrent                               |Le pêcheur dans le torrent                               |0       |1897      |\\N      |1              |Comedy,Short     |5.0           |273      |\n",
      "|tt0000196|short     |Faust and Mephistopheles                                 |Faust and Mephistopheles                                 |0       |1898      |\\N      |\\N             |Fantasy,Short    |5.2           |25       |\n",
      "|tt0000203|short     |Je vous y prrrrends!                                     |Je vous y prrrrends!                                     |0       |1898      |\\N      |\\N             |Short            |null          |null     |\n",
      "|tt0000204|short     |Jésus devant Pilate                                      |Jésus devant Pilate                                      |0       |1898      |\\N      |\\N             |Short            |5.7           |14       |\n",
      "+---------+----------+---------------------------------------------------------+---------------------------------------------------------+--------+----------+--------+---------------+-----------------+--------------+---------+\n",
      "only showing top 20 rows\n",
      "\n"
     ]
    }
   ],
   "source": [
    "#Leitura do arquivo em formato parquet a partir da camada stage\n",
    "\n",
    "movie_df = (\n",
    "    spark\n",
    "    .read\n",
    "    .format('parquet')\n",
    "    .option('header',True)\n",
    "    .option('inferSchema',True)\n",
    "    .load(stage_path)\n",
    ")\n",
    "\n",
    "movie_df.show(truncate=False)"
   ]
  },
  {
   "attachments": {},
   "cell_type": "markdown",
   "metadata": {},
   "source": [
    "Quantos filmes (incluindo os da televisão) foram lançados no ano de 2015?"
   ]
  },
  {
   "cell_type": "code",
   "execution_count": 279,
   "metadata": {},
   "outputs": [
    {
     "name": "stdout",
     "output_type": "stream",
     "text": [
      "foram lançados 19987 filmes em 2015.\n"
     ]
    },
    {
     "name": "stderr",
     "output_type": "stream",
     "text": [
      "                                                                                \r"
     ]
    }
   ],
   "source": [
    "movie_operations =(\n",
    "    movie_df\n",
    "    .filter('start_year == 2015')\n",
    "    .filter('title_type == \"tvMovie\" or title_type == \"movie\"')\n",
    "    .count()\n",
    "    \n",
    ")\n",
    "\n",
    "print(f'foram lançados {movie_operations} filmes em 2015.')\n"
   ]
  },
  {
   "attachments": {},
   "cell_type": "markdown",
   "metadata": {},
   "source": [
    "Qual o gênero de títulos mais frequente?"
   ]
  },
  {
   "cell_type": "code",
   "execution_count": 280,
   "metadata": {},
   "outputs": [
    {
     "name": "stderr",
     "output_type": "stream",
     "text": [
      "[Stage 583:=============================================>           (4 + 1) / 5]\r"
     ]
    },
    {
     "name": "stdout",
     "output_type": "stream",
     "text": [
      "+-----------+------+\n",
      "|genres     |count |\n",
      "+-----------+------+\n",
      "|Drama      |880649|\n",
      "|\\N         |643012|\n",
      "|Comedy     |568956|\n",
      "|Talk-Show  |467788|\n",
      "|Documentary|392359|\n",
      "+-----------+------+\n",
      "\n"
     ]
    },
    {
     "name": "stderr",
     "output_type": "stream",
     "text": [
      "                                                                                \r"
     ]
    }
   ],
   "source": [
    "\n",
    "(\n",
    "    movie_df\n",
    "    .groupBy('genres')\n",
    "    .count()\n",
    "    .sort(col('count').desc())\n",
    "    .limit(5)\n",
    "    .show(truncate=False)\n",
    ")\n"
   ]
  },
  {
   "attachments": {},
   "cell_type": "markdown",
   "metadata": {},
   "source": [
    "Qual o gênero com a melhor nota média de títulos?    (errei)"
   ]
  },
  {
   "cell_type": "code",
   "execution_count": 281,
   "metadata": {},
   "outputs": [
    {
     "name": "stderr",
     "output_type": "stream",
     "text": [
      "[Stage 586:=============================================>           (4 + 1) / 5]\r"
     ]
    },
    {
     "name": "stdout",
     "output_type": "stream",
     "text": [
      "+-----------------+------+\n",
      "|genres           |count |\n",
      "+-----------------+------+\n",
      "|Drama            |880649|\n",
      "|\\N               |643012|\n",
      "|Comedy           |568956|\n",
      "|Talk-Show        |467788|\n",
      "|Documentary      |392359|\n",
      "|Drama,Romance    |354735|\n",
      "|News             |266279|\n",
      "|Reality-TV       |251369|\n",
      "|Adult            |221116|\n",
      "|Short            |169026|\n",
      "|Drama,Short      |161288|\n",
      "|Family           |136195|\n",
      "|News,Talk-Show   |135690|\n",
      "|Comedy,Short     |132338|\n",
      "|Documentary,Short|125081|\n",
      "|Game-Show        |122741|\n",
      "|Music,Short      |97140 |\n",
      "|Romance          |90742 |\n",
      "|Music            |88697 |\n",
      "|Sport            |88461 |\n",
      "+-----------------+------+\n",
      "only showing top 20 rows\n",
      "\n"
     ]
    },
    {
     "name": "stderr",
     "output_type": "stream",
     "text": [
      "                                                                                \r"
     ]
    }
   ],
   "source": [
    "(\n",
    "    movie_df\n",
    "    .sort(col('average_rating').desc())\n",
    "    .groupBy('genres')\n",
    "    .count()\n",
    "    .sort(col('count').desc())\n",
    "    .show(truncate=False)\n",
    ")"
   ]
  },
  {
   "attachments": {},
   "cell_type": "markdown",
   "metadata": {},
   "source": [
    "Qual o vídeo game do gênero aventura mais bem avaliado em 2020?"
   ]
  },
  {
   "cell_type": "code",
   "execution_count": 282,
   "metadata": {},
   "outputs": [],
   "source": [
    "#filtrando todos os games de 2020\n",
    "games20 = (\n",
    "    movie_df\n",
    "    .filter('start_year == 2020 and title_type == \"videoGame\"')\n",
    ")\n",
    "\n",
    "#criando tabela sql\n",
    "games20.createOrReplaceTempView('games20')"
   ]
  },
  {
   "cell_type": "code",
   "execution_count": 283,
   "metadata": {},
   "outputs": [
    {
     "name": "stdout",
     "output_type": "stream",
     "text": [
      "+----------+----------+---------------------------------------------------+---------------------------------------------------+--------+----------+--------+---------------+---------------------------+--------------+---------+\n",
      "|key_id    |title_type|primary_title                                      |original_title                                     |is_adult|start_year|end_year|runtime_minutes|genres                     |average_rating|num_votes|\n",
      "+----------+----------+---------------------------------------------------+---------------------------------------------------+--------+----------+--------+---------------+---------------------------+--------------+---------+\n",
      "|tt10437042|videoGame |Predator: Hunting Grounds                          |Predator: Hunting Grounds                          |0       |2020      |\\N      |\\N             |Action,Adventure,Fantasy   |6.4           |160      |\n",
      "|tt11585486|videoGame |Genshin Impact                                     |Genshin Impact                                     |0       |2020      |\\N      |\\N             |Action,Adventure,Fantasy   |8.1           |521      |\n",
      "|tt11608358|videoGame |Long Count                                         |Long Count                                         |0       |2020      |\\N      |\\N             |Adventure                  |null          |null     |\n",
      "|tt12924108|videoGame |Spiritfarer                                        |Spiritfarer                                        |0       |2020      |\\N      |\\N             |Adventure,Animation,Fantasy|8.0           |104      |\n",
      "|tt13023390|videoGame |City Maker                                         |City Maker                                         |0       |2020      |\\N      |\\N             |Adventure                  |null          |null     |\n",
      "|tt13091486|videoGame |Spelunky 2                                         |Spelunky 2                                         |0       |2020      |\\N      |\\N             |Adventure                  |8.2           |20       |\n",
      "|tt13192680|videoGame |Pocket Pioneers                                    |Pocket Pioneers                                    |0       |2020      |\\N      |\\N             |Adventure                  |null          |null     |\n",
      "|tt13413586|videoGame |Going Under                                        |Going Under                                        |0       |2020      |\\N      |\\N             |Action,Adventure,Fantasy   |null          |null     |\n",
      "|tt13434160|videoGame |Stone Rage                                         |Stone Rage                                         |0       |2020      |\\N      |\\N             |Adventure                  |null          |null     |\n",
      "|tt13444024|videoGame |Spellforce 3: Fallen God                           |Spellforce 3: Fallen God                           |0       |2020      |\\N      |\\N             |Action,Adventure,Fantasy   |null          |null     |\n",
      "|tt13592304|videoGame |Neptunia reVerse                                   |Go! Go! 5 Jiden Game Neptune reVerse               |0       |2020      |\\N      |\\N             |Action,Adventure,Animation |7.2           |5        |\n",
      "|tt13715864|videoGame |Boris and the Dark Survival                        |Boris and the Dark Survival                        |0       |2020      |\\N      |\\N             |Action,Adventure,Animation |null          |null     |\n",
      "|tt14162142|videoGame |Ouchi de Rirakkuma: Rirakkuma ga ouchi ni yattekita|Ouchi de Rirakkuma: Rirakkuma ga ouchi ni yattekita|0       |2020      |\\N      |\\N             |Adventure                  |null          |null     |\n",
      "|tt14614806|videoGame |Disc Room                                          |Disc Room                                          |0       |2020      |\\N      |\\N             |Action,Adventure           |null          |null     |\n",
      "|tt14687040|videoGame |Zero Zero Zero Zero                                |Zero Zero Zero Zero                                |0       |2020      |\\N      |\\N             |Action,Adventure           |null          |null     |\n",
      "|tt14823564|videoGame |Super Mombo Quest                                  |Super Mombo Quest                                  |0       |2020      |\\N      |\\N             |Action,Adventure,Comedy    |null          |null     |\n",
      "|tt14833424|videoGame |The Survivalists                                   |The Survivalists                                   |0       |2020      |\\N      |\\N             |Action,Adventure           |null          |null     |\n",
      "|tt6298000 |videoGame |The Last of Us: Part II                            |The Last of Us: Part II                            |0       |2020      |\\N      |\\N             |Action,Adventure,Drama     |8.3           |24559    |\n",
      "|tt10468754|videoGame |Watch Dogs: Legion                                 |Watch Dogs: Legion                                 |0       |2020      |\\N      |\\N             |Action,Adventure,Crime     |6.8           |794      |\n",
      "|tt10844906|videoGame |Fuga: Melodies of Steel                            |Senjou no Fûga                                     |0       |2020      |\\N      |\\N             |Adventure                  |null          |null     |\n",
      "+----------+----------+---------------------------------------------------+---------------------------------------------------+--------+----------+--------+---------------+---------------------------+--------------+---------+\n",
      "only showing top 20 rows\n",
      "\n"
     ]
    },
    {
     "name": "stderr",
     "output_type": "stream",
     "text": [
      "                                                                                \r"
     ]
    }
   ],
   "source": [
    "adventureGames20 = (\n",
    "    spark\n",
    "    .sql(\n",
    "        'select * from games20 where games20.genres like \"%Adventure%\"'\n",
    "    )\n",
    ")\n",
    "\n",
    "adventureGames20.show(truncate=False)"
   ]
  },
  {
   "cell_type": "code",
   "execution_count": 284,
   "metadata": {},
   "outputs": [
    {
     "name": "stderr",
     "output_type": "stream",
     "text": [
      "[Stage 590:=============================================>           (4 + 1) / 5]\r"
     ]
    },
    {
     "name": "stdout",
     "output_type": "stream",
     "text": [
      "+-----------------------------+------------------------+--------------+\n",
      "|primary_title                |genres                  |average_rating|\n",
      "+-----------------------------+------------------------+--------------+\n",
      "|Half-Life: Alyx              |Action,Adventure,Horror |9.5           |\n",
      "|Ghost of Tsushima            |Action,Adventure,Drama  |9.3           |\n",
      "|Omori                        |Adventure,Drama,Fantasy |9.2           |\n",
      "|Ori and the Will of the Wisps|Adventure,Fantasy       |9.1           |\n",
      "|Final Fantasy VII Remake     |Action,Adventure,Fantasy|9.1           |\n",
      "+-----------------------------+------------------------+--------------+\n",
      "\n"
     ]
    },
    {
     "name": "stderr",
     "output_type": "stream",
     "text": [
      "                                                                                \r"
     ]
    }
   ],
   "source": [
    "(\n",
    "    adventureGames20\n",
    "    .sort(col('average_rating').desc())\n",
    "    .select('primary_title','genres','average_rating')\n",
    "    .limit(5)\n",
    "    .show(truncate=False)\n",
    ")"
   ]
  },
  {
   "attachments": {},
   "cell_type": "markdown",
   "metadata": {},
   "source": [
    "Quantos títulos de filmes diferentes existem? Use df_titles.select('primaryTitle').distinct().count()."
   ]
  },
  {
   "cell_type": "code",
   "execution_count": 287,
   "metadata": {},
   "outputs": [
    {
     "name": "stderr",
     "output_type": "stream",
     "text": [
      "[Stage 596:==================================>                      (3 + 2) / 5]\r"
     ]
    },
    {
     "name": "stdout",
     "output_type": "stream",
     "text": [
      "existem 3931670 filmes diferentes \n"
     ]
    },
    {
     "name": "stderr",
     "output_type": "stream",
     "text": [
      "                                                                                \r"
     ]
    }
   ],
   "source": [
    "movie_distinct = (\n",
    "    movie_df\n",
    "    .select('primary_title')\n",
    "    .distinct()\n",
    "    .count()\n",
    ")\n",
    "\n",
    "print(f'existem {movie_distinct} filmes diferentes ')\n"
   ]
  },
  {
   "attachments": {},
   "cell_type": "markdown",
   "metadata": {},
   "source": [
    "Qual a duração média dos filmes com conteúdo adulto? Use uma combinação de filter() e describe()."
   ]
  },
  {
   "cell_type": "code",
   "execution_count": 288,
   "metadata": {},
   "outputs": [
    {
     "name": "stderr",
     "output_type": "stream",
     "text": [
      "[Stage 600:==================================>                      (3 + 2) / 5]\r"
     ]
    },
    {
     "name": "stdout",
     "output_type": "stream",
     "text": [
      "+-------+-----------------+\n",
      "|summary|runtime_minutes  |\n",
      "+-------+-----------------+\n",
      "|count  |250127           |\n",
      "|mean   |92.79938555059914|\n",
      "|stddev |57.18982244754781|\n",
      "|min    |1                |\n",
      "|max    |\\N               |\n",
      "+-------+-----------------+\n",
      "\n"
     ]
    },
    {
     "name": "stderr",
     "output_type": "stream",
     "text": [
      "                                                                                \r"
     ]
    }
   ],
   "source": [
    "(\n",
    "    movie_df\n",
    "    .filter('is_adult == 1')\n",
    "    .select('runtime_minutes')\n",
    "    .describe()\n",
    "    .show(truncate=False)\n",
    ")"
   ]
  },
  {
   "attachments": {},
   "cell_type": "markdown",
   "metadata": {},
   "source": [
    "Quantos filmes têm o título atual (“primary”) diferente do título original? Use uma combinação de filter, e count()."
   ]
  },
  {
   "cell_type": "code",
   "execution_count": 289,
   "metadata": {},
   "outputs": [
    {
     "name": "stderr",
     "output_type": "stream",
     "text": [
      "[Stage 603:=============================================>           (4 + 1) / 5]\r"
     ]
    },
    {
     "name": "stdout",
     "output_type": "stream",
     "text": [
      "125056 filmes tem o titulo atual diferente do original\n"
     ]
    },
    {
     "name": "stderr",
     "output_type": "stream",
     "text": [
      "                                                                                \r"
     ]
    }
   ],
   "source": [
    "diferent_title =(\n",
    "    movie_df\n",
    "    .filter('primary_title != original_title')\n",
    "    .count()\n",
    ")\n",
    "\n",
    "print(diferent_title,'filmes tem o titulo atual diferente do original')"
   ]
  },
  {
   "attachments": {},
   "cell_type": "markdown",
   "metadata": {},
   "source": [
    "Qual o filme que tem o nome mais longo?"
   ]
  },
  {
   "cell_type": "code",
   "execution_count": 290,
   "metadata": {},
   "outputs": [
    {
     "name": "stderr",
     "output_type": "stream",
     "text": [
      "[Stage 606:=============================================>           (4 + 1) / 5]\r"
     ]
    },
    {
     "name": "stdout",
     "output_type": "stream",
     "text": [
      "+----------+----------+--------------------+----------+\n",
      "|    key_id|title_type|       primary_title|title_size|\n",
      "+----------+----------+--------------------+----------+\n",
      "|tt12985206|     video|Otoko wa chi _ ko...|       419|\n",
      "|tt13007080|     video|Creampie Voluntee...|       409|\n",
      "| tt7727908|     video|Yufukuna kurashi ...|       408|\n",
      "|tt12870546|     video|An Ultra K-Cup Ti...|       405|\n",
      "|tt12866892|     video|I'm A Dirty Old M...|       401|\n",
      "| tt7395478|     video|'Oppai dakenara s...|       400|\n",
      "|tt13558536|     video|While Horsing Aro...|       386|\n",
      "|tt13053838|     video|The Dumb Cunt Is ...|       383|\n",
      "|tt13931914| tvEpisode|EE.UU. Se replieg...|       368|\n",
      "| tt7509356|     video|Kanojo ni furaret...|       366|\n",
      "|tt13278010|     video|This Son Was Secr...|       351|\n",
      "|tt10813978| tvEpisode|Y- the total ease...|       347|\n",
      "|tt13009172|     video|I'm the Silent Ty...|       340|\n",
      "|tt14128648|     video|'No, No, No! Your...|       339|\n",
      "|tt13356578|     video|An Up Close and P...|       337|\n",
      "| tt7298012|     video|O nichan tanjobio...|       327|\n",
      "| tt6271822|     video|Shoshika no sakko...|       322|\n",
      "|tt13006210|     video|Raguju TV 1145 ke...|       321|\n",
      "|tt12842848|     video|A Fantastic Disco...|       311|\n",
      "|tt13109506|     video|Jikappu binyu gek...|       311|\n",
      "+----------+----------+--------------------+----------+\n",
      "only showing top 20 rows\n",
      "\n"
     ]
    },
    {
     "name": "stderr",
     "output_type": "stream",
     "text": [
      "                                                                                \r"
     ]
    }
   ],
   "source": [
    "(\n",
    "    movie_df\n",
    "    .select('key_id','title_type',\"primary_title\", length(\"primary_title\").alias(\"title_size\"))\n",
    "    .sort(col('title_size').desc())\n",
    "    .show()\n",
    ")"
   ]
  },
  {
   "attachments": {},
   "cell_type": "markdown",
   "metadata": {},
   "source": [
    "Qual filme tem a maior quantidade de votos? Dica: Use describe().\n",
    "Grupo de escolhas da pergunta\n",
    "\n"
   ]
  },
  {
   "cell_type": "code",
   "execution_count": 291,
   "metadata": {},
   "outputs": [
    {
     "name": "stderr",
     "output_type": "stream",
     "text": [
      "[Stage 607:=============================================>           (4 + 1) / 5]\r"
     ]
    },
    {
     "name": "stdout",
     "output_type": "stream",
     "text": [
      "+---------+-------------------------------------------------+---------+\n",
      "|key_id   |primary_title                                    |num_votes|\n",
      "+---------+-------------------------------------------------+---------+\n",
      "|tt0111161|The Shawshank Redemption                         |2449517  |\n",
      "|tt0468569|The Dark Knight                                  |2405191  |\n",
      "|tt1375666|Inception                                        |2157649  |\n",
      "|tt0137523|Fight Club                                       |1930108  |\n",
      "|tt0110912|Pulp Fiction                                     |1898801  |\n",
      "|tt0109830|Forrest Gump                                     |1893438  |\n",
      "|tt0944947|Game of Thrones                                  |1861842  |\n",
      "|tt0133093|The Matrix                                       |1743487  |\n",
      "|tt0120737|The Lord of the Rings: The Fellowship of the Ring|1723007  |\n",
      "|tt0167260|The Lord of the Rings: The Return of the King    |1701824  |\n",
      "+---------+-------------------------------------------------+---------+\n",
      "\n"
     ]
    },
    {
     "name": "stderr",
     "output_type": "stream",
     "text": [
      "                                                                                \r"
     ]
    }
   ],
   "source": [
    "(\n",
    "    movie_df\n",
    "    .select('key_id','primary_title','num_votes')\n",
    "    .sort(col('num_votes').desc())\n",
    "    .limit(10)\n",
    "    .show(truncate=False)\n",
    ")"
   ]
  },
  {
   "attachments": {},
   "cell_type": "markdown",
   "metadata": {},
   "source": [
    "Qual é a menor nota média de um filme? Use describe()."
   ]
  },
  {
   "cell_type": "code",
   "execution_count": 292,
   "metadata": {},
   "outputs": [
    {
     "name": "stdout",
     "output_type": "stream",
     "text": [
      "+-------+------------------+\n",
      "|summary|    average_rating|\n",
      "+-------+------------------+\n",
      "|  count|           1182639|\n",
      "|   mean| 6.917028357766062|\n",
      "| stddev|1.3974964575775983|\n",
      "|    min|               1.0|\n",
      "|    max|              10.0|\n",
      "+-------+------------------+\n",
      "\n"
     ]
    }
   ],
   "source": [
    "(\n",
    "    movie_df\n",
    "    .select('average_rating')\n",
    "    .describe()\n",
    "    .show()\n",
    ")"
   ]
  }
 ],
 "metadata": {
  "kernelspec": {
   "display_name": "base",
   "language": "python",
   "name": "python3"
  },
  "language_info": {
   "codemirror_mode": {
    "name": "ipython",
    "version": 3
   },
   "file_extension": ".py",
   "mimetype": "text/x-python",
   "name": "python",
   "nbconvert_exporter": "python",
   "pygments_lexer": "ipython3",
   "version": "3.9.16"
  },
  "orig_nbformat": 4
 },
 "nbformat": 4,
 "nbformat_minor": 2
}
