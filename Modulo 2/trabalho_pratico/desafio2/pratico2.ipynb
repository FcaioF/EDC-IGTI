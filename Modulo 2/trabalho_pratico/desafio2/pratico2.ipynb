{
 "cells": [
  {
   "cell_type": "code",
   "execution_count": 1,
   "metadata": {},
   "outputs": [],
   "source": [
    "#imports\n",
    "from pyspark.sql import SparkSession\n",
    "from pyspark.sql.functions import * \n",
    "from pyspark.sql.types import *"
   ]
  },
  {
   "cell_type": "code",
   "execution_count": 2,
   "metadata": {},
   "outputs": [
    {
     "name": "stderr",
     "output_type": "stream",
     "text": [
      "23/06/07 03:17:16 WARN Utils: Your hostname, caio-HP-250-G8-Notebook-PC resolves to a loopback address: 127.0.1.1; using 192.168.1.122 instead (on interface wlo1)\n",
      "23/06/07 03:17:16 WARN Utils: Set SPARK_LOCAL_IP if you need to bind to another address\n",
      "WARNING: An illegal reflective access operation has occurred\n",
      "WARNING: Illegal reflective access by org.apache.spark.unsafe.Platform (file:/opt/anaconda3/lib/python3.9/site-packages/pyspark/jars/spark-unsafe_2.12-3.2.1.jar) to constructor java.nio.DirectByteBuffer(long,int)\n",
      "WARNING: Please consider reporting this to the maintainers of org.apache.spark.unsafe.Platform\n",
      "WARNING: Use --illegal-access=warn to enable warnings of further illegal reflective access operations\n",
      "WARNING: All illegal access operations will be denied in a future release\n",
      "Using Spark's default log4j profile: org/apache/spark/log4j-defaults.properties\n",
      "Setting default log level to \"WARN\".\n",
      "To adjust logging level use sc.setLogLevel(newLevel). For SparkR, use setLogLevel(newLevel).\n",
      "23/06/07 03:17:17 WARN NativeCodeLoader: Unable to load native-hadoop library for your platform... using builtin-java classes where applicable\n"
     ]
    }
   ],
   "source": [
    "#instanciando spark \n",
    "spark = SparkSession.builder \\\n",
    "    .master('local[*]') \\\n",
    "    .appName('desafio') \\\n",
    "    .config('spark.ui.port', '4050') \\\n",
    "    .getOrCreate()"
   ]
  },
  {
   "cell_type": "code",
   "execution_count": 3,
   "metadata": {},
   "outputs": [],
   "source": [
    "#diretorios de trabalho\n",
    "cnaes_db = '/mnt/48447c52-52ac-4abb-be1b-d26a64732ee0/cursos/XP_Educação/engenheiro_de_dados_cloud/Modulo 2/base_dados/base_dados_desafio2/raw_data/csv/cnaes/cnaes.csv'\n",
    "estabelecimentos_db = '/mnt/48447c52-52ac-4abb-be1b-d26a64732ee0/cursos/XP_Educação/engenheiro_de_dados_cloud/Modulo 2/base_dados/base_dados_desafio2/raw_data/csv/estabelecimentos/*'\n",
    "cnaes_raw = '/mnt/48447c52-52ac-4abb-be1b-d26a64732ee0/cursos/XP_Educação/engenheiro_de_dados_cloud/Modulo 2/base_dados/base_dados_desafio2/raw_data/cnaes/'\n",
    "estabelecimentos_raw = '/mnt/48447c52-52ac-4abb-be1b-d26a64732ee0/cursos/XP_Educação/engenheiro_de_dados_cloud/Modulo 2/base_dados/base_dados_desafio2/raw_data/estabelecimentos/'\n",
    "stage_path = '/mnt/48447c52-52ac-4abb-be1b-d26a64732ee0/cursos/XP_Educação/engenheiro_de_dados_cloud/Modulo 2/base_dados/base_dados_desafio2/stage_data/'"
   ]
  },
  {
   "cell_type": "code",
   "execution_count": 6,
   "metadata": {},
   "outputs": [
    {
     "name": "stderr",
     "output_type": "stream",
     "text": [
      "23/06/07 01:04:41 WARN package: Truncated the string representation of a plan since it was too large. This behavior can be adjusted by setting 'spark.sql.debug.maxToStringFields'.\n",
      "                                                                                \r"
     ]
    }
   ],
   "source": [
    "##leitura da base de dados em formato csv\n",
    "\n",
    "cnaes_df = (\n",
    "    spark\n",
    "    .read\n",
    "    .format('csv')\n",
    "    .option('header',True)\n",
    "    .option('inferSchema',True)\n",
    "    .option('delimiter',';')\n",
    "    .option('encoding','ISO-8859-1')\n",
    "    .load(cnaes_db)\n",
    "    .select(\n",
    "        col('CNAE').alias('id_cnae'),\n",
    "        col('DESCRICAO_CNAE').alias('descricao_cnae')\n",
    "    )\n",
    ")\n",
    "\n",
    "estab_df = (\n",
    "    spark\n",
    "    .read\n",
    "    .format('csv')\n",
    "    .option('header',True)\n",
    "    .option('inferSchema',True)\n",
    "    .option('delimiter',';')\n",
    "    .option('encoding','ISO-8859-1')\n",
    "    .load(estabelecimentos_db)\n",
    "    .select(\n",
    "        col('CNPJ_BASICO').alias('cnpj_basico'),\n",
    "        col('CNPJ_ORDEM').alias('cnpj_ordem'),\n",
    "        col('CNPJ_DV').alias('cnpj_dv'),\n",
    "        col('IDENTIFICADOR_MATRIZ_FILIAL').alias('identificador_matriz_filial'),\n",
    "        col('NOME_FANTASIA').alias('nome_fantasia'),\n",
    "        col('SITUACAO_CADASTRAL').alias('situacao_cadastral'),\n",
    "        col('DATA_SITUACAO_CADASTRAL').alias('data_situacao_cadastral'),\n",
    "        col('MOTIVO_SITUACAO_CADASTRAL').alias('motivo_situacao_cadastral'),\n",
    "        col('NOME_DA_CIDADE_NO_EXTERIOR').alias('nome_da_cidade_no_exterior'),\n",
    "        col('PAIS').alias('pais'),\n",
    "        col('DATA_INICIO_ATIVIDADE').alias('data_inicio_atividade'),\n",
    "        col('CNAE_PRINCIPAL').alias('cnae_principal'),\n",
    "        col('CNAE_SECUNDARIA').alias('cnae_secundaria'),\n",
    "        col('TIPO_LOGRADOURO').alias('tipo_logradouro'),\n",
    "        col('LOGRADOURO').alias('logradouro'),\n",
    "        col('NUMERO').alias('numero'),\n",
    "        col('COMPLEMENTO').alias('complemento'),\n",
    "        col('BAIRRO').alias('bairro'),\n",
    "        col('CEP').alias('cep'),\n",
    "        col('UF').alias('uf'),\n",
    "        col('MUNICIPIO').alias('municipio'),\n",
    "        col('DDD_1').alias('ddd_1'),\n",
    "        col('TEL_1').alias('tel_1'),\n",
    "        col('DDD_2').alias('ddd_2'),\n",
    "        col('TEL_2').alias('tel_2'),\n",
    "        col('DDD_FAX').alias('ddd_fax'),\n",
    "        col('FAX').alias('fax'),\n",
    "        col('CORREIO_ELETRONICO').alias('correio_eletronico'),\n",
    "        col('SITUACAO_ESPECIAL').alias('situacao_especial'),\n",
    "        col('DATA_SITUACAO_ESPECIAL').alias('data_situacao_especial')\n",
    "    )\n",
    ")"
   ]
  },
  {
   "cell_type": "code",
   "execution_count": null,
   "metadata": {},
   "outputs": [],
   "source": [
    "#escrita dos arquivos em formato parquet\n",
    "\n",
    "(\n",
    "    cnaes_df\n",
    "    .write\n",
    "    .mode('overwrite')\n",
    "    .format('parquet')\n",
    "    .save(cnaes_raw)\n",
    ")\n",
    "\n",
    "(\n",
    "    estab_df\n",
    "    .write\n",
    "    .mode('overwrite')\n",
    "    .format('parquet')\n",
    "    .save(estabelecimentos_raw)\n",
    ")"
   ]
  },
  {
   "cell_type": "code",
   "execution_count": 4,
   "metadata": {},
   "outputs": [
    {
     "name": "stderr",
     "output_type": "stream",
     "text": [
      "                                                                                \r"
     ]
    }
   ],
   "source": [
    "##leitura da base de dados em formato parquet\n",
    "\n",
    "cnaes_df = (\n",
    "    spark\n",
    "    .read\n",
    "    .format('parquet')\n",
    "    .option('header',True)\n",
    "    .option('inferSchema',True)\n",
    "    .option('encoding','ISO-8859-1')\n",
    "    .load(cnaes_raw)\n",
    ")\n",
    "\n",
    "estab_df = (\n",
    "    spark\n",
    "    .read\n",
    "    .format('parquet')\n",
    "    .option('header',True)\n",
    "    .option('inferSchema',True)\n",
    "    .option('encoding','ISO-8859-1')\n",
    "    .load(estabelecimentos_raw)\n",
    ")"
   ]
  },
  {
   "cell_type": "code",
   "execution_count": 5,
   "metadata": {},
   "outputs": [
    {
     "name": "stderr",
     "output_type": "stream",
     "text": [
      "23/06/07 03:17:34 WARN package: Truncated the string representation of a plan since it was too large. This behavior can be adjusted by setting 'spark.sql.debug.maxToStringFields'.\n"
     ]
    },
    {
     "name": "stdout",
     "output_type": "stream",
     "text": [
      "+-----------+----------+-------+---------------------------+--------------------+------------------+-----------------------+-------------------------+--------------------------+----+---------------------+--------------+------------------------------------------------------------------------------------------------------------------------------+-------------------------------------------------------+---------------+-------------------------------------------------+------+--------------------------+----------------------+--------+---+---------+-----+--------+-----+--------+-------+--------+------------------------------------+-----------------+----------------------+\n",
      "|cnpj_basico|cnpj_ordem|cnpj_dv|identificador_matriz_filial|nome_fantasia       |situacao_cadastral|data_situacao_cadastral|motivo_situacao_cadastral|nome_da_cidade_no_exterior|pais|data_inicio_atividade|cnae_principal|desc_cnae_principal                                                                                                           |cnae_secundaria                                        |tipo_logradouro|logradouro                                       |numero|complemento               |bairro                |cep     |uf |municipio|ddd_1|tel_1   |ddd_2|tel_2   |ddd_fax|fax     |correio_eletronico                  |situacao_especial|data_situacao_especial|\n",
      "+-----------+----------+-------+---------------------------+--------------------+------------------+-----------------------+-------------------------+--------------------------+----+---------------------+--------------+------------------------------------------------------------------------------------------------------------------------------+-------------------------------------------------------+---------------+-------------------------------------------------+------+--------------------------+----------------------+--------+---+---------+-----+--------+-----+--------+-------+--------+------------------------------------+-----------------+----------------------+\n",
      "|16685244   |1         |95     |1                          |PANIFICADORA VITORIA|8                 |20161208               |1                        |null                      |null|20120813             |1094500       |Fabricação de massas alimentícias                                                                                             |null                                                   |RUA            |IVAN COSTA MASCARENHAS                           |14    |null                      |PRADO                 |45980000|BA |3811     |73   |99054138|null |null    |null   |null    |null                                |null             |null                  |\n",
      "|16685253   |1         |86     |1                          |null                |4                 |20210331               |63                       |null                      |null|20120813             |9602501       |Cabeleireiros, manicure e pedicure                                                                                            |4772500,9602502,4789099                                |RUA            |CLAUDIO MANOEL DA COSTA                          |605   |SALA                      |CENTRO                |37576000|MG |4611     |35   |98414947|null |null    |null   |null    |contabilajm@gmail.com               |null             |null                  |\n",
      "|14851252   |2         |10     |2                          |IMPACTO FORM        |8                 |20160201               |1                        |null                      |null|20120808             |4729699       |Comércio varejista de produtos alimentícios em geral ou especializado em produtos alimentícios não especificados anteriormente|4781400,4763602                                        |QUADRA         |02 CONJUNTO A LOTE 425                           |S/N   |LOJA  03 SETOR NORTE      |GAMA                  |72430201|DF |9701     |61   |30366450|null |null    |null   |null    |null                                |null             |null                  |\n",
      "|8054774    |5         |30     |2                          |null                |2                 |20120813               |0                        |null                      |null|20120813             |151202        |Criação de bovinos para leite                                                                                                 |0151201,0134200                                        |FAZENDA        |NOSSA SENHORA DO PATROCINIO                      |S/N   |null                      |ZONA RURAL            |13770000|SP |6275     |19   |36632090|null |null    |null   |null    |escritorioimperial@yahoo.com.br     |null             |null                  |\n",
      "|8068558    |5         |44     |2                          |null                |2                 |20120813               |0                        |null                      |null|20120813             |113000        |Cultivo de cana-de-açúcar                                                                                                     |null                                                   |ESTRADA        |MUNICIPAL SAO JOAQUIM DA BARRA A USINA CPFL KM 06|S/N   |FAZENDA AGUA LIMPA        |ZONA RURAL            |14600000|SP |7089     |16   |38180788|16   |38182338|16.0   |38182338|vilmarteles@netsite.com.br          |null             |null                  |\n",
      "|16685287   |1         |70     |1                          |null                |2                 |20120813               |0                        |null                      |null|20120813             |6810202       |Aluguel de imóveis próprios                                                                                                   |6463800                                                |RUA            |DA ASSEMBLEIA                                    |10    |SALA: 3001 A 3005 - PARTE;|CENTRO                |20011000|RJ |6001     |21   |32335710|21   |32335720|21.0   |32335701|null                                |null             |null                  |\n",
      "|14670741   |1         |94     |1                          |SEGSP DISTRIBUIDORA |4                 |20190301               |63                       |null                      |null|20111117             |4649402       |Comércio atacadista de aparelhos eletrônicos de uso pessoal e doméstico                                                       |4649401,4651601,4652400,9512600,6203100                |RUA            |GUARANESIA                                       |257   |null                      |VILA MARIA            |02112000|SP |7107     |11   |49972974|11   |49961050|11.0   |49961050|huzoma@huzoma.com                   |null             |null                  |\n",
      "|91223115   |2         |81     |2                          |null                |8                 |20151027               |1                        |null                      |null|20120309             |5611201       |Restaurantes e similares                                                                                                      |5510801,4721102,4721104,5611203                        |RUA            |XV DE NOVEMBRO                                   |435   |A                         |CENTRO                |96310000|RS |8639     |53   |32671134|null |null    |null   |null    |null                                |null             |null                  |\n",
      "|10428289   |1         |6      |1                          |null                |8                 |20120229               |1                        |null                      |null|20081016             |4724500       |Comércio varejista de hortifrutigranjeiros                                                                                    |null                                                   |AVENIDA        |ALMIRANTE DELAMARE                               |300   |BLOCO G12 APTO 51         |CIDADE NOVA HELIOPOLIS|04230000|SP |7107     |11   |31053001|null |null    |11.0   |31053001|ocfeirante@uol.com.br               |null             |null                  |\n",
      "|16685334   |1         |86     |1                          |null                |8                 |20180201               |67                       |null                      |null|20120813             |4781400       |Comércio varejista de artigos do vestuário e acessórios                                                                       |1412602,1412601                                        |RUA            |LUIS CARLOS CONSULMAGNO PROENCA                  |SN    |QUADRA C;LOTE 6           |DISTRITO INDUSTRIAL   |86420000|PR |7491     |43   |99789115|null |null    |null   |null    |null                                |null             |null                  |\n",
      "|16685346   |1         |0      |1                          |null                |8                 |20161116               |1                        |null                      |null|20120813             |5611204       |Bares e outros estabelecimentos especializados em servir bebidas, sem entretenimento                                          |null                                                   |RUA            |CELSO RAMOS                                      |690   |null                      |SANTA INES            |89850000|SC |8279     |49   |91011928|null |null    |null   |null    |null                                |null             |null                  |\n",
      "|16685359   |1         |80     |1                          |null                |8                 |20180201               |67                       |null                      |null|20120813             |4772500       |Comércio varejista de cosméticos, produtos de perfumaria e de higiene pessoal                                                 |4781400,4789001                                        |RUA            |CORONEL OLIVEIRA LIMA                            |252   |SALA 28                   |CENTRO                |09010000|SP |7057     |11   |87096878|null |null    |null   |null    |null                                |null             |null                  |\n",
      "|16685375   |1         |72     |1                          |BRINQUEDOS FELIPE   |8                 |20151218               |1                        |null                      |null|20120803             |4763601       |Comércio varejista de brinquedos e artigos recreativos                                                                        |null                                                   |AVENIDA        |NOSSA SENHORA APARECIDA                          |122   |null                      |CARDEAL               |13355000|SP |6399     |19   |38753081|null |null    |null   |null    |clovisfernandessilva@yahoo.com.br   |null             |null                  |\n",
      "|15185965   |5         |5      |2                          |null                |2                 |20120807               |0                        |null                      |null|20120807             |4781400       |Comércio varejista de artigos do vestuário e acessórios                                                                       |4755503,4782201                                        |PRACA          |GETULIO VARGAS                                   |61    |null                      |CENTRO                |36400001|MG |4365     |37   |32613053|null |null    |37.0   |32613053|CONTAGEL@OI.COM.BR                  |null             |null                  |\n",
      "|16685396   |1         |98     |1                          |ASPVEMG             |2                 |20120725               |0                        |null                      |null|20120725             |9499500       |Atividades associativas não especificadas anteriormente                                                                       |9430800                                                |RUA            |MARCELINO FERREIRA                               |317   |null                      |SANTA INES            |31080420|MG |4123     |31   |34864657|null |null    |31.0   |34516800|CONTATO.ASPVEMG@YAHOO.COM.BR        |null             |null                  |\n",
      "|12537584   |1         |18     |1                          |ATLANTIC AUTO PECAS |4                 |20180828               |63                       |null                      |null|20100916             |4530704       |Comércio a varejo de peças e acessórios usados para veículos automotores                                                      |null                                                   |RUA            |WALDEMAR OURIQUES                                |679   |SALA  01                  |CAPOEIRAS             |88090000|SC |8105     |48   |32405139|48   |30333936|48.0   |32405139|ricardobampi@hotmail.com            |null             |null                  |\n",
      "|16685424   |1         |77     |1                          |null                |8                 |20120910               |1                        |null                      |null|20120813             |9602501       |Cabeleireiros, manicure e pedicure                                                                                            |null                                                   |RUA            |ROSARIO                                          |274   |SALA 272                  |CENTRO                |35600000|MG |4147     |37   |35222922|null |null    |null   |null    |cgontijo@contabilidadegontijo.com.br|null             |null                  |\n",
      "|16685436   |1         |0      |1                          |null                |8                 |20180201               |67                       |null                      |null|20120813             |4321500       |Instalação e manutenção elétrica                                                                                              |3321000,3314702,3329501,3314799,3313999,4322301,4322303|RUA            |OITO                                             |10    |QUADRA 16                 |TANCREDO NEVES        |78053598|MT |9067     |65   |99075147|null |null    |null   |null    |null                                |null             |null                  |\n",
      "|16685450   |1         |3      |1                          |null                |8                 |20180201               |67                       |null                      |null|20120813             |9602501       |Cabeleireiros, manicure e pedicure                                                                                            |null                                                   |RUA            |LUIS HENRIQUE COSTA SOUZA                        |52    |null                      |JARDIM IMPERIAL       |05397260|SP |7107     |11   |57607488|null |null    |null   |null    |null                                |null             |null                  |\n",
      "|16685461   |1         |85     |1                          |null                |8                 |20180201               |67                       |null                      |null|20120813             |4712100       |Comércio varejista de mercadorias em geral, com predominância de produtos alimentícios - minimercados, mercearias e armazéns  |5611203                                                |RUA            |DO CANAL (MEXICO 70)                             |1601  |CASA                      |VILA MARGARIDA        |11330763|SP |7121     |13   |34647911|null |null    |null   |null    |everton_jamaica07@hotmail.com       |null             |null                  |\n",
      "+-----------+----------+-------+---------------------------+--------------------+------------------+-----------------------+-------------------------+--------------------------+----+---------------------+--------------+------------------------------------------------------------------------------------------------------------------------------+-------------------------------------------------------+---------------+-------------------------------------------------+------+--------------------------+----------------------+--------+---+---------+-----+--------+-----+--------+-------+--------+------------------------------------+-----------------+----------------------+\n",
      "only showing top 20 rows\n",
      "\n"
     ]
    }
   ],
   "source": [
    "#Junção dos dataframes em um unico (JOIN)\n",
    "joined_df = (\n",
    "    estab_df\n",
    "    .join(cnaes_df,estab_df.cnae_principal == cnaes_df.id_cnae,'inner')\n",
    "    .select(\n",
    "        'cnpj_basico',\n",
    "        'cnpj_ordem',\n",
    "        'cnpj_dv',\n",
    "        'identificador_matriz_filial',\n",
    "        'nome_fantasia',\n",
    "        'situacao_cadastral',\n",
    "        'data_situacao_cadastral',\n",
    "        'motivo_situacao_cadastral',\n",
    "        'nome_da_cidade_no_exterior',\n",
    "        'pais',\n",
    "        'data_inicio_atividade',\n",
    "        'cnae_principal',\n",
    "        col('descricao_cnae').alias('desc_cnae_principal'),\n",
    "        'cnae_secundaria',\n",
    "        'tipo_logradouro',\n",
    "        'logradouro',\n",
    "        'numero',\n",
    "        'complemento',\n",
    "        'bairro',\n",
    "        'cep',\n",
    "        'uf',\n",
    "        'municipio',\n",
    "        'ddd_1',\n",
    "        'tel_1',\n",
    "        'ddd_2',\n",
    "        'tel_2',\n",
    "        'ddd_fax',\n",
    "        'fax',\n",
    "        'correio_eletronico',\n",
    "        'situacao_especial',\n",
    "        'data_situacao_especial'   \n",
    "    )\n",
    "    \n",
    ")\n",
    "\n",
    "joined_df.show(truncate=False)"
   ]
  },
  {
   "attachments": {},
   "cell_type": "markdown",
   "metadata": {},
   "source": [
    "criando as tabelas sql"
   ]
  },
  {
   "cell_type": "code",
   "execution_count": 19,
   "metadata": {},
   "outputs": [],
   "source": [
    "\n",
    "estab_df.createOrReplaceTempView('estabelecimentos')\n",
    "joined_df.createOrReplaceTempView('joined')"
   ]
  },
  {
   "attachments": {},
   "cell_type": "markdown",
   "metadata": {},
   "source": [
    "Quantos estabelecimentos existem?"
   ]
  },
  {
   "cell_type": "code",
   "execution_count": 6,
   "metadata": {},
   "outputs": [
    {
     "name": "stderr",
     "output_type": "stream",
     "text": [
      "                                                                                \r"
     ]
    },
    {
     "data": {
      "text/plain": [
       "20996744"
      ]
     },
     "execution_count": 6,
     "metadata": {},
     "output_type": "execute_result"
    }
   ],
   "source": [
    "joined_df.count()"
   ]
  },
  {
   "attachments": {},
   "cell_type": "markdown",
   "metadata": {},
   "source": [
    "Na tabela de estabelecimentos, quantas colunas existem e quantas são\n",
    "identificadas pelo spark como números? (Use inferSchema ao ler os arquivos).\n",
    "\n",
    "resposta: 30 13"
   ]
  },
  {
   "cell_type": "code",
   "execution_count": 7,
   "metadata": {},
   "outputs": [
    {
     "name": "stdout",
     "output_type": "stream",
     "text": [
      "root\n",
      " |-- cnpj_basico: integer (nullable = true)\n",
      " |-- cnpj_ordem: integer (nullable = true)\n",
      " |-- cnpj_dv: integer (nullable = true)\n",
      " |-- identificador_matriz_filial: integer (nullable = true)\n",
      " |-- nome_fantasia: string (nullable = true)\n",
      " |-- situacao_cadastral: integer (nullable = true)\n",
      " |-- data_situacao_cadastral: integer (nullable = true)\n",
      " |-- motivo_situacao_cadastral: integer (nullable = true)\n",
      " |-- nome_da_cidade_no_exterior: string (nullable = true)\n",
      " |-- pais: integer (nullable = true)\n",
      " |-- data_inicio_atividade: integer (nullable = true)\n",
      " |-- cnae_principal: integer (nullable = true)\n",
      " |-- cnae_secundaria: string (nullable = true)\n",
      " |-- tipo_logradouro: string (nullable = true)\n",
      " |-- logradouro: string (nullable = true)\n",
      " |-- numero: string (nullable = true)\n",
      " |-- complemento: string (nullable = true)\n",
      " |-- bairro: string (nullable = true)\n",
      " |-- cep: string (nullable = true)\n",
      " |-- uf: string (nullable = true)\n",
      " |-- municipio: integer (nullable = true)\n",
      " |-- ddd_1: string (nullable = true)\n",
      " |-- tel_1: string (nullable = true)\n",
      " |-- ddd_2: string (nullable = true)\n",
      " |-- tel_2: string (nullable = true)\n",
      " |-- ddd_fax: double (nullable = true)\n",
      " |-- fax: string (nullable = true)\n",
      " |-- correio_eletronico: string (nullable = true)\n",
      " |-- situacao_especial: string (nullable = true)\n",
      " |-- data_situacao_especial: integer (nullable = true)\n",
      "\n"
     ]
    }
   ],
   "source": [
    "estab_df.printSchema()"
   ]
  },
  {
   "attachments": {},
   "cell_type": "markdown",
   "metadata": {},
   "source": [
    "Vamos usar Spark SQL para obter algumas contagens. Primeiro, vamos ver\n",
    "quantos estabelecimentos não tem logradouro cadastrado.\n",
    "Use\n",
    "estabelecimentos_df.createTempView(\"estabelecimentos\")\n",
    "para criar uma tabela temporária de logradouros e depois execute uma consulta\n",
    "SQL como “SELECT COUNT(*) FROM estabelecimentos WHERE\n",
    "LOGRADOURO IS NULL” para contar"
   ]
  },
  {
   "cell_type": "code",
   "execution_count": 21,
   "metadata": {},
   "outputs": [
    {
     "name": "stderr",
     "output_type": "stream",
     "text": [
      "[Stage 34:================================================>       (13 + 2) / 15]\r"
     ]
    },
    {
     "name": "stdout",
     "output_type": "stream",
     "text": [
      "+--------+\n",
      "|count(1)|\n",
      "+--------+\n",
      "|828     |\n",
      "+--------+\n",
      "\n"
     ]
    },
    {
     "name": "stderr",
     "output_type": "stream",
     "text": [
      "                                                                                \r"
     ]
    }
   ],
   "source": [
    "(\n",
    "    spark\n",
    "    .sql('select count(*) from joined where logradouro is null')\n",
    "    .show(truncate=False)\n",
    ")"
   ]
  },
  {
   "attachments": {},
   "cell_type": "markdown",
   "metadata": {},
   "source": [
    "Em muitos casos, as UDFs (funções definidas pelo usuário) são uma forma muito\n",
    "conveniente de implementar uma lógica dentro de uma função python e chamá-la\n",
    "dentro de uma consulta SQL. Vamos fazer isso para computar quantos\n",
    "estabelecimento têm um logradouro cujo endereço é uma AVENIDA.\n",
    "Crie uma função em Python “def is_avenida(logradouro):” que recebe um\n",
    "logradouro e decide se ele é uma avenida ou não. Dica: Use startswith() e fique\n",
    "atento ao resultado da questão anterior, pois ele pode impactar a lógica da sua\n",
    "função. Esteja atento a maiúsculas e minúsculas.\n",
    "Em seguida, use Spark SQL para executar uma consulta como \"SELECT\n",
    "COUNT(*) FROM estabelecimentos WHERE is_avenida(LOGRADOURO) == True” para contar quantos estabelecimentos ficam localizados em uma avenida."
   ]
  },
  {
   "cell_type": "code",
   "execution_count": 9,
   "metadata": {},
   "outputs": [
    {
     "data": {
      "text/plain": [
       "<function __main__.is_avenida(place)>"
      ]
     },
     "execution_count": 9,
     "metadata": {},
     "output_type": "execute_result"
    }
   ],
   "source": [
    "#função que verifica se logradouro é avenida\n",
    "def is_avenida(place):\n",
    "    if(place.startswith('avenida') == True):\n",
    "        return True\n",
    "    return False\n",
    "    \n",
    "#registrando a função no spark\n",
    "spark.udf.register('is_avenida',is_avenida)\n",
    "\n",
    "\n",
    "\n",
    "#(lambda text: is_avenida(text))\n"
   ]
  },
  {
   "cell_type": "code",
   "execution_count": 22,
   "metadata": {},
   "outputs": [
    {
     "name": "stderr",
     "output_type": "stream",
     "text": [
      "[Stage 38:====================================================>   (14 + 1) / 15]\r"
     ]
    },
    {
     "name": "stdout",
     "output_type": "stream",
     "text": [
      "+--------------+\n",
      "|total_avenidas|\n",
      "+--------------+\n",
      "|52587         |\n",
      "+--------------+\n",
      "\n"
     ]
    },
    {
     "name": "stderr",
     "output_type": "stream",
     "text": [
      "                                                                                \r"
     ]
    }
   ],
   "source": [
    "(\n",
    "    spark\n",
    "    .sql('select count(*) as total_avenidas from \\\n",
    "               (select * from joined where logradouro is not null) as subQuery \\\n",
    "               where is_avenida(lower(logradouro)) == True')\n",
    "    .show(truncate=False)\n",
    "\n",
    ")"
   ]
  },
  {
   "attachments": {},
   "cell_type": "markdown",
   "metadata": {},
   "source": [
    "Quantos CEPs distintos existem entre os estabelecimentos?\n",
    "\n",
    "(no exercicio aparece o valor 889886 provavelmente esta errado)"
   ]
  },
  {
   "cell_type": "code",
   "execution_count": 23,
   "metadata": {},
   "outputs": [
    {
     "name": "stderr",
     "output_type": "stream",
     "text": [
      "[Stage 44:=============================>                            (2 + 2) / 4]\r"
     ]
    },
    {
     "name": "stdout",
     "output_type": "stream",
     "text": [
      "+-------------------+\n",
      "|count(DISTINCT cep)|\n",
      "+-------------------+\n",
      "|             889885|\n",
      "+-------------------+\n",
      "\n"
     ]
    },
    {
     "name": "stderr",
     "output_type": "stream",
     "text": [
      "                                                                                \r"
     ]
    }
   ],
   "source": [
    "(\n",
    "    spark\n",
    "    .sql('select count(distinct(cep)) from joined')\n",
    "    .show()\n",
    ")"
   ]
  },
  {
   "attachments": {},
   "cell_type": "markdown",
   "metadata": {},
   "source": [
    "Quantos CNAEs existem na tabela de CNAES?"
   ]
  },
  {
   "cell_type": "code",
   "execution_count": 16,
   "metadata": {},
   "outputs": [
    {
     "name": "stdout",
     "output_type": "stream",
     "text": [
      "+-------+-----+\n",
      "|id_cnae|count|\n",
      "+-------+-----+\n",
      "| 113000|    1|\n",
      "|1041400|    1|\n",
      "|4322301|    1|\n",
      "|7733100|    1|\n",
      "|8730199|    1|\n",
      "| 119907|    1|\n",
      "|2013400|    1|\n",
      "|2052500|    1|\n",
      "|2449103|    1|\n",
      "|3839499|    1|\n",
      "+-------+-----+\n",
      "only showing top 10 rows\n",
      "\n"
     ]
    }
   ],
   "source": [
    "#checando se existem valores duplicados.\n",
    "\n",
    "(\n",
    "    cnaes_df\n",
    "    .groupBy('id_cnae')\n",
    "    .count()\n",
    "    .sort(col('count').desc())\n",
    "    .show(10)\n",
    "\n",
    ")\n"
   ]
  },
  {
   "cell_type": "code",
   "execution_count": 17,
   "metadata": {},
   "outputs": [
    {
     "data": {
      "text/plain": [
       "1359"
      ]
     },
     "execution_count": 17,
     "metadata": {},
     "output_type": "execute_result"
    }
   ],
   "source": [
    "cnaes_df.count()"
   ]
  },
  {
   "attachments": {},
   "cell_type": "markdown",
   "metadata": {},
   "source": [
    "Vários CNAEs são de cultivo, como “cultivo de milho”, “cultivo de trigo” e “cultivo\n",
    "de arroz” Quantos estabelecimentos possuem um CNAE relacionado a cultivo?\n",
    "Dicas: use a operação JOIN para criar uma dataframe que tem os\n",
    "estabelecimentos e as descrições de seus CNAES. Crie uma UDF que verifica se\n",
    "a descrição do CNAE é sobre cultivo; e usar Spark SQL para escrever uma\n",
    "consulta como “SELECT COUNT(*) from estabelecimentos_with_cnae WHERE\n",
    "is_cnae_cultivo(DESCRICAO_CNAE) == True”."
   ]
  },
  {
   "cell_type": "code",
   "execution_count": 18,
   "metadata": {},
   "outputs": [
    {
     "data": {
      "text/plain": [
       "<function __main__.is_cultivo(word)>"
      ]
     },
     "execution_count": 18,
     "metadata": {},
     "output_type": "execute_result"
    }
   ],
   "source": [
    "#função que verifica se cnae é relacionado a cultivo\n",
    "def is_cultivo(word):\n",
    "    if(word.startswith('cultivo') == True):\n",
    "        return True\n",
    "    return False\n",
    "    \n",
    "#registrando a função no spark\n",
    "spark.udf.register('is_cultivo',is_cultivo)\n"
   ]
  },
  {
   "cell_type": "code",
   "execution_count": 25,
   "metadata": {},
   "outputs": [
    {
     "name": "stderr",
     "output_type": "stream",
     "text": [
      "[Stage 51:============================================>           (12 + 3) / 15]\r"
     ]
    },
    {
     "name": "stdout",
     "output_type": "stream",
     "text": [
      "+-------------+\n",
      "|total_cultivo|\n",
      "+-------------+\n",
      "|200243       |\n",
      "+-------------+\n",
      "\n"
     ]
    },
    {
     "name": "stderr",
     "output_type": "stream",
     "text": [
      "                                                                                \r"
     ]
    }
   ],
   "source": [
    "(\n",
    "    spark\n",
    "    .sql('select count(*) as total_cultivo from joined where is_cultivo(lower(desc_cnae_principal)) == True')\n",
    "    .show(truncate=False)\n",
    "\n",
    ")"
   ]
  },
  {
   "attachments": {},
   "cell_type": "markdown",
   "metadata": {},
   "source": [
    "Quantos estabelecimentos são filiais? Consulte o dicionário dos dados e use\n",
    "Spark SQL."
   ]
  },
  {
   "cell_type": "code",
   "execution_count": 28,
   "metadata": {},
   "outputs": [
    {
     "name": "stdout",
     "output_type": "stream",
     "text": [
      "+-------------+\n",
      "|count_filiais|\n",
      "+-------------+\n",
      "|1093082      |\n",
      "+-------------+\n",
      "\n"
     ]
    },
    {
     "name": "stderr",
     "output_type": "stream",
     "text": [
      "                                                                                \r"
     ]
    }
   ],
   "source": [
    "(\n",
    "    spark\n",
    "    .sql('select count(*) as count_filiais from joined where identificador_matriz_filial == 2 ')\n",
    "    .show(truncate=False)\n",
    ")"
   ]
  }
 ],
 "metadata": {
  "kernelspec": {
   "display_name": "base",
   "language": "python",
   "name": "python3"
  },
  "language_info": {
   "codemirror_mode": {
    "name": "ipython",
    "version": 3
   },
   "file_extension": ".py",
   "mimetype": "text/x-python",
   "name": "python",
   "nbconvert_exporter": "python",
   "pygments_lexer": "ipython3",
   "version": "3.9.16"
  },
  "orig_nbformat": 4
 },
 "nbformat": 4,
 "nbformat_minor": 2
}
