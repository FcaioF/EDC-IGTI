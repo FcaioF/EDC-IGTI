{
 "cells": [
  {
   "cell_type": "code",
   "execution_count": 68,
   "metadata": {},
   "outputs": [],
   "source": [
    "#imports\n",
    "from pyspark.sql import SparkSession\n",
    "from pyspark.sql.functions import * \n",
    "from pyspark.sql.types import *\n",
    "from pyspark.sql.functions import lit\n",
    "import os"
   ]
  },
  {
   "cell_type": "code",
   "execution_count": 73,
   "metadata": {},
   "outputs": [],
   "source": [
    "#instanciando spark \n",
    "spark = SparkSession.builder \\\n",
    "    .master('local[2]') \\\n",
    "    .appName('desafio') \\\n",
    "    .config('spark.ui.port', '4050') \\\n",
    "    .getOrCreate()"
   ]
  },
  {
   "cell_type": "code",
   "execution_count": 55,
   "metadata": {},
   "outputs": [],
   "source": [
    "#diretorios de trabalho\n",
    "raw_enade = 'D://caiof//Documents//GIT_Repos//EDC-IGTI//Modulo 3//base_dados//base_desafio2//microdados_enade_2017_LGPD//raw_data//'\n",
    "stage_enade = 'D://caiof//Documents//GIT_Repos//EDC-IGTI//Modulo 3//base_dados//base_desafio2//microdados_enade_2017_LGPD//stage_data'\n"
   ]
  },
  {
   "cell_type": "code",
   "execution_count": 89,
   "metadata": {},
   "outputs": [
    {
     "name": "stdout",
     "output_type": "stream",
     "text": [
      "request --> D://caiof//Documents//GIT_Repos//EDC-IGTI//Modulo 3//base_dados//base_desafio2//microdados_enade_2017_LGPD//raw_data//microdados2017_arq1.txt\n",
      "done --> D://caiof//Documents//GIT_Repos//EDC-IGTI//Modulo 3//base_dados//base_desafio2//microdados_enade_2017_LGPD//stage_data//microdados2017_arq1\n",
      "request --> D://caiof//Documents//GIT_Repos//EDC-IGTI//Modulo 3//base_dados//base_desafio2//microdados_enade_2017_LGPD//raw_data//microdados2017_arq10.txt\n",
      "done --> D://caiof//Documents//GIT_Repos//EDC-IGTI//Modulo 3//base_dados//base_desafio2//microdados_enade_2017_LGPD//stage_data//microdados2017_arq10\n",
      "request --> D://caiof//Documents//GIT_Repos//EDC-IGTI//Modulo 3//base_dados//base_desafio2//microdados_enade_2017_LGPD//raw_data//microdados2017_arq11.txt\n",
      "done --> D://caiof//Documents//GIT_Repos//EDC-IGTI//Modulo 3//base_dados//base_desafio2//microdados_enade_2017_LGPD//stage_data//microdados2017_arq11\n",
      "request --> D://caiof//Documents//GIT_Repos//EDC-IGTI//Modulo 3//base_dados//base_desafio2//microdados_enade_2017_LGPD//raw_data//microdados2017_arq12.txt\n",
      "done --> D://caiof//Documents//GIT_Repos//EDC-IGTI//Modulo 3//base_dados//base_desafio2//microdados_enade_2017_LGPD//stage_data//microdados2017_arq12\n",
      "request --> D://caiof//Documents//GIT_Repos//EDC-IGTI//Modulo 3//base_dados//base_desafio2//microdados_enade_2017_LGPD//raw_data//microdados2017_arq13.txt\n",
      "done --> D://caiof//Documents//GIT_Repos//EDC-IGTI//Modulo 3//base_dados//base_desafio2//microdados_enade_2017_LGPD//stage_data//microdados2017_arq13\n",
      "request --> D://caiof//Documents//GIT_Repos//EDC-IGTI//Modulo 3//base_dados//base_desafio2//microdados_enade_2017_LGPD//raw_data//microdados2017_arq14.txt\n",
      "done --> D://caiof//Documents//GIT_Repos//EDC-IGTI//Modulo 3//base_dados//base_desafio2//microdados_enade_2017_LGPD//stage_data//microdados2017_arq14\n",
      "request --> D://caiof//Documents//GIT_Repos//EDC-IGTI//Modulo 3//base_dados//base_desafio2//microdados_enade_2017_LGPD//raw_data//microdados2017_arq15.txt\n",
      "done --> D://caiof//Documents//GIT_Repos//EDC-IGTI//Modulo 3//base_dados//base_desafio2//microdados_enade_2017_LGPD//stage_data//microdados2017_arq15\n",
      "request --> D://caiof//Documents//GIT_Repos//EDC-IGTI//Modulo 3//base_dados//base_desafio2//microdados_enade_2017_LGPD//raw_data//microdados2017_arq16.txt\n",
      "done --> D://caiof//Documents//GIT_Repos//EDC-IGTI//Modulo 3//base_dados//base_desafio2//microdados_enade_2017_LGPD//stage_data//microdados2017_arq16\n",
      "request --> D://caiof//Documents//GIT_Repos//EDC-IGTI//Modulo 3//base_dados//base_desafio2//microdados_enade_2017_LGPD//raw_data//microdados2017_arq17.txt\n",
      "done --> D://caiof//Documents//GIT_Repos//EDC-IGTI//Modulo 3//base_dados//base_desafio2//microdados_enade_2017_LGPD//stage_data//microdados2017_arq17\n",
      "request --> D://caiof//Documents//GIT_Repos//EDC-IGTI//Modulo 3//base_dados//base_desafio2//microdados_enade_2017_LGPD//raw_data//microdados2017_arq18.txt\n",
      "done --> D://caiof//Documents//GIT_Repos//EDC-IGTI//Modulo 3//base_dados//base_desafio2//microdados_enade_2017_LGPD//stage_data//microdados2017_arq18\n",
      "request --> D://caiof//Documents//GIT_Repos//EDC-IGTI//Modulo 3//base_dados//base_desafio2//microdados_enade_2017_LGPD//raw_data//microdados2017_arq19.txt\n",
      "done --> D://caiof//Documents//GIT_Repos//EDC-IGTI//Modulo 3//base_dados//base_desafio2//microdados_enade_2017_LGPD//stage_data//microdados2017_arq19\n",
      "request --> D://caiof//Documents//GIT_Repos//EDC-IGTI//Modulo 3//base_dados//base_desafio2//microdados_enade_2017_LGPD//raw_data//microdados2017_arq2.txt\n",
      "done --> D://caiof//Documents//GIT_Repos//EDC-IGTI//Modulo 3//base_dados//base_desafio2//microdados_enade_2017_LGPD//stage_data//microdados2017_arq2\n",
      "request --> D://caiof//Documents//GIT_Repos//EDC-IGTI//Modulo 3//base_dados//base_desafio2//microdados_enade_2017_LGPD//raw_data//microdados2017_arq20.txt\n",
      "done --> D://caiof//Documents//GIT_Repos//EDC-IGTI//Modulo 3//base_dados//base_desafio2//microdados_enade_2017_LGPD//stage_data//microdados2017_arq20\n",
      "request --> D://caiof//Documents//GIT_Repos//EDC-IGTI//Modulo 3//base_dados//base_desafio2//microdados_enade_2017_LGPD//raw_data//microdados2017_arq21.txt\n",
      "done --> D://caiof//Documents//GIT_Repos//EDC-IGTI//Modulo 3//base_dados//base_desafio2//microdados_enade_2017_LGPD//stage_data//microdados2017_arq21\n",
      "request --> D://caiof//Documents//GIT_Repos//EDC-IGTI//Modulo 3//base_dados//base_desafio2//microdados_enade_2017_LGPD//raw_data//microdados2017_arq22.txt\n",
      "done --> D://caiof//Documents//GIT_Repos//EDC-IGTI//Modulo 3//base_dados//base_desafio2//microdados_enade_2017_LGPD//stage_data//microdados2017_arq22\n",
      "request --> D://caiof//Documents//GIT_Repos//EDC-IGTI//Modulo 3//base_dados//base_desafio2//microdados_enade_2017_LGPD//raw_data//microdados2017_arq23.txt\n",
      "done --> D://caiof//Documents//GIT_Repos//EDC-IGTI//Modulo 3//base_dados//base_desafio2//microdados_enade_2017_LGPD//stage_data//microdados2017_arq23\n",
      "request --> D://caiof//Documents//GIT_Repos//EDC-IGTI//Modulo 3//base_dados//base_desafio2//microdados_enade_2017_LGPD//raw_data//microdados2017_arq24.txt\n",
      "done --> D://caiof//Documents//GIT_Repos//EDC-IGTI//Modulo 3//base_dados//base_desafio2//microdados_enade_2017_LGPD//stage_data//microdados2017_arq24\n",
      "request --> D://caiof//Documents//GIT_Repos//EDC-IGTI//Modulo 3//base_dados//base_desafio2//microdados_enade_2017_LGPD//raw_data//microdados2017_arq25.txt\n",
      "done --> D://caiof//Documents//GIT_Repos//EDC-IGTI//Modulo 3//base_dados//base_desafio2//microdados_enade_2017_LGPD//stage_data//microdados2017_arq25\n",
      "request --> D://caiof//Documents//GIT_Repos//EDC-IGTI//Modulo 3//base_dados//base_desafio2//microdados_enade_2017_LGPD//raw_data//microdados2017_arq26.txt\n",
      "done --> D://caiof//Documents//GIT_Repos//EDC-IGTI//Modulo 3//base_dados//base_desafio2//microdados_enade_2017_LGPD//stage_data//microdados2017_arq26\n",
      "request --> D://caiof//Documents//GIT_Repos//EDC-IGTI//Modulo 3//base_dados//base_desafio2//microdados_enade_2017_LGPD//raw_data//microdados2017_arq27.txt\n",
      "done --> D://caiof//Documents//GIT_Repos//EDC-IGTI//Modulo 3//base_dados//base_desafio2//microdados_enade_2017_LGPD//stage_data//microdados2017_arq27\n",
      "request --> D://caiof//Documents//GIT_Repos//EDC-IGTI//Modulo 3//base_dados//base_desafio2//microdados_enade_2017_LGPD//raw_data//microdados2017_arq28.txt\n",
      "done --> D://caiof//Documents//GIT_Repos//EDC-IGTI//Modulo 3//base_dados//base_desafio2//microdados_enade_2017_LGPD//stage_data//microdados2017_arq28\n",
      "request --> D://caiof//Documents//GIT_Repos//EDC-IGTI//Modulo 3//base_dados//base_desafio2//microdados_enade_2017_LGPD//raw_data//microdados2017_arq29.txt\n",
      "done --> D://caiof//Documents//GIT_Repos//EDC-IGTI//Modulo 3//base_dados//base_desafio2//microdados_enade_2017_LGPD//stage_data//microdados2017_arq29\n",
      "request --> D://caiof//Documents//GIT_Repos//EDC-IGTI//Modulo 3//base_dados//base_desafio2//microdados_enade_2017_LGPD//raw_data//microdados2017_arq3.txt\n",
      "done --> D://caiof//Documents//GIT_Repos//EDC-IGTI//Modulo 3//base_dados//base_desafio2//microdados_enade_2017_LGPD//stage_data//microdados2017_arq3\n",
      "request --> D://caiof//Documents//GIT_Repos//EDC-IGTI//Modulo 3//base_dados//base_desafio2//microdados_enade_2017_LGPD//raw_data//microdados2017_arq30.txt\n",
      "done --> D://caiof//Documents//GIT_Repos//EDC-IGTI//Modulo 3//base_dados//base_desafio2//microdados_enade_2017_LGPD//stage_data//microdados2017_arq30\n",
      "request --> D://caiof//Documents//GIT_Repos//EDC-IGTI//Modulo 3//base_dados//base_desafio2//microdados_enade_2017_LGPD//raw_data//microdados2017_arq31.txt\n",
      "done --> D://caiof//Documents//GIT_Repos//EDC-IGTI//Modulo 3//base_dados//base_desafio2//microdados_enade_2017_LGPD//stage_data//microdados2017_arq31\n",
      "request --> D://caiof//Documents//GIT_Repos//EDC-IGTI//Modulo 3//base_dados//base_desafio2//microdados_enade_2017_LGPD//raw_data//microdados2017_arq32.txt\n",
      "done --> D://caiof//Documents//GIT_Repos//EDC-IGTI//Modulo 3//base_dados//base_desafio2//microdados_enade_2017_LGPD//stage_data//microdados2017_arq32\n",
      "request --> D://caiof//Documents//GIT_Repos//EDC-IGTI//Modulo 3//base_dados//base_desafio2//microdados_enade_2017_LGPD//raw_data//microdados2017_arq33.txt\n",
      "done --> D://caiof//Documents//GIT_Repos//EDC-IGTI//Modulo 3//base_dados//base_desafio2//microdados_enade_2017_LGPD//stage_data//microdados2017_arq33\n",
      "request --> D://caiof//Documents//GIT_Repos//EDC-IGTI//Modulo 3//base_dados//base_desafio2//microdados_enade_2017_LGPD//raw_data//microdados2017_arq34.txt\n",
      "done --> D://caiof//Documents//GIT_Repos//EDC-IGTI//Modulo 3//base_dados//base_desafio2//microdados_enade_2017_LGPD//stage_data//microdados2017_arq34\n",
      "request --> D://caiof//Documents//GIT_Repos//EDC-IGTI//Modulo 3//base_dados//base_desafio2//microdados_enade_2017_LGPD//raw_data//microdados2017_arq35.txt\n",
      "done --> D://caiof//Documents//GIT_Repos//EDC-IGTI//Modulo 3//base_dados//base_desafio2//microdados_enade_2017_LGPD//stage_data//microdados2017_arq35\n",
      "request --> D://caiof//Documents//GIT_Repos//EDC-IGTI//Modulo 3//base_dados//base_desafio2//microdados_enade_2017_LGPD//raw_data//microdados2017_arq36.txt\n",
      "done --> D://caiof//Documents//GIT_Repos//EDC-IGTI//Modulo 3//base_dados//base_desafio2//microdados_enade_2017_LGPD//stage_data//microdados2017_arq36\n",
      "request --> D://caiof//Documents//GIT_Repos//EDC-IGTI//Modulo 3//base_dados//base_desafio2//microdados_enade_2017_LGPD//raw_data//microdados2017_arq37.txt\n",
      "done --> D://caiof//Documents//GIT_Repos//EDC-IGTI//Modulo 3//base_dados//base_desafio2//microdados_enade_2017_LGPD//stage_data//microdados2017_arq37\n",
      "request --> D://caiof//Documents//GIT_Repos//EDC-IGTI//Modulo 3//base_dados//base_desafio2//microdados_enade_2017_LGPD//raw_data//microdados2017_arq38.txt\n",
      "done --> D://caiof//Documents//GIT_Repos//EDC-IGTI//Modulo 3//base_dados//base_desafio2//microdados_enade_2017_LGPD//stage_data//microdados2017_arq38\n",
      "request --> D://caiof//Documents//GIT_Repos//EDC-IGTI//Modulo 3//base_dados//base_desafio2//microdados_enade_2017_LGPD//raw_data//microdados2017_arq39.txt\n",
      "done --> D://caiof//Documents//GIT_Repos//EDC-IGTI//Modulo 3//base_dados//base_desafio2//microdados_enade_2017_LGPD//stage_data//microdados2017_arq39\n",
      "request --> D://caiof//Documents//GIT_Repos//EDC-IGTI//Modulo 3//base_dados//base_desafio2//microdados_enade_2017_LGPD//raw_data//microdados2017_arq4.txt\n",
      "done --> D://caiof//Documents//GIT_Repos//EDC-IGTI//Modulo 3//base_dados//base_desafio2//microdados_enade_2017_LGPD//stage_data//microdados2017_arq4\n",
      "request --> D://caiof//Documents//GIT_Repos//EDC-IGTI//Modulo 3//base_dados//base_desafio2//microdados_enade_2017_LGPD//raw_data//microdados2017_arq40.txt\n",
      "done --> D://caiof//Documents//GIT_Repos//EDC-IGTI//Modulo 3//base_dados//base_desafio2//microdados_enade_2017_LGPD//stage_data//microdados2017_arq40\n",
      "request --> D://caiof//Documents//GIT_Repos//EDC-IGTI//Modulo 3//base_dados//base_desafio2//microdados_enade_2017_LGPD//raw_data//microdados2017_arq41.txt\n",
      "done --> D://caiof//Documents//GIT_Repos//EDC-IGTI//Modulo 3//base_dados//base_desafio2//microdados_enade_2017_LGPD//stage_data//microdados2017_arq41\n",
      "request --> D://caiof//Documents//GIT_Repos//EDC-IGTI//Modulo 3//base_dados//base_desafio2//microdados_enade_2017_LGPD//raw_data//microdados2017_arq42.txt\n",
      "done --> D://caiof//Documents//GIT_Repos//EDC-IGTI//Modulo 3//base_dados//base_desafio2//microdados_enade_2017_LGPD//stage_data//microdados2017_arq42\n",
      "request --> D://caiof//Documents//GIT_Repos//EDC-IGTI//Modulo 3//base_dados//base_desafio2//microdados_enade_2017_LGPD//raw_data//microdados2017_arq5.txt\n",
      "done --> D://caiof//Documents//GIT_Repos//EDC-IGTI//Modulo 3//base_dados//base_desafio2//microdados_enade_2017_LGPD//stage_data//microdados2017_arq5\n",
      "request --> D://caiof//Documents//GIT_Repos//EDC-IGTI//Modulo 3//base_dados//base_desafio2//microdados_enade_2017_LGPD//raw_data//microdados2017_arq6.txt\n",
      "done --> D://caiof//Documents//GIT_Repos//EDC-IGTI//Modulo 3//base_dados//base_desafio2//microdados_enade_2017_LGPD//stage_data//microdados2017_arq6\n",
      "request --> D://caiof//Documents//GIT_Repos//EDC-IGTI//Modulo 3//base_dados//base_desafio2//microdados_enade_2017_LGPD//raw_data//microdados2017_arq7.txt\n",
      "done --> D://caiof//Documents//GIT_Repos//EDC-IGTI//Modulo 3//base_dados//base_desafio2//microdados_enade_2017_LGPD//stage_data//microdados2017_arq7\n",
      "request --> D://caiof//Documents//GIT_Repos//EDC-IGTI//Modulo 3//base_dados//base_desafio2//microdados_enade_2017_LGPD//raw_data//microdados2017_arq8.txt\n",
      "done --> D://caiof//Documents//GIT_Repos//EDC-IGTI//Modulo 3//base_dados//base_desafio2//microdados_enade_2017_LGPD//stage_data//microdados2017_arq8\n",
      "request --> D://caiof//Documents//GIT_Repos//EDC-IGTI//Modulo 3//base_dados//base_desafio2//microdados_enade_2017_LGPD//raw_data//microdados2017_arq9.txt\n",
      "done --> D://caiof//Documents//GIT_Repos//EDC-IGTI//Modulo 3//base_dados//base_desafio2//microdados_enade_2017_LGPD//stage_data//microdados2017_arq9\n",
      "all done!\n"
     ]
    }
   ],
   "source": [
    "def to_parquet(src,trgt):\n",
    "    print(f'request --> {src}')\n",
    "    (\n",
    "        spark\n",
    "        .read\n",
    "        .option('header',True)\n",
    "        .option('inferSchema',True)\n",
    "        .option('delimiter',';')\n",
    "        .option('encoding','ISO-8859-1')\n",
    "        .csv(src)\n",
    "        .write\n",
    "        .mode('overwrite')\n",
    "        .format('parquet')\n",
    "        .save(trgt)\n",
    "    )\n",
    "    print(f'done --> {trgt}')\n",
    "\n",
    "\n",
    "enade_files = os.listdir(raw_enade)\n",
    "\n",
    "for i in enade_files:\n",
    "\n",
    "    src_path = (f'{raw_enade}{i}')\n",
    "    trgt_path = (f'{stage_enade}{i}').replace('.txt','')\n",
    "    to_parquet(src_path,trgt_path)\n",
    "print('all done!')\n",
    " \n",
    "    "
   ]
  },
  {
   "cell_type": "code",
   "execution_count": 91,
   "metadata": {},
   "outputs": [],
   "source": [
    "spark.stop()"
   ]
  },
  {
   "cell_type": "code",
   "execution_count": null,
   "metadata": {},
   "outputs": [],
   "source": []
  }
 ],
 "metadata": {
  "kernelspec": {
   "display_name": "base",
   "language": "python",
   "name": "python3"
  },
  "language_info": {
   "codemirror_mode": {
    "name": "ipython",
    "version": 3
   },
   "file_extension": ".py",
   "mimetype": "text/x-python",
   "name": "python",
   "nbconvert_exporter": "python",
   "pygments_lexer": "ipython3",
   "version": "3.10.11"
  },
  "orig_nbformat": 4
 },
 "nbformat": 4,
 "nbformat_minor": 2
}
